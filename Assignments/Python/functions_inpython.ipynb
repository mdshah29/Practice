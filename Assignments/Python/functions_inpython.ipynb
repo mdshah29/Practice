{
 "cells": [
  {
   "cell_type": "code",
   "execution_count": 1,
   "metadata": {},
   "outputs": [],
   "source": [
    "# Functions in Python \n",
    "\n",
    "- predefined\n",
    "- userdefined"
   ]
  },
  {
   "cell_type": "code",
   "execution_count": 4,
   "metadata": {},
   "outputs": [
    {
     "name": "stdout",
     "output_type": "stream",
     "text": [
      "11\n"
     ]
    }
   ],
   "source": [
    "a =5\n",
    "b =6\n",
    "\n",
    "# create a function to find the sum of a and b\n",
    "\n",
    "def addition(a,b):\n",
    "    return (a+b)\n",
    "\n",
    "print (addition(a,b))\n"
   ]
  },
  {
   "cell_type": "code",
   "execution_count": 6,
   "metadata": {},
   "outputs": [
    {
     "name": "stdout",
     "output_type": "stream",
     "text": [
      "-1\n"
     ]
    }
   ],
   "source": [
    "def substract(a,b):\n",
    "    return (a-b)\n",
    "\n",
    "print (substract(a,b))"
   ]
  },
  {
   "cell_type": "code",
   "execution_count": 7,
   "metadata": {},
   "outputs": [
    {
     "name": "stdout",
     "output_type": "stream",
     "text": [
      "325\n",
      "1625\n",
      "1045\n"
     ]
    }
   ],
   "source": [
    "#### Write program to find the sum of numbers starting from 1 to 25, 50 to 75 and 90 to 100 using three different for loops\n",
    "\n",
    "# use for loop first and then functions \n",
    "\n",
    "first_25 = 0\n",
    "for i in range(1,26):\n",
    "    first_25 += i\n",
    "    \n",
    "print (first_25)\n",
    "\n",
    "second_25 = 0\n",
    "for i in range(50,76):\n",
    "    second_25 += i\n",
    "    \n",
    "print (second_25)\n",
    "\n",
    "third = 0\n",
    "for i in range(90,101):\n",
    "    third += i\n",
    "    \n",
    "print (third)\n",
    "\n",
    "\n"
   ]
  },
  {
   "cell_type": "code",
   "execution_count": 11,
   "metadata": {},
   "outputs": [
    {
     "name": "stdout",
     "output_type": "stream",
     "text": [
      "addition of num in range 1,25 is : 325\n",
      "addition of num in range 50,75 is: 1625\n",
      "addition of num in range 90,100 is: 1045\n"
     ]
    }
   ],
   "source": [
    "# with function\n",
    "\n",
    "def additionrange(a,b):\n",
    "    addnum = 0\n",
    "    for i in range(a,b+1):\n",
    "        addnum += i\n",
    "    return addnum\n",
    "        \n",
    "print (\"addition of num in range 1,25 is :\",additionrange(1,25))\n",
    "print (\"addition of num in range 50,75 is:\",additionrange(50,75))\n",
    "print (\"addition of num in range 90,100 is:\",additionrange(90,100))\n"
   ]
  },
  {
   "cell_type": "code",
   "execution_count": 16,
   "metadata": {},
   "outputs": [
    {
     "name": "stdout",
     "output_type": "stream",
     "text": [
      "square num 25\n"
     ]
    }
   ],
   "source": [
    "# write a fun which gives square of the number\n",
    "\n",
    "def square(a):\n",
    "    x = a*a\n",
    "    print (\"square num {}\".format(x))\n",
    "\n",
    "square(5)"
   ]
  },
  {
   "cell_type": "code",
   "execution_count": 3,
   "metadata": {},
   "outputs": [
    {
     "name": "stdout",
     "output_type": "stream",
     "text": [
      "square and cube of a num is  (81, 729)\n"
     ]
    }
   ],
   "source": [
    "# write a fun which gives square and cube of the number\n",
    "\n",
    "def fn(a):\n",
    "    return a*a,a*a*a\n",
    "\n",
    "print (\"square and cube of a num is \",fn(9))"
   ]
  },
  {
   "cell_type": "markdown",
   "metadata": {},
   "source": [
    "## parameters and arguments "
   ]
  },
  {
   "cell_type": "code",
   "execution_count": 2,
   "metadata": {},
   "outputs": [
    {
     "name": "stdout",
     "output_type": "stream",
     "text": [
      "37 to the power of 4 is 1874161.\n"
     ]
    }
   ],
   "source": [
    "# parameters and arguments \n",
    "\n",
    "def power(base,exponent):\n",
    "    result = base ** exponent\n",
    "    print (\"%d to the power of %d is %d.\" %(base,exponent,result))\n",
    "    \n",
    "power(37,4)  \n",
    "\n",
    "# %d is used as a placeholder for numeric or decimal values\n",
    "# The %d is for numbers and %s is for strings"
   ]
  },
  {
   "cell_type": "markdown",
   "metadata": {},
   "source": [
    "## Arguments"
   ]
  },
  {
   "cell_type": "code",
   "execution_count": 7,
   "metadata": {},
   "outputs": [
    {
     "name": "stdout",
     "output_type": "stream",
     "text": [
      "Meerabo is my first name and my age is 34\n"
     ]
    }
   ],
   "source": [
    "# Meerabo is my First name\n",
    "# shah is my last name\n",
    "\n",
    "FirstName = \"Meerabo\"\n",
    "LastName = \"Shah\"\n",
    "Age = 34\n",
    "print (\"%s is my first name and my age is %d\" %(FirstName,Age))\n"
   ]
  },
  {
   "cell_type": "markdown",
   "metadata": {},
   "source": [
    "# arguments are two types \n",
    "#e.g. Keywords and Positionals \n",
    "\n",
    "z = x +iy\n",
    "i want to create complex number 2 + 3i\n",
    "1. using the keyword arguments \n"
   ]
  },
  {
   "cell_type": "code",
   "execution_count": 9,
   "metadata": {},
   "outputs": [
    {
     "data": {
      "text/plain": [
       "(3+2j)"
      ]
     },
     "execution_count": 9,
     "metadata": {},
     "output_type": "execute_result"
    }
   ],
   "source": [
    "complex(real=3,imag=2)\n",
    "complex(imag=2,real=3)"
   ]
  },
  {
   "cell_type": "code",
   "execution_count": 10,
   "metadata": {},
   "outputs": [
    {
     "data": {
      "text/plain": [
       "(2+3j)"
      ]
     },
     "execution_count": 10,
     "metadata": {},
     "output_type": "execute_result"
    }
   ],
   "source": [
    "complex(2,3)"
   ]
  },
  {
   "cell_type": "code",
   "execution_count": 11,
   "metadata": {},
   "outputs": [
    {
     "data": {
      "text/plain": [
       "(3+2j)"
      ]
     },
     "execution_count": 11,
     "metadata": {},
     "output_type": "execute_result"
    }
   ],
   "source": [
    "complex(3,2)"
   ]
  },
  {
   "cell_type": "code",
   "execution_count": 14,
   "metadata": {},
   "outputs": [
    {
     "data": {
      "text/plain": [
       "(3+5j)"
      ]
     },
     "execution_count": 14,
     "metadata": {},
     "output_type": "execute_result"
    }
   ],
   "source": [
    "complex(**{'imag':5,'real':3})"
   ]
  },
  {
   "cell_type": "code",
   "execution_count": 16,
   "metadata": {},
   "outputs": [
    {
     "ename": "SyntaxError",
     "evalue": "positional argument follows keyword argument (<ipython-input-16-ff99e37eb291>, line 1)",
     "output_type": "error",
     "traceback": [
      "\u001b[1;36m  File \u001b[1;32m\"<ipython-input-16-ff99e37eb291>\"\u001b[1;36m, line \u001b[1;32m1\u001b[0m\n\u001b[1;33m    complex(imag=2,3)\u001b[0m\n\u001b[1;37m                  ^\u001b[0m\n\u001b[1;31mSyntaxError\u001b[0m\u001b[1;31m:\u001b[0m positional argument follows keyword argument\n"
     ]
    }
   ],
   "source": [
    "complex(imag=2,3)  # just to show positional argument follows keyword argument"
   ]
  },
  {
   "cell_type": "code",
   "execution_count": 18,
   "metadata": {},
   "outputs": [
    {
     "name": "stdout",
     "output_type": "stream",
     "text": [
      "MeeraboShah\n"
     ]
    }
   ],
   "source": [
    "def fullname (Firstname,LastName):\n",
    "    result = Firstname + LastName\n",
    "    return result\n",
    "\n",
    "print (fullname('Meerabo','Shah'))"
   ]
  },
  {
   "cell_type": "code",
   "execution_count": 22,
   "metadata": {},
   "outputs": [
    {
     "name": "stdout",
     "output_type": "stream",
     "text": [
      "place surat and pincode = 395005\n",
      "place 395005 and pincode = surat\n"
     ]
    }
   ],
   "source": [
    "# position matters here \n",
    "\n",
    "def positional_Arguments(place,pincode):\n",
    "    print (\"place {} and pincode = {}\".format(place,pincode))\n",
    "    \n",
    "positional_Arguments(\"surat\",395005)\n",
    "positional_Arguments(395005,\"surat\")\n",
    "\n"
   ]
  },
  {
   "cell_type": "code",
   "execution_count": 24,
   "metadata": {},
   "outputs": [
    {
     "name": "stdout",
     "output_type": "stream",
     "text": [
      "place surat and pincode = 395005\n",
      "place surat and pincode = 395005\n"
     ]
    }
   ],
   "source": [
    "# if we pass with keywords then position doesnt matter\n",
    "\n",
    "def positional_Arguments(place,pincode):\n",
    "    print (\"place {} and pincode = {}\".format(place,pincode))\n",
    "    \n",
    "positional_Arguments(place=\"surat\",pincode=395005)\n",
    "positional_Arguments(pincode=395005,place=\"surat\")"
   ]
  },
  {
   "cell_type": "code",
   "execution_count": 26,
   "metadata": {},
   "outputs": [],
   "source": [
    "def position(place,pin):\n",
    "    print(\"place is {} and pin is {}\".format(place,pin))\n",
    "    position(\"chennai\",600018)\n",
    "    position(600018,\"chennai\")\n"
   ]
  },
  {
   "cell_type": "code",
   "execution_count": 28,
   "metadata": {},
   "outputs": [
    {
     "name": "stdout",
     "output_type": "stream",
     "text": [
      "Area of circle of radius =3 with pi = 3.14 and result =28.26 \n"
     ]
    }
   ],
   "source": [
    "# Paramets and default arguments \n",
    "\n",
    "def area_circle(r,pi=3.14):\n",
    "    Area = pi * r ** 2\n",
    "    print (\"Area of circle of radius ={} with pi = {} and result ={} \".format(r,pi,Area))\n",
    "    \n",
    "\n",
    "area_circle(3)"
   ]
  },
  {
   "cell_type": "code",
   "execution_count": 31,
   "metadata": {},
   "outputs": [
    {
     "name": "stdout",
     "output_type": "stream",
     "text": [
      "Area of rectangle of length =2 with width = 4 and result =8 \n"
     ]
    }
   ],
   "source": [
    "def area_rect(l,print (complex(3,-5))\n",
    "print (complex(real=3,imag=-5))\n",
    "print (complex(3,imag=-5))b):\n",
    "    Area = l * b\n",
    "    print (\"Area of rectangle of length ={} with width = {} and result ={} \".format(l,b,Area))\n",
    "    \n",
    "\n",
    "area_rect(2,4)"
   ]
  },
  {
   "cell_type": "code",
   "execution_count": 5,
   "metadata": {},
   "outputs": [
    {
     "name": "stdout",
     "output_type": "stream",
     "text": [
      "(3-5j)\n",
      "(3-5j)\n",
      "(3-5j)\n"
     ]
    }
   ],
   "source": [
    "# create 3-5i with keyword and positional argument\n",
    "print (complex(3,-5))\n",
    "print (complex(real=3,imag=-5))\n",
    "print (complex(3,imag=-5))"
   ]
  },
  {
   "cell_type": "code",
   "execution_count": 9,
   "metadata": {},
   "outputs": [
    {
     "data": {
      "text/plain": [
       "3.0"
      ]
     },
     "execution_count": 9,
     "metadata": {},
     "output_type": "execute_result"
    }
   ],
   "source": [
    "z1 = complex(3,-5)\n",
    "z1.imag\n",
    "z1.real"
   ]
  },
  {
   "cell_type": "code",
   "execution_count": 10,
   "metadata": {},
   "outputs": [
    {
     "name": "stdout",
     "output_type": "stream",
     "text": [
      "3.0\n",
      "-5.0\n"
     ]
    }
   ],
   "source": [
    "# Here every complex number has certain properties which are also called as attributes, characteristics or features.\n",
    "# Few such attributes are real and imag which talks about the real and imaginary part of a complex numbers\n",
    "print(z1.real)\n",
    "print(z1.imag)\n"
   ]
  },
  {
   "cell_type": "code",
   "execution_count": 11,
   "metadata": {},
   "outputs": [
    {
     "data": {
      "text/plain": [
       "<function complex.conjugate>"
      ]
     },
     "execution_count": 11,
     "metadata": {},
     "output_type": "execute_result"
    }
   ],
   "source": [
    "z1.conjugate"
   ]
  },
  {
   "cell_type": "code",
   "execution_count": 12,
   "metadata": {},
   "outputs": [
    {
     "data": {
      "text/plain": [
       "(3+5j)"
      ]
     },
     "execution_count": 12,
     "metadata": {},
     "output_type": "execute_result"
    }
   ],
   "source": [
    "z1.conjugate()"
   ]
  },
  {
   "cell_type": "code",
   "execution_count": 19,
   "metadata": {},
   "outputs": [
    {
     "name": "stdout",
     "output_type": "stream",
     "text": [
      "add2comp (4+6j)\n",
      "add (4+6j)\n"
     ]
    }
   ],
   "source": [
    "def add2comp(z1,z2):\n",
    "    return complex(z1.real+z2.real,z1.imag+z2.imag)\n",
    "\n",
    "x1 = 1+2j\n",
    "x2 = 3+4j\n",
    "print (\"add2comp\",add2comp(x1,x2))\n",
    "\n",
    "# alternative\n",
    "\n",
    "def add(z1,z2):\n",
    "    return (z1+z2)\n",
    "\n",
    "print (\"add\",add(x1,x2))"
   ]
  },
  {
   "cell_type": "markdown",
   "metadata": {},
   "source": [
    "### Placeholders in Python\n",
    "\n",
    "What is a Placeholder?\n",
    "\n",
    "- Intuitively, a placeholder is a pre-formatted container into which content can be placed.\n",
    "- If you have a variable in Python or any other type of data type, you can create a placeholder, usually in a print function to reserve a spot for this variable before explicitly saying what the variable is.\n"
   ]
  },
  {
   "cell_type": "code",
   "execution_count": null,
   "metadata": {},
   "outputs": [],
   "source": []
  }
 ],
 "metadata": {
  "kernelspec": {
   "display_name": "Python 3",
   "language": "python",
   "name": "python3"
  },
  "language_info": {
   "codemirror_mode": {
    "name": "ipython",
    "version": 3
   },
   "file_extension": ".py",
   "mimetype": "text/x-python",
   "name": "python",
   "nbconvert_exporter": "python",
   "pygments_lexer": "ipython3",
   "version": "3.7.4"
  }
 },
 "nbformat": 4,
 "nbformat_minor": 2
}
