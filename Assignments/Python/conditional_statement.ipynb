{
 "cells": [
  {
   "cell_type": "markdown",
   "metadata": {},
   "source": [
    "# let's assume that there is a critaria to unloack the certification \n",
    "- thy should have 70% attendance \n",
    "- their score should be more then 300\n",
    "- if they met both condition they will get merit certification \n",
    "- otherwise they will get participation criteria "
   ]
  },
  {
   "cell_type": "code",
   "execution_count": 3,
   "metadata": {},
   "outputs": [
    {
     "name": "stdout",
     "output_type": "stream",
     "text": [
      "Pleasse enter Name of Studentmeerabo\n",
      "attendance of person in %80\n",
      "Total score achived in all exams400\n",
      "meerabo is certified with merit\n"
     ]
    }
   ],
   "source": [
    "name = input(\"Pleasse enter Name of Student\")\n",
    "attendance = input (\"attendance of person in %\")\n",
    "marks = input(\"Total score achived in all exams\")\n",
    "\n",
    "if (int(attendance) >= 70) and (int(marks) >= 300):\n",
    "    print (name, \"is certified with merit\")\n",
    "else:\n",
    "    print (name, \"is participated in cohort\")"
   ]
  },
  {
   "cell_type": "code",
   "execution_count": 5,
   "metadata": {},
   "outputs": [
    {
     "name": "stdout",
     "output_type": "stream",
     "text": [
      "Total score achived in all exams23\n",
      "marks is odd number\n"
     ]
    }
   ],
   "source": [
    "marks = input(\"Total score achived in all exams\")\n",
    "\n",
    "if (int(marks) % 2 == 0):\n",
    "    print (\"marks is even number\")\n",
    "else:\n",
    "    print (\"marks is odd number\")"
   ]
  },
  {
   "cell_type": "markdown",
   "metadata": {},
   "source": [
    "###\n",
    "## if test expression:\n",
    "    ## Body of if\n",
    "## elif test expression:\n",
    "    ## Body of elif\n",
    "## else: \n",
    "    ##Body of else\n"
   ]
  },
  {
   "cell_type": "code",
   "execution_count": 7,
   "metadata": {},
   "outputs": [],
   "source": [
    "list1 = ['a','b','c']\n",
    "list2 = ['abc','def','d','hello']"
   ]
  },
  {
   "cell_type": "markdown",
   "metadata": {},
   "source": [
    "### Membership Test \"In\" \"not IN\""
   ]
  },
  {
   "cell_type": "code",
   "execution_count": 8,
   "metadata": {},
   "outputs": [
    {
     "name": "stdout",
     "output_type": "stream",
     "text": [
      "c in list\n"
     ]
    }
   ],
   "source": [
    "if 'c' in list1:\n",
    "    print (\"c in list\")\n",
    "else:\n",
    "    print (\"c is not in list\")"
   ]
  },
  {
   "cell_type": "code",
   "execution_count": 9,
   "metadata": {},
   "outputs": [
    {
     "name": "stdout",
     "output_type": "stream",
     "text": [
      "inside list\n"
     ]
    }
   ],
   "source": [
    "if 'c' not in list1:\n",
    "    print (\"c in list\")\n",
    "else:\n",
    "    print (\"inside list\")"
   ]
  },
  {
   "cell_type": "code",
   "execution_count": 15,
   "metadata": {},
   "outputs": [
    {
     "name": "stdout",
     "output_type": "stream",
     "text": [
      "Enter how many iteration wants5\n",
      "0\n",
      "1\n",
      "1\n",
      "2\n",
      "3\n"
     ]
    }
   ],
   "source": [
    "# Fibonacii series \n",
    "\n",
    "#0,1,1,2,3,5,8..\n",
    "\n",
    "n = int(input(\"Enter how many iteration wants\"))\n",
    "n1,n2 = 0,1\n",
    "count = 0\n",
    "\n",
    "if n <= 0:\n",
    "    print (\"Enter Positive integer\")\n",
    "if n == 1:\n",
    "    print(\"Fibonacci sequence upto\",n,\":\")\n",
    "    print (n1)\n",
    "else:\n",
    "    while (count < n):\n",
    "        print (n1)\n",
    "        nth = n1 + n2\n",
    "        n1,n2 = n2,nth\n",
    "        count += 1\n",
    "        "
   ]
  },
  {
   "cell_type": "markdown",
   "metadata": {},
   "source": [
    "##### More on blocks\n",
    "* blocks start below a line ending in :\n",
    "* all lines in a block are indented (by 4 spaces)\n",
    "* Nested blocks --> nested indenting\n",
    "* End of block --> unindent\n"
   ]
  },
  {
   "cell_type": "code",
   "execution_count": null,
   "metadata": {},
   "outputs": [],
   "source": [
    "a = int(input(\"Enter a number\"))"
   ]
  },
  {
   "cell_type": "markdown",
   "metadata": {},
   "source": [
    "### Write a code to select a batsman. Below given is the criteria\n",
    "- The player should belong to Hyderabad,Bengaluru or Mumbai\n",
    "- Player type should be a batsman\n",
    "- If he is a batsman he should have scored atleast 5 centuries\n"
   ]
  },
  {
   "cell_type": "code",
   "execution_count": 3,
   "metadata": {},
   "outputs": [
    {
     "name": "stdout",
     "output_type": "stream",
     "text": [
      "Enter payer typebatsman\n",
      "Enter number of hundreads20\n",
      "Enter city =Baroda\n",
      "in the squad\n"
     ]
    }
   ],
   "source": [
    "location = [\"mumbai\",\"delhi\",\"baroda\"]\n",
    "player_type = input(\"Enter payer type\")\n",
    "no_of_hundreads = int(input (\"Enter number of hundreads\"))\n",
    "player_location = input (\"Enter city =\")\n",
    "\n",
    "if player_location.lower() in location:\n",
    "    if player_type.lower() == \"batsman\":\n",
    "        if no_of_hundreads >= 5:\n",
    "            print (\"in the squad\")\n",
    "        else:\n",
    "            print (\"not selected\")\n",
    "    else:\n",
    "        print (\"not a batsman\")\n",
    "else:\n",
    "    print (\"location not in list\")"
   ]
  },
  {
   "cell_type": "code",
   "execution_count": 7,
   "metadata": {},
   "outputs": [
    {
     "name": "stdout",
     "output_type": "stream",
     "text": [
      "Enter score: 50\n",
      "F\n"
     ]
    }
   ],
   "source": [
    "# write a program to find the grades of a person \n",
    "\n",
    "score = int(input (\"Enter score: \"))\n",
    "if score >= 90:\n",
    "    print ('A')\n",
    "elif 80 <= score <= 89:\n",
    "    print ('B')\n",
    "elif 70 <= score <= 79:\n",
    "    print ('C')\n",
    "elif 60 <= score <= 69:\n",
    "    print ('D')\n",
    "else:\n",
    "    print ('F')\n",
    "\n"
   ]
  },
  {
   "cell_type": "code",
   "execution_count": 2,
   "metadata": {},
   "outputs": [],
   "source": [
    "credentials = {'Rohit':'rohit123',\n",
    "               'Virat':'virat123',\n",
    "               'Sharma':'sharma123',\n",
    "               'Kohli':'kohli123',\n",
    "               'Dhoni':'dhono123',\n",
    "               'Yuvi':'yuvi123'}"
   ]
  },
  {
   "cell_type": "code",
   "execution_count": 3,
   "metadata": {},
   "outputs": [
    {
     "data": {
      "text/plain": [
       "dict_items([('Rohith', 'rohit123'), ('Virat', 'virat123'), ('Sharma', 'sharma123'), ('Kohli', 'kohli123'), ('Dhoni', 'dhono123'), ('Yuvi', 'yuvi123')])"
      ]
     },
     "execution_count": 3,
     "metadata": {},
     "output_type": "execute_result"
    }
   ],
   "source": [
    "credentials.items()"
   ]
  },
  {
   "cell_type": "code",
   "execution_count": 4,
   "metadata": {},
   "outputs": [
    {
     "data": {
      "text/plain": [
       "dict_keys(['Rohith', 'Virat', 'Sharma', 'Kohli', 'Dhoni', 'Yuvi'])"
      ]
     },
     "execution_count": 4,
     "metadata": {},
     "output_type": "execute_result"
    }
   ],
   "source": [
    "credentials.keys()"
   ]
  },
  {
   "cell_type": "code",
   "execution_count": 5,
   "metadata": {},
   "outputs": [
    {
     "data": {
      "text/plain": [
       "dict_values(['rohit123', 'virat123', 'sharma123', 'kohli123', 'dhono123', 'yuvi123'])"
      ]
     },
     "execution_count": 5,
     "metadata": {},
     "output_type": "execute_result"
    }
   ],
   "source": [
    "credentials.values()"
   ]
  },
  {
   "cell_type": "code",
   "execution_count": 9,
   "metadata": {},
   "outputs": [
    {
     "name": "stdout",
     "output_type": "stream",
     "text": [
      "Please Enter your usernameRohith\n",
      "Please Enter your passwordkcbnjkbvsd\n",
      "Username Or Passowrd is wrong\n"
     ]
    }
   ],
   "source": [
    "username = input(\"Please Enter your username\")\n",
    "password = input(\"Please Enter your password\")\n",
    "\n",
    "if username not in credentials.keys():\n",
    "    print (\"Username is not in database\")\n",
    "    ask = input (\"WOuld you like to signup: y/n\")\n",
    "    if ask.lower == 'y':\n",
    "        username = input(\"Please Enter your username\")\n",
    "        password = input(\"Please Enter your password\")\n",
    "        credentials.update({username:password})\n",
    "        print (\"Added successfully\")\n",
    "        print (credentials)\n",
    "    else:\n",
    "        print (\"User dont want to signup\")\n",
    "\n",
    "elif credentials[username] == password:\n",
    "    print ('Hello {} welcome, Lets start the game !!!'.format(username))\n",
    "else:\n",
    "    print (\"Username Or Passowrd is wrong\")"
   ]
  },
  {
   "cell_type": "code",
   "execution_count": 19,
   "metadata": {},
   "outputs": [
    {
     "name": "stdout",
     "output_type": "stream",
     "text": [
      "Please Enter three numbers comma seperated1,2,3\n",
      "3\n"
     ]
    }
   ],
   "source": [
    "# write a program to read 3 numbers and check which number is greter\n",
    "l1 = [int(i) for i in input(\"Please Enter three numbers comma seperated\").split(',')]\n",
    "\n",
    "print (max(l1))\n",
    "\n"
   ]
  },
  {
   "cell_type": "code",
   "execution_count": 20,
   "metadata": {},
   "outputs": [
    {
     "name": "stdout",
     "output_type": "stream",
     "text": [
      "3\n",
      "4\n",
      "5\n",
      "6\n",
      "7\n"
     ]
    }
   ],
   "source": [
    "# Loop\n",
    "\n",
    "list1 = [1,2,3,4,5]\n",
    "for i in list1:\n",
    "    print (i+2)"
   ]
  },
  {
   "cell_type": "code",
   "execution_count": 21,
   "metadata": {},
   "outputs": [
    {
     "name": "stdout",
     "output_type": "stream",
     "text": [
      "Datafolkz\n",
      "Datafolkz\n",
      "Datafolkz\n",
      "Datafolkz\n",
      "Datafolkz\n",
      "Datafolkz\n",
      "Datafolkz\n",
      "Datafolkz\n",
      "Datafolkz\n",
      "Datafolkz\n"
     ]
    }
   ],
   "source": [
    "# Print string 10 times\n",
    "for i in range(10):\n",
    "    print (\"Datafolkz\")"
   ]
  },
  {
   "cell_type": "code",
   "execution_count": 22,
   "metadata": {},
   "outputs": [
    {
     "name": "stdout",
     "output_type": "stream",
     "text": [
      "Data\n",
      "Folkz\n",
      "Python\n",
      "DataScience\n",
      "AI\n"
     ]
    }
   ],
   "source": [
    "lst = [\"Data\",\"Folkz\",\"Python\",\"DataScience\",\"AI\"]\n",
    "for ele in lst:\n",
    "    print (ele)"
   ]
  },
  {
   "cell_type": "code",
   "execution_count": 25,
   "metadata": {},
   "outputs": [
    {
     "name": "stdout",
     "output_type": "stream",
     "text": [
      "Data\n",
      "Folkz\n",
      "Python\n",
      "DataScience\n",
      "AI\n"
     ]
    }
   ],
   "source": [
    "# iterate over list index\n",
    "# for index in range(len(x))\n",
    "# print (lst[index]\n",
    "\n",
    "for index in range(len(lst)):\n",
    "    print (lst[index])"
   ]
  },
  {
   "cell_type": "code",
   "execution_count": 30,
   "metadata": {},
   "outputs": [
    {
     "name": "stdout",
     "output_type": "stream",
     "text": [
      "[500, 490, 480, 470, 460, 450, 440, 430, 420, 410]\n"
     ]
    }
   ],
   "source": [
    "# print range of numbers from 500 to 400 with step size +10\n",
    "list1 = list(range(500,400,-10))\n",
    "print (list1)"
   ]
  },
  {
   "cell_type": "code",
   "execution_count": 31,
   "metadata": {},
   "outputs": [],
   "source": [
    "a = set({1,2,3,4,5})"
   ]
  },
  {
   "cell_type": "code",
   "execution_count": 32,
   "metadata": {},
   "outputs": [
    {
     "name": "stdout",
     "output_type": "stream",
     "text": [
      "{1, 2, 3, 4, 5}\n"
     ]
    }
   ],
   "source": [
    "print (a)"
   ]
  },
  {
   "cell_type": "code",
   "execution_count": 33,
   "metadata": {},
   "outputs": [
    {
     "name": "stdout",
     "output_type": "stream",
     "text": [
      "1\n",
      "2\n",
      "3\n",
      "4\n",
      "5\n"
     ]
    }
   ],
   "source": [
    "for i in a:\n",
    "    print (i)"
   ]
  },
  {
   "cell_type": "code",
   "execution_count": 36,
   "metadata": {},
   "outputs": [
    {
     "name": "stdout",
     "output_type": "stream",
     "text": [
      "final product is: 2\n",
      "final product is: 6\n",
      "final product is: 24\n",
      "final product is: 120\n",
      "final product is: 840\n",
      "The final product is: 840\n"
     ]
    }
   ],
   "source": [
    "# find product of all elements in a list\n",
    "List = [2,3,4,5,7]\n",
    "product = 1\n",
    "\n",
    "for i in List:\n",
    "    product *= i\n",
    "    print (\"final product is: {}\".format(product))\n",
    "    \n",
    "print (\"The final product is: {}\".format(product))"
   ]
  },
  {
   "cell_type": "code",
   "execution_count": 38,
   "metadata": {},
   "outputs": [
    {
     "name": "stdout",
     "output_type": "stream",
     "text": [
      "The final summation is: 21\n"
     ]
    }
   ],
   "source": [
    "summation = 0\n",
    "\n",
    "for i in List:\n",
    "    summation += i\n",
    "        \n",
    "print (\"The final summation is: {}\".format(summation))"
   ]
  },
  {
   "cell_type": "code",
   "execution_count": 44,
   "metadata": {},
   "outputs": [
    {
     "name": "stdout",
     "output_type": "stream",
     "text": [
      "1\n",
      "2\n",
      "3\n",
      "4\n",
      "5\n",
      "6\n",
      "7\n",
      "8\n",
      "no item left in the list\n"
     ]
    }
   ],
   "source": [
    "# For loop with else \n",
    "numbers = [1,2,3,4,5,6,7,8]\n",
    "\n",
    "for i in numbers:\n",
    "    print (i)\n",
    "else:\n",
    "    print (\"no item left in the list\")"
   ]
  },
  {
   "cell_type": "code",
   "execution_count": 47,
   "metadata": {},
   "outputs": [
    {
     "name": "stdout",
     "output_type": "stream",
     "text": [
      "1\n",
      "2\n",
      "number is even 2\n"
     ]
    }
   ],
   "source": [
    "for item in numbers:\n",
    "    print (item)\n",
    "    if item % 2 == 0:\n",
    "        print (\"number is even {}\".format(item))\n",
    "        break\n",
    "else:\n",
    "    print (\"no item left in the list\")\n",
    "    "
   ]
  },
  {
   "cell_type": "code",
   "execution_count": 48,
   "metadata": {},
   "outputs": [
    {
     "name": "stdout",
     "output_type": "stream",
     "text": [
      "ENter Index1 number: 1\n",
      "ENter Index2 number: 10\n",
      "Prime nembers between 1 and 10 are :\n",
      "2\n",
      "3\n",
      "5\n",
      "7\n"
     ]
    }
   ],
   "source": [
    "# Python program to display all prime numbers within an intervals\n",
    "\n",
    "index1 = int(input(\"ENter Index1 number: \"))\n",
    "index2 = int(input(\"ENter Index2 number: \"))\n",
    "\n",
    "print (\"Prime nembers between {0} and {1} are :\".format(index1,index2))\n",
    "\n",
    "for num in range(index1,index2+1):\n",
    "    if num > 1:\n",
    "        isDivisible = False\n",
    "        for index in range(2,num):\n",
    "            if num % index ==0:\n",
    "                isDivisible = True                \n",
    "        if not isDivisible:\n",
    "            print (num)\n",
    "                \n",
    "            \n"
   ]
  },
  {
   "cell_type": "code",
   "execution_count": 55,
   "metadata": {},
   "outputs": [
    {
     "name": "stdout",
     "output_type": "stream",
     "text": [
      "0 1\n",
      "1 2\n",
      "2 3\n",
      "3 4\n",
      "4 5\n"
     ]
    }
   ],
   "source": [
    "list1 = [1,2,3,4,5]\n",
    "for idx, val in enumerate(list1):\n",
    "    print(idx, val)"
   ]
  },
  {
   "cell_type": "code",
   "execution_count": 1,
   "metadata": {},
   "outputs": [
    {
     "name": "stdout",
     "output_type": "stream",
     "text": [
      "Data Science is a process of extracting knowledge from the data, \n",
      "which has several process like data preparation, analysis and modelling.\n",
      "Data Preparation takes 70% of data science project rest is all about analysis and modelling.\n"
     ]
    }
   ],
   "source": [
    "text = \"\"\"Data Science is a process of extracting knowledge from the data, \n",
    "which has several process like data preparation, analysis and modelling.\n",
    "Data Preparation takes 70% of data science project rest is all about analysis and modelling.\"\"\"\n",
    "print(text)\n"
   ]
  },
  {
   "cell_type": "code",
   "execution_count": 2,
   "metadata": {},
   "outputs": [
    {
     "name": "stdout",
     "output_type": "stream",
     "text": [
      "['data', 'science', 'is', 'a', 'process', 'of', 'extracting', 'knowledge', 'from', 'the', 'data,', 'which', 'has', 'several', 'process', 'like', 'data', 'preparation,', 'analysis', 'and', 'modelling.', 'data', 'preparation', 'takes', '70%', 'of', 'data', 'science', 'project', 'rest', 'is', 'all', 'about', 'analysis', 'and', 'modelling.']\n"
     ]
    }
   ],
   "source": [
    "# tokenization - splitting text into token/words by split function \n",
    "text = text.lower()\n",
    "tokens = text.split()\n",
    "print (tokens)"
   ]
  },
  {
   "cell_type": "code",
   "execution_count": 8,
   "metadata": {},
   "outputs": [
    {
     "name": "stdout",
     "output_type": "stream",
     "text": [
      "['extracting']\n"
     ]
    }
   ],
   "source": [
    "# list of words starts with e\n",
    "start_e = []\n",
    "for word in tokens:\n",
    "    if word.startswith('e'):\n",
    "        start_e.append(word)\n",
    "        \n",
    "print (start_e)\n"
   ]
  },
  {
   "cell_type": "code",
   "execution_count": 10,
   "metadata": {},
   "outputs": [
    {
     "name": "stdout",
     "output_type": "stream",
     "text": [
      "['science', 'knowledge', 'the', 'like', 'science']\n"
     ]
    }
   ],
   "source": [
    "ends_e = []\n",
    "for word in tokens:\n",
    "    if word.endswith('e'):\n",
    "        ends_e.append(word)\n",
    "        \n",
    "print (ends_e)\n",
    "    "
   ]
  },
  {
   "cell_type": "code",
   "execution_count": 12,
   "metadata": {},
   "outputs": [
    {
     "name": "stdout",
     "output_type": "stream",
     "text": [
      "['extracting']\n"
     ]
    }
   ],
   "source": [
    "import re\n",
    "ends_e = []\n",
    "for word in tokens:\n",
    "    if re.findall(r'\\be',word):\n",
    "        ends_e.append(word)\n",
    "        \n",
    "print (ends_e)"
   ]
  },
  {
   "cell_type": "code",
   "execution_count": 15,
   "metadata": {},
   "outputs": [
    {
     "name": "stdout",
     "output_type": "stream",
     "text": [
      "data\n",
      "science\n",
      "is\n",
      "a\n",
      "process\n"
     ]
    }
   ],
   "source": [
    "# continue loop and break it when find process\n",
    "\n",
    "for ele in tokens:\n",
    "    print (ele)\n",
    "    if ele == \"process\":        \n",
    "        break"
   ]
  },
  {
   "cell_type": "code",
   "execution_count": 16,
   "metadata": {},
   "outputs": [
    {
     "name": "stdout",
     "output_type": "stream",
     "text": [
      "[85, 99, 59, 36, 18, 80, 53, 69, 26, 92, 80, 71, 13, 95, 32, 42, 7, 97, 88, 94, 7, 8, 15, 24, 83, 28, 17, 17, 72, 11, 26, 47, 93, 94, 69, 90, 64, 27, 89, 86, 11, 41, 84, 71, 47, 100, 22, 34, 61, 55, 32, 62, 57, 17, 31, 25, 67, 28, 5, 42, 62, 60, 62, 21, 22, 86, 80, 64, 54, 0, 7, 66, 4, 35, 35, 33, 44, 5, 26, 3, 15, 79, 19, 72, 48, 62, 31, 67, 32, 93, 67, 10, 74, 77, 23, 29, 89, 16, 99, 40]\n"
     ]
    }
   ],
   "source": [
    "# creat 100 random numbers using random function with for loop\n",
    "\n",
    "import random\n",
    "\n",
    "rand = []\n",
    "for i in range(100):\n",
    "    num = random.randint(0,100)\n",
    "    rand.append(num)\n",
    "    \n",
    "print (rand)\n",
    "    "
   ]
  },
  {
   "cell_type": "code",
   "execution_count": 17,
   "metadata": {},
   "outputs": [
    {
     "name": "stdout",
     "output_type": "stream",
     "text": [
      "[36, 18, 80, 26, 92, 80, 32, 42, 88, 94, 8, 24, 28, 72, 26, 94, 90, 64, 86, 84, 100, 22, 34, 32, 62, 28, 42, 62, 60, 62, 22, 86, 80, 64, 54, 0, 66, 4, 44, 26, 72, 48, 62, 32, 10, 74, 16, 40]\n"
     ]
    }
   ],
   "source": [
    "# find and crate a list of even numbers in above created list\n",
    "even_list = []\n",
    "for i in rand:\n",
    "    if i % 2 == 0:\n",
    "        even_list.append(i)\n",
    "        \n",
    "print (even_list)"
   ]
  },
  {
   "cell_type": "code",
   "execution_count": 18,
   "metadata": {},
   "outputs": [
    {
     "name": "stdout",
     "output_type": "stream",
     "text": [
      "[15, 19, 25, 20, 23]\n"
     ]
    }
   ],
   "source": [
    "import random\n",
    "#Generate 5 random numbers between 10 and 30\n",
    "randomlist = random.sample(range(10, 30), 5)\n",
    "print(randomlist)"
   ]
  },
  {
   "cell_type": "code",
   "execution_count": 19,
   "metadata": {},
   "outputs": [
    {
     "name": "stdout",
     "output_type": "stream",
     "text": [
      "[85, 80, 80, 95, 15, 90, 100, 55, 25, 5, 60, 80, 0, 35, 35, 5, 15, 10, 40]\n"
     ]
    }
   ],
   "source": [
    "# create list of num devisable by 5\n",
    "divby_five = []\n",
    "for i in rand:\n",
    "    if i % 5 == 0:\n",
    "        divby_five.append(i)\n",
    "        \n",
    "print (divby_five)\n"
   ]
  },
  {
   "cell_type": "code",
   "execution_count": 23,
   "metadata": {},
   "outputs": [
    {
     "name": "stdout",
     "output_type": "stream",
     "text": [
      "hello\n",
      "current count 1\n"
     ]
    }
   ],
   "source": [
    "# While Loop\n",
    "# diff between while and if \n",
    "\n",
    "count = 0 \n",
    "\n",
    "if count < 5:\n",
    "    print (\"hello\")\n",
    "    count +=1\n",
    "    print (\"current count {}\".format(count))\n",
    "    \n",
    "    \n"
   ]
  },
  {
   "cell_type": "code",
   "execution_count": 22,
   "metadata": {},
   "outputs": [
    {
     "name": "stdout",
     "output_type": "stream",
     "text": [
      "hello\n",
      "current count 1\n",
      "hello\n",
      "current count 2\n",
      "hello\n",
      "current count 3\n",
      "hello\n",
      "current count 4\n",
      "hello\n",
      "current count 5\n"
     ]
    }
   ],
   "source": [
    "count =0\n",
    "while count < 5:\n",
    "    print (\"hello\")\n",
    "    count +=1   #   count = count + 1 \n",
    "    print (\"current count {}\".format(count))\n",
    "    \n",
    "print (\"while loop ends\")"
   ]
  },
  {
   "cell_type": "code",
   "execution_count": 24,
   "metadata": {},
   "outputs": [
    {
     "name": "stdout",
     "output_type": "stream",
     "text": [
      "hello\n",
      "current count 0\n",
      "hello\n",
      "current count 1\n",
      "hello\n",
      "current count 2\n",
      "hello\n",
      "current count 3\n",
      "hello\n",
      "current count 4\n"
     ]
    }
   ],
   "source": [
    "#  diff between while and for \n",
    "\n",
    "for i in range(0,5):\n",
    "    print (\"hello\")\n",
    "    print (\"current count {}\".format(i))"
   ]
  },
  {
   "cell_type": "code",
   "execution_count": 27,
   "metadata": {},
   "outputs": [
    {
     "name": "stdout",
     "output_type": "stream",
     "text": [
      "0\n",
      "--------------------------------------------------\n",
      "1\n",
      "--------------------------------------------------\n",
      "2\n",
      "--------------------------------------------------\n",
      "3\n",
      "--------------------------------------------------\n",
      "4\n",
      "--------------------------------------------------\n",
      "5\n",
      "--------------------------------------------------\n",
      "6\n",
      "--------------------------------------------------\n",
      "7\n",
      "--------------------------------------------------\n",
      "8\n",
      "--------------------------------------------------\n",
      "9\n",
      "--------------------------------------------------\n"
     ]
    }
   ],
   "source": [
    "count = 0\n",
    "while True:\n",
    "    print (count)\n",
    "    count += 1\n",
    "    print (\"-\"*50)\n",
    "    if count >= 10:\n",
    "        break"
   ]
  },
  {
   "cell_type": "code",
   "execution_count": 2,
   "metadata": {},
   "outputs": [
    {
     "name": "stdout",
     "output_type": "stream",
     "text": [
      "5\n",
      "product 4800000\n"
     ]
    }
   ],
   "source": [
    "#find the product of all num in a list\n",
    "\n",
    "prod =1\n",
    "index =0\n",
    "a = [10,20,20,30,40]\n",
    "print (len(a))\n",
    "while index < len(a):\n",
    "    prod *= a[index]\n",
    "    index += 1\n",
    "\n",
    "print (\"product\",prod)\n",
    "    "
   ]
  },
  {
   "cell_type": "code",
   "execution_count": null,
   "metadata": {},
   "outputs": [],
   "source": [
    "#While with else"
   ]
  },
  {
   "cell_type": "code",
   "execution_count": 4,
   "metadata": {},
   "outputs": [
    {
     "name": "stdout",
     "output_type": "stream",
     "text": [
      "5\n",
      "prod calclulated\n",
      "product 4800000\n"
     ]
    }
   ],
   "source": [
    "#find the product of all num in a list\n",
    "\n",
    "prod =1\n",
    "index =0\n",
    "a = [10,20,20,30,40]\n",
    "print (len(a))\n",
    "while index < len(a):\n",
    "    prod *= a[index]\n",
    "    index += 1\n",
    "else:\n",
    "    print (\"prod calclulated\")\n",
    "    \n",
    "print (\"product\",prod)"
   ]
  },
  {
   "cell_type": "code",
   "execution_count": null,
   "metadata": {},
   "outputs": [],
   "source": [
    "# homeWork: check prime numbers using while loop \n"
   ]
  }
 ],
 "metadata": {
  "kernelspec": {
   "display_name": "Python 3",
   "language": "python",
   "name": "python3"
  },
  "language_info": {
   "codemirror_mode": {
    "name": "ipython",
    "version": 3
   },
   "file_extension": ".py",
   "mimetype": "text/x-python",
   "name": "python",
   "nbconvert_exporter": "python",
   "pygments_lexer": "ipython3",
   "version": "3.7.4"
  }
 },
 "nbformat": 4,
 "nbformat_minor": 2
}
