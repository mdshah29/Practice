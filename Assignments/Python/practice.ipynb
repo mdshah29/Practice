{
 "cells": [
  {
   "cell_type": "code",
   "execution_count": 8,
   "metadata": {},
   "outputs": [
    {
     "name": "stdout",
     "output_type": "stream",
     "text": [
      "10\n",
      "10\n"
     ]
    }
   ],
   "source": [
    "#Python has five standard data types −\n",
    "\n",
    "#Numbers ---- (int, float, complex )  \n",
    "#String\n",
    "\n",
    "#List\n",
    "#Tuple\n",
    "#Dictionary\n",
    "\n",
    "list1 = [10,20,30,40]    #  index --- > 0-> 10, 1-> 20, 2->30..... index numbers from 0 to n \n",
    "print (list1[0])\n",
    "\n",
    "dict1 = {\"Ravi\":\"24718247\",\"Meerabo\":\"20\",\"NK2\":\"30\"}    #  key ->  index --- > 0-> 10, 1-> 20, 2->30..... index numbers from 0 to n\n",
    "#   key value pair ... key is a string --- \" alpha -- numbers \"\n",
    "\n",
    "print (dict1[\"Amit123\"])\n",
    "\n",
    "\n",
    "\n",
    "#  control statements \n",
    "\n",
    "#  a.txt  --- a.excel  --->   name <Field seperator =, # : @,tab  > Mobile number \n",
    "#  Ravi,09127129047\n",
    "#  cas,309u12]49\n",
    "\n",
    "# generate dictionary from txt file provided to you with 1000 records with name and mobile num where , is field seperator \n",
    "\n",
    "#  step1:   tempdict = {}\n",
    "#  step2:   file -- open   -->  record 1-1 read -----> open \n",
    "#  with open () as f: \n",
    "#  filehandle = open (\"a.txt\",\"r\")\n",
    "#  while (<filehandle>)\n",
    "#  line1 = cas,309u12]49[EOL]  ---- > seperate ,   ---> var1, var2 = split(\"line1\",\",\")  \n",
    "#  tempdict{\"var1\"} = \"var2\"\n",
    "#  next line \n",
    "#  ==========\n"
   ]
  },
  {
   "cell_type": "code",
   "execution_count": 9,
   "metadata": {},
   "outputs": [],
   "source": [
    "# procedural lang   -- \n",
    "# oops --\n",
    "\n",
    "class Animal:\n",
    "    leg = 4\n",
    "    toung = 1 \n",
    "    eyes = 2\n",
    "    tail = 1 \n",
    "    \n",
    "    def __init__(self,color,voice):\n",
    "        self.color = color\n",
    "        self.voice = voice\n",
    "        \n",
    "    def bark(self):\n",
    "        return self.color, self.voice    \n",
    "        \n",
    "\n",
    "\n",
    "shivam = Animal(\"white\",\"bark\")\n",
    "satyam = Animal(\"Blue\",\"meow\")\n",
    "\n",
    "\n",
    "    "
   ]
  },
  {
   "cell_type": "code",
   "execution_count": null,
   "metadata": {},
   "outputs": [],
   "source": []
  },
  {
   "cell_type": "code",
   "execution_count": null,
   "metadata": {},
   "outputs": [],
   "source": []
  }
 ],
 "metadata": {
  "kernelspec": {
   "display_name": "Python 3",
   "language": "python",
   "name": "python3"
  },
  "language_info": {
   "codemirror_mode": {
    "name": "ipython",
    "version": 3
   },
   "file_extension": ".py",
   "mimetype": "text/x-python",
   "name": "python",
   "nbconvert_exporter": "python",
   "pygments_lexer": "ipython3",
   "version": "3.7.4"
  }
 },
 "nbformat": 4,
 "nbformat_minor": 2
}
