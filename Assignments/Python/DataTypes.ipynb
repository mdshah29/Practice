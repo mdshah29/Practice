{
 "cells": [
  {
   "cell_type": "code",
   "execution_count": null,
   "metadata": {},
   "outputs": [],
   "source": [
    "## Data Types In Python\n",
    "\n",
    "- some datatypes are Mutable and Some are Immutable \n",
    "- Mutable means we can modify\n",
    "- Immutable means we can not modify \n",
    "\n",
    "Below given are the few data types we have in python\n",
    "\n",
    "- Numeric\n",
    "- string\n",
    "- Tuples\n",
    "- List\n",
    "- set\n",
    "- Dictionaries\n",
    "- None\n",
    "- Range\n",
    "\n",
    "Mutable Data Types In Python \n",
    "\n",
    "- List\n",
    "- Dictionaries\n",
    "- Set\n",
    "\n",
    "Immutable Data Types \n",
    "\n",
    "- Numeric\n",
    "- string\n",
    "- tuples\n",
    "\n",
    "\n",
    "### Immutable data types \n",
    "\n",
    "Numeric Data Types in Python \n",
    "\n",
    "In Python we have 4 numeric data types \n",
    "- Integer\n",
    "- Float\n",
    "- boolean\n",
    "- complex\n",
    "\n"
   ]
  },
  {
   "cell_type": "code",
   "execution_count": 5,
   "metadata": {},
   "outputs": [
    {
     "data": {
      "text/plain": [
       "int"
      ]
     },
     "execution_count": 5,
     "metadata": {},
     "output_type": "execute_result"
    }
   ],
   "source": [
    "# Create two variabes a and b with some integer value assigned to them\n",
    "a = 25\n",
    "b = 2\n",
    "type(b)"
   ]
  },
  {
   "cell_type": "code",
   "execution_count": 7,
   "metadata": {},
   "outputs": [
    {
     "name": "stdout",
     "output_type": "stream",
     "text": [
      "a + b =  27\n",
      "a - b =  23\n",
      "a / b =  12.5\n",
      "a * b =  50\n",
      "a // b =  12\n",
      "a ** b =  625\n"
     ]
    }
   ],
   "source": [
    "# Let's perform some operation arithmetic operations on the integer data types \n",
    "\n",
    "print (\"a + b = \",a + b)\n",
    "print (\"a - b = \",a - b)\n",
    "print (\"a / b = \",a / b)      # float devison \n",
    "print (\"a * b = \",a * b)\n",
    "print (\"a // b = \",a // b)    # truncated devison \n",
    "print (\"a ** b = \",a ** b)    # Exponential operator\n",
    "\n"
   ]
  },
  {
   "cell_type": "code",
   "execution_count": 8,
   "metadata": {},
   "outputs": [
    {
     "name": "stdout",
     "output_type": "stream",
     "text": [
      "1\n"
     ]
    }
   ],
   "source": [
    "print (a % b)"
   ]
  },
  {
   "cell_type": "code",
   "execution_count": 14,
   "metadata": {},
   "outputs": [
    {
     "data": {
      "text/plain": [
       "5.0"
      ]
     },
     "execution_count": 14,
     "metadata": {},
     "output_type": "execute_result"
    }
   ],
   "source": [
    "import math\n",
    "math.sqrt(a)"
   ]
  },
  {
   "cell_type": "code",
   "execution_count": 15,
   "metadata": {},
   "outputs": [
    {
     "name": "stdout",
     "output_type": "stream",
     "text": [
      "x / y =  12.5\n",
      "x // y =  12\n",
      "x ** y =  625\n"
     ]
    }
   ],
   "source": [
    "# Let's perform some operation arithmetic operations on the integer data types \n",
    "x = 4\n",
    "y = 5\n",
    "print (\"x / y = \",a / b)      # float devison \n",
    "print (\"x // y = \",a // b)    # truncated devison \n",
    "print (\"x ** y = \",a ** b)    # Exponential operator"
   ]
  },
  {
   "cell_type": "code",
   "execution_count": 18,
   "metadata": {},
   "outputs": [
    {
     "data": {
      "text/plain": [
       "float"
      ]
     },
     "execution_count": 18,
     "metadata": {},
     "output_type": "execute_result"
    }
   ],
   "source": [
    "# Float data types in python \n",
    "a = 2.56\n",
    "b = 3.57\n",
    "\n",
    "type (a)"
   ]
  },
  {
   "cell_type": "code",
   "execution_count": 1,
   "metadata": {},
   "outputs": [
    {
     "ename": "NameError",
     "evalue": "name 'a' is not defined",
     "output_type": "error",
     "traceback": [
      "\u001b[1;31m---------------------------------------------------------------------------\u001b[0m",
      "\u001b[1;31mNameError\u001b[0m                                 Traceback (most recent call last)",
      "\u001b[1;32m<ipython-input-1-e72b08fc7f8c>\u001b[0m in \u001b[0;36m<module>\u001b[1;34m\u001b[0m\n\u001b[1;32m----> 1\u001b[1;33m \u001b[0mc\u001b[0m \u001b[1;33m=\u001b[0m \u001b[0ma\u001b[0m \u001b[1;33m+\u001b[0m \u001b[0mb\u001b[0m\u001b[1;33m\u001b[0m\u001b[1;33m\u001b[0m\u001b[0m\n\u001b[0m\u001b[0;32m      2\u001b[0m \u001b[0md\u001b[0m \u001b[1;33m=\u001b[0m \u001b[0ma\u001b[0m \u001b[1;33m-\u001b[0m \u001b[0mb\u001b[0m\u001b[1;33m\u001b[0m\u001b[1;33m\u001b[0m\u001b[0m\n\u001b[0;32m      3\u001b[0m \u001b[0me\u001b[0m \u001b[1;33m=\u001b[0m \u001b[0ma\u001b[0m \u001b[1;33m/\u001b[0m \u001b[0mb\u001b[0m\u001b[1;33m\u001b[0m\u001b[1;33m\u001b[0m\u001b[0m\n\u001b[0;32m      4\u001b[0m \u001b[0mf\u001b[0m \u001b[1;33m=\u001b[0m \u001b[0ma\u001b[0m \u001b[1;33m*\u001b[0m \u001b[0mb\u001b[0m\u001b[1;33m\u001b[0m\u001b[1;33m\u001b[0m\u001b[0m\n\u001b[0;32m      5\u001b[0m \u001b[0mg\u001b[0m \u001b[1;33m=\u001b[0m \u001b[0ma\u001b[0m \u001b[1;33m**\u001b[0m \u001b[0mb\u001b[0m\u001b[1;33m\u001b[0m\u001b[1;33m\u001b[0m\u001b[0m\n",
      "\u001b[1;31mNameError\u001b[0m: name 'a' is not defined"
     ]
    }
   ],
   "source": [
    "c = a + b\n",
    "d = a - b\n",
    "e = a / b\n",
    "f = a * b\n",
    "g = a ** b\n",
    "\n",
    "print (a,b,c,d,e,f,g,sep=\"\\n\")\n"
   ]
  },
  {
   "cell_type": "markdown",
   "metadata": {},
   "source": [
    "#### Boolean\n",
    "The two constants True and False are defined.\n",
    "\n",
    "The usual boolean operators are also available: ==, !=, >, >=, <, <= "
   ]
  },
  {
   "cell_type": "code",
   "execution_count": 3,
   "metadata": {},
   "outputs": [
    {
     "name": "stdout",
     "output_type": "stream",
     "text": [
      "a < b = True\n",
      "a > b = False\n",
      "a == b = False\n",
      "a != b = True\n"
     ]
    },
    {
     "data": {
      "text/plain": [
       "bool"
      ]
     },
     "execution_count": 3,
     "metadata": {},
     "output_type": "execute_result"
    }
   ],
   "source": [
    "# Boolean Examples:\n",
    "\n",
    "a = 4\n",
    "b = 5\n",
    "c = a < b\n",
    "print (\"a < b =\",a < b)\n",
    "print (\"a > b =\",a > b)\n",
    "print (\"a == b =\",a == b)\n",
    "print (\"a != b =\",a != b)\n",
    "type(c)"
   ]
  },
  {
   "cell_type": "code",
   "execution_count": 5,
   "metadata": {},
   "outputs": [
    {
     "name": "stdout",
     "output_type": "stream",
     "text": [
      "(2+3j)\n"
     ]
    },
    {
     "data": {
      "text/plain": [
       "complex"
      ]
     },
     "execution_count": 5,
     "metadata": {},
     "output_type": "execute_result"
    }
   ],
   "source": [
    "# complex example\n",
    "\n",
    "z = 2 + 3j\n",
    "print(z)\n",
    "type(z)"
   ]
  },
  {
   "cell_type": "code",
   "execution_count": 16,
   "metadata": {},
   "outputs": [
    {
     "name": "stdout",
     "output_type": "stream",
     "text": [
      "(2-3j) 3.0 2.0 3.605551275463989\n"
     ]
    }
   ],
   "source": [
    "z.conjugate()  # conjugate is a function which is applicable on object Z\n",
    "z.imag\n",
    "z.real\n",
    "abs(z)\n",
    "print (z.conjugate(),z.imag,z.real,abs(z))"
   ]
  },
  {
   "cell_type": "code",
   "execution_count": 18,
   "metadata": {},
   "outputs": [
    {
     "name": "stdout",
     "output_type": "stream",
     "text": [
      "Meerabo\n"
     ]
    },
    {
     "data": {
      "text/plain": [
       "str"
      ]
     },
     "execution_count": 18,
     "metadata": {},
     "output_type": "execute_result"
    }
   ],
   "source": [
    "name=\"Meerabo\"\n",
    "print(name)\n",
    "type (name)"
   ]
  },
  {
   "cell_type": "code",
   "execution_count": 29,
   "metadata": {},
   "outputs": [
    {
     "name": "stdout",
     "output_type": "stream",
     "text": [
      "Meerabo shah\n"
     ]
    },
    {
     "data": {
      "text/plain": [
       "7"
      ]
     },
     "execution_count": 29,
     "metadata": {},
     "output_type": "execute_result"
    }
   ],
   "source": [
    "First_Name = \"Meerabo\"\n",
    "Last_Name = \"shah\"\n",
    "name = First_Name + \" \" + Last_Name\n",
    "print(name)\n",
    "\n",
    "len(First_Name)"
   ]
  },
  {
   "cell_type": "code",
   "execution_count": 30,
   "metadata": {},
   "outputs": [
    {
     "data": {
      "text/plain": [
       "'e'"
      ]
     },
     "execution_count": 30,
     "metadata": {},
     "output_type": "execute_result"
    }
   ],
   "source": [
    "First_Name[2]    # Indexing"
   ]
  },
  {
   "cell_type": "code",
   "execution_count": 31,
   "metadata": {},
   "outputs": [
    {
     "data": {
      "text/plain": [
       "'erab'"
      ]
     },
     "execution_count": 31,
     "metadata": {},
     "output_type": "execute_result"
    }
   ],
   "source": [
    "First_Name[2:6] # Slicing "
   ]
  },
  {
   "cell_type": "code",
   "execution_count": 32,
   "metadata": {},
   "outputs": [
    {
     "ename": "TypeError",
     "evalue": "'str' object does not support item assignment",
     "output_type": "error",
     "traceback": [
      "\u001b[1;31m---------------------------------------------------------------------------\u001b[0m",
      "\u001b[1;31mTypeError\u001b[0m                                 Traceback (most recent call last)",
      "\u001b[1;32m<ipython-input-32-db0ba6059477>\u001b[0m in \u001b[0;36m<module>\u001b[1;34m\u001b[0m\n\u001b[1;32m----> 1\u001b[1;33m \u001b[0mFirst_Name\u001b[0m\u001b[1;33m[\u001b[0m\u001b[1;36m2\u001b[0m\u001b[1;33m]\u001b[0m \u001b[1;33m=\u001b[0m \u001b[1;34m'i'\u001b[0m\u001b[1;33m\u001b[0m\u001b[1;33m\u001b[0m\u001b[0m\n\u001b[0m",
      "\u001b[1;31mTypeError\u001b[0m: 'str' object does not support item assignment"
     ]
    }
   ],
   "source": [
    "First_Name[2] = 'i'"
   ]
  },
  {
   "cell_type": "markdown",
   "metadata": {},
   "source": [
    "# In Python, we can not modify string once created , that's why string data types comes under immutable data types."
   ]
  },
  {
   "cell_type": "code",
   "execution_count": 37,
   "metadata": {},
   "outputs": [
    {
     "name": "stdout",
     "output_type": "stream",
     "text": [
      "length of tuple is : 4\n",
      "Shewag\n"
     ]
    },
    {
     "ename": "TypeError",
     "evalue": "'tuple' object does not support item assignment",
     "output_type": "error",
     "traceback": [
      "\u001b[1;31m---------------------------------------------------------------------------\u001b[0m",
      "\u001b[1;31mTypeError\u001b[0m                                 Traceback (most recent call last)",
      "\u001b[1;32m<ipython-input-37-3114cbc28f55>\u001b[0m in \u001b[0;36m<module>\u001b[1;34m\u001b[0m\n\u001b[0;32m      3\u001b[0m \u001b[0mprint\u001b[0m \u001b[1;33m(\u001b[0m\u001b[1;34m\"length of tuple is :\"\u001b[0m\u001b[1;33m,\u001b[0m\u001b[0mlen\u001b[0m\u001b[1;33m(\u001b[0m\u001b[0mplayers\u001b[0m\u001b[1;33m)\u001b[0m\u001b[1;33m)\u001b[0m\u001b[1;33m\u001b[0m\u001b[1;33m\u001b[0m\u001b[0m\n\u001b[0;32m      4\u001b[0m \u001b[0mprint\u001b[0m \u001b[1;33m(\u001b[0m\u001b[0mplayers\u001b[0m\u001b[1;33m[\u001b[0m\u001b[1;36m2\u001b[0m\u001b[1;33m]\u001b[0m\u001b[1;33m)\u001b[0m\u001b[1;33m\u001b[0m\u001b[1;33m\u001b[0m\u001b[0m\n\u001b[1;32m----> 5\u001b[1;33m \u001b[0mplayers\u001b[0m\u001b[1;33m[\u001b[0m\u001b[1;36m2\u001b[0m\u001b[1;33m]\u001b[0m \u001b[1;33m=\u001b[0m \u001b[1;34m\"Dhoni\"\u001b[0m\u001b[1;33m\u001b[0m\u001b[1;33m\u001b[0m\u001b[0m\n\u001b[0m",
      "\u001b[1;31mTypeError\u001b[0m: 'tuple' object does not support item assignment"
     ]
    }
   ],
   "source": [
    "players = (\"Dravid\",\"Bumrah\",\"Shewag\",\"Kumble\")\n",
    "type(players)\n",
    "print (\"length of tuple is :\",len(players))\n",
    "print (players[2])\n",
    "players[2] = \"Dhoni\""
   ]
  },
  {
   "cell_type": "code",
   "execution_count": 38,
   "metadata": {},
   "outputs": [],
   "source": [
    "# Tuple is immutable nd ordered in nature "
   ]
  },
  {
   "cell_type": "code",
   "execution_count": 40,
   "metadata": {},
   "outputs": [
    {
     "name": "stdout",
     "output_type": "stream",
     "text": [
      "('Dravid', 'Bumrah', 'Shewag', 'Kumble')\n"
     ]
    },
    {
     "data": {
      "text/plain": [
       "tuple"
      ]
     },
     "execution_count": 40,
     "metadata": {},
     "output_type": "execute_result"
    }
   ],
   "source": [
    "player1 = \"Dravid\",\"Bumrah\",\"Shewag\",\"Kumble\"\n",
    "print (player1)\n",
    "type(player1)"
   ]
  },
  {
   "cell_type": "code",
   "execution_count": 42,
   "metadata": {},
   "outputs": [
    {
     "data": {
      "text/plain": [
       "1"
      ]
     },
     "execution_count": 42,
     "metadata": {},
     "output_type": "execute_result"
    }
   ],
   "source": [
    "player1.count(\"Dravid\")"
   ]
  },
  {
   "cell_type": "markdown",
   "metadata": {},
   "source": [
    "# List are mutable and ordered "
   ]
  },
  {
   "cell_type": "code",
   "execution_count": 58,
   "metadata": {},
   "outputs": [
    {
     "data": {
      "text/plain": [
       "list"
      ]
     },
     "execution_count": 58,
     "metadata": {},
     "output_type": "execute_result"
    }
   ],
   "source": [
    "actors_List = [\"Amitabh\",\"devanand\",\"hritik\",\"maheshbabu\"]\n",
    "actors_List\n",
    "type(actors_List)"
   ]
  },
  {
   "cell_type": "code",
   "execution_count": 63,
   "metadata": {},
   "outputs": [
    {
     "name": "stdout",
     "output_type": "stream",
     "text": [
      "['Amitabh', 'Nana patekar', 'Nana patekar', 'maheshbabu']\n",
      "['maheshbabu', 'Nana patekar', 'Nana patekar', 'Amitabh']\n"
     ]
    },
    {
     "data": {
      "text/plain": [
       "2"
      ]
     },
     "execution_count": 63,
     "metadata": {},
     "output_type": "execute_result"
    }
   ],
   "source": [
    "actors_List[2] = \"Nana patekar\"\n",
    "actors_List\n",
    "print (actors_List)\n",
    "actors_List.reverse()\n",
    "actors_List    # reversed list\n",
    "print(actors_List)\n",
    "actors_List.count('Nana patekar') \n"
   ]
  },
  {
   "cell_type": "code",
   "execution_count": 3,
   "metadata": {},
   "outputs": [
    {
     "name": "stdout",
     "output_type": "stream",
     "text": [
      "Its Mutable ['Amitabh', 'devanand', 'pathan', 'maheshbabu']\n"
     ]
    },
    {
     "ename": "TypeError",
     "evalue": "'tuple' object does not support item assignment",
     "output_type": "error",
     "traceback": [
      "\u001b[1;31m---------------------------------------------------------------------------\u001b[0m",
      "\u001b[1;31mTypeError\u001b[0m                                 Traceback (most recent call last)",
      "\u001b[1;32m<ipython-input-3-7bcb6573884f>\u001b[0m in \u001b[0;36m<module>\u001b[1;34m\u001b[0m\n\u001b[0;32m      6\u001b[0m \u001b[0mprint\u001b[0m\u001b[1;33m(\u001b[0m\u001b[1;34m\"Its Mutable\"\u001b[0m\u001b[1;33m,\u001b[0m\u001b[0mactors_List\u001b[0m\u001b[1;33m)\u001b[0m\u001b[1;33m\u001b[0m\u001b[1;33m\u001b[0m\u001b[0m\n\u001b[0;32m      7\u001b[0m \u001b[1;33m\u001b[0m\u001b[0m\n\u001b[1;32m----> 8\u001b[1;33m \u001b[0mplayer1\u001b[0m\u001b[1;33m[\u001b[0m\u001b[1;36m1\u001b[0m\u001b[1;33m]\u001b[0m \u001b[1;33m=\u001b[0m \u001b[1;34m\"Kapil\"\u001b[0m\u001b[1;33m\u001b[0m\u001b[1;33m\u001b[0m\u001b[0m\n\u001b[0m\u001b[0;32m      9\u001b[0m \u001b[0mprint\u001b[0m\u001b[1;33m(\u001b[0m\u001b[1;34m\"Its Immutable \"\u001b[0m\u001b[1;33m,\u001b[0m\u001b[0mplayer1\u001b[0m\u001b[1;33m)\u001b[0m\u001b[1;33m\u001b[0m\u001b[1;33m\u001b[0m\u001b[0m\n",
      "\u001b[1;31mTypeError\u001b[0m: 'tuple' object does not support item assignment"
     ]
    }
   ],
   "source": [
    "# show list are mutable & Tuples are immutable with an example \n",
    "actors_List = [\"Amitabh\",\"devanand\",\"hritik\",\"maheshbabu\"]\n",
    "player1 = \"Dravid\",\"Bumrah\",\"Shewag\",\"Kumble\"\n",
    "\n",
    "actors_List[2] = \"pathan\"\n",
    "print(\"Its Mutable\",actors_List)    \n",
    "\n",
    "player1[1] = \"Kapil\"\n",
    "print(\"Its Immutable \",player1)\n"
   ]
  },
  {
   "cell_type": "code",
   "execution_count": 6,
   "metadata": {},
   "outputs": [
    {
     "name": "stdout",
     "output_type": "stream",
     "text": [
      "Become a Pro with these valuable skills. Start Your Course Today. \n",
      "Join Millions of Learners From Already Learning On Udemy! Download To Your Phone. \n",
      "Over 130,000 Courses. 30-Day Money Guarantee. 40M Students Enrolled. \n",
      "Expert Instructors. Lifetime Access\n"
     ]
    }
   ],
   "source": [
    "# strings can be created using the single Quaotes and DOuble Quotes \n",
    "# when u have paragraph we can use triple Quotes & we can enclude enter as well  .. \"\"\" \"\"\"\n",
    "text = \"\"\"Become a Pro with these valuable skills. Start Your Course Today. \n",
    "Join Millions of Learners From Already Learning On Udemy! Download To Your Phone. \n",
    "Over 130,000 Courses. 30-Day Money Guarantee. 40M Students Enrolled. \n",
    "Expert Instructors. Lifetime Access\"\"\"\n",
    "\n",
    "print(text)\n"
   ]
  },
  {
   "cell_type": "code",
   "execution_count": 7,
   "metadata": {},
   "outputs": [
    {
     "data": {
      "text/plain": [
       "'Become a Pro with these valuable skills. Start Your Course Today. \\nJoin Millions of Learners From Already Learning On Udemy! Download To Your Phone. \\nOver 130,000 Courses. 30-Day Money Guarantee. 40M Students Enrolled. \\nExpert Instructors. Lifetime Access'"
      ]
     },
     "execution_count": 7,
     "metadata": {},
     "output_type": "execute_result"
    }
   ],
   "source": [
    "text"
   ]
  },
  {
   "cell_type": "code",
   "execution_count": 10,
   "metadata": {},
   "outputs": [
    {
     "name": "stdout",
     "output_type": "stream",
     "text": [
      "become a pro with these valuable skills. start your course today. \n",
      "join millions of learners from already learning on udemy! download to your phone. \n",
      "over 130,000 courses. 30-day money guarantee. 40m students enrolled. \n",
      "expert instructors. lifetime access\n"
     ]
    }
   ],
   "source": [
    "print(text.lower())"
   ]
  },
  {
   "cell_type": "code",
   "execution_count": 12,
   "metadata": {},
   "outputs": [
    {
     "name": "stdout",
     "output_type": "stream",
     "text": [
      "become a pro with these valuable skills. start your course today. \n",
      "join millions of learners from already learning on udemy! download to your phone. \n",
      "over 130,000 courses. 30-day money guarantee. 40m students enrolled. \n",
      "expert instructors. lifetime access\n"
     ]
    }
   ],
   "source": [
    "text_lower = text.lower()\n",
    "print(text_lower)"
   ]
  },
  {
   "cell_type": "code",
   "execution_count": 13,
   "metadata": {},
   "outputs": [
    {
     "name": "stdout",
     "output_type": "stream",
     "text": [
      "BECOME A PRO WITH THESE VALUABLE SKILLS. START YOUR COURSE TODAY. \n",
      "JOIN MILLIONS OF LEARNERS FROM ALREADY LEARNING ON UDEMY! DOWNLOAD TO YOUR PHONE. \n",
      "OVER 130,000 COURSES. 30-DAY MONEY GUARANTEE. 40M STUDENTS ENROLLED. \n",
      "EXPERT INSTRUCTORS. LIFETIME ACCESS\n"
     ]
    }
   ],
   "source": [
    "text_upper = text.upper()\n",
    "print(text_upper)"
   ]
  },
  {
   "cell_type": "code",
   "execution_count": 27,
   "metadata": {},
   "outputs": [
    {
     "name": "stdout",
     "output_type": "stream",
     "text": [
      "Become a pro with these valuable skills. start your course today. \n",
      "join millions of learners from already learning on udemy! download to your phone. \n",
      "over 130,000 courses. 30-day money guarantee. 40m students enrolled. \n",
      "expert instructors. lifetime access\n"
     ]
    }
   ],
   "source": [
    "words = text_lower.split()\n",
    "#print(words)\n",
    "\n",
    "print(text_lower.capitalize())"
   ]
  },
  {
   "cell_type": "code",
   "execution_count": 26,
   "metadata": {},
   "outputs": [
    {
     "name": "stdout",
     "output_type": "stream",
     "text": [
      "Become A Pro With These Valuable Skills. Start Your Course Today. \n",
      "Join Millions Of Learners From Already Learning On Udemy! Download To Your Phone. \n",
      "Over 130,000 Courses. 30-Day Money Guarantee. 40M Students Enrolled. \n",
      "Expert Instructors. Lifetime Access\n"
     ]
    }
   ],
   "source": [
    "print (text_lower.title())"
   ]
  },
  {
   "cell_type": "code",
   "execution_count": 29,
   "metadata": {},
   "outputs": [
    {
     "data": {
      "text/plain": [
       "True"
      ]
     },
     "execution_count": 29,
     "metadata": {},
     "output_type": "execute_result"
    }
   ],
   "source": [
    "text.endswith('s',0,6)\n",
    "text.endswith('e',0,6)"
   ]
  },
  {
   "cell_type": "code",
   "execution_count": 32,
   "metadata": {},
   "outputs": [
    {
     "data": {
      "text/plain": [
       "1"
      ]
     },
     "execution_count": 32,
     "metadata": {},
     "output_type": "execute_result"
    }
   ],
   "source": [
    "text.count('to')"
   ]
  },
  {
   "cell_type": "code",
   "execution_count": 34,
   "metadata": {},
   "outputs": [
    {
     "name": "stdout",
     "output_type": "stream",
     "text": [
      "['Become', 'a', 'Pro', 'with', 'these', 'valuable', 'skills.', 'Start', 'Your', 'Course', 'Today.', 'Join', 'Millions', 'of', 'Learners', 'From', 'Already', 'Learning', 'On', 'Udemy!', 'Download', 'To', 'Your', 'Phone.', 'Over', '130,000', 'Courses.', '30-Day', 'Money', 'Guarantee.', '40M', 'Students', 'Enrolled.', 'Expert', 'Instructors.', 'Lifetime', 'Access']\n"
     ]
    }
   ],
   "source": [
    "print(text.rstrip().split())"
   ]
  },
  {
   "cell_type": "code",
   "execution_count": 35,
   "metadata": {},
   "outputs": [
    {
     "name": "stdout",
     "output_type": "stream",
     "text": [
      "['Become', 'a', 'Pro', 'with', 'these', 'valuable', 'skills.', 'Start', 'Your', 'Course', 'Today.', 'Join', 'Millions', 'of', 'Learners', 'From', 'Already', 'Learning', 'On', 'Udemy!', 'Download', 'To', 'Your', 'Phone.', 'Over', '130,000', 'Courses.', '30-Day', 'Money', 'Guarantee.', '40M', 'Students', 'Enrolled.', 'Expert', 'Instructors.', 'Lifetime', 'Access']\n"
     ]
    }
   ],
   "source": [
    "print(text.lstrip().split())"
   ]
  },
  {
   "cell_type": "code",
   "execution_count": 42,
   "metadata": {},
   "outputs": [
    {
     "name": "stdout",
     "output_type": "stream",
     "text": [
      "['become', 'a', 'pro', 'with', 'these', 'valuable', 'skills.', 'start', 'your', 'course', 'today.', 'join', 'millions', 'of', 'learners', 'from', 'already', 'learning', 'on', 'udemy!', 'download', 'to', 'your', 'phone.', 'over', '130,000', 'courses.', '30-day', 'money', 'guarantee.', '40m', 'students', 'enrolled.', 'expert', 'instructors.', 'lifetime', 'access', 'hello', 'hi', 'here', 'hello', 'hi', 'here', 'hello', 'hi', 'here']\n"
     ]
    }
   ],
   "source": [
    "words.append(\"hello\")\n",
    "words.extend([\"hi\",\"here\"])\n",
    "print(words)"
   ]
  },
  {
   "cell_type": "code",
   "execution_count": 49,
   "metadata": {},
   "outputs": [
    {
     "name": "stdout",
     "output_type": "stream",
     "text": [
      "['My', 'name', 'is', 'meerabo', 'shah', 'i', 'am', 'python', 'expert']\n"
     ]
    }
   ],
   "source": [
    "#   example of converting string to list \n",
    "string1 = \"My name is meerabo\"\n",
    "list1 = string1.split()\n",
    "list1.append(\"shah\")\n",
    "#list1.append([\"i\", \"am\", \"python\", \"expert\"])\n",
    "#print(list1)\n",
    "list1.extend([\"i\", \"am\", \"python\", \"expert\"])\n",
    "print(list1)"
   ]
  },
  {
   "cell_type": "code",
   "execution_count": 64,
   "metadata": {},
   "outputs": [
    {
     "data": {
      "text/plain": [
       "('Gujarat', 'Maharastra', 'Kerala', 'Rajasthan', 'Bengal')"
      ]
     },
     "execution_count": 64,
     "metadata": {},
     "output_type": "execute_result"
    }
   ],
   "source": [
    "tuple1 = (\"Gujarat\",\"Maharastra\",\"MP\",\"Kerala\",\"Rajasthan\",\"Bengal\")\n",
    "\n",
    "#append, extend, pop, reverse\n",
    "tuple1.count(\"MP\")\n",
    "tuple1.index(\"MP\")\n",
    "\n",
    "tuple1 + (\"delhi\",)    # append\n",
    "\n",
    "# so if we want to delete or inser at some point in yuple then we need to go for slicing \n",
    "\n",
    "tuple1[:2]\n",
    "tuple1[3:]\n",
    "tuple1 = tuple1[:2] + tuple1[3:]\n",
    "tuple1"
   ]
  },
  {
   "cell_type": "code",
   "execution_count": 66,
   "metadata": {},
   "outputs": [],
   "source": [
    "# Append: Add an element at end\n",
    "# extend: Add two or more elements at end \n",
    "# Insert : insert an element at a desired position\n",
    "# reverse: it reverese the order\n",
    "# pop: it removes last element and if we pass index we can remove from certain position.\n",
    "# delete : to remove multiple values \n",
    "\n",
    "# tuples we can not do append,extend,pop and all operations \n",
    "# for that we have to convert it to list and do the operations or do slicing \n"
   ]
  },
  {
   "cell_type": "code",
   "execution_count": 69,
   "metadata": {},
   "outputs": [
    {
     "name": "stdout",
     "output_type": "stream",
     "text": [
      "['Gujarat', 'Maharastra', 'Kerala', 'Rajasthan', 'Bengal']\n"
     ]
    }
   ],
   "source": [
    "tuple_list1 = list(tuple1)\n",
    "print (tuple_list1)"
   ]
  },
  {
   "cell_type": "markdown",
   "metadata": {},
   "source": [
    "# Dictionaries :"
   ]
  },
  {
   "cell_type": "code",
   "execution_count": 72,
   "metadata": {},
   "outputs": [
    {
     "name": "stdout",
     "output_type": "stream",
     "text": [
      "{'Telengana': 'Hyderbad', 'AP': 'Amaravathi', 'Haryana': 'Chandigarh', 'Gujarat': 'Gandhinagar', 'Meghalaya': 'Shillang'}\n",
      "dict_keys(['Telengana', 'AP', 'Haryana', 'Gujarat', 'Meghalaya'])\n"
     ]
    }
   ],
   "source": [
    "states_capitals = {\"Telengana\":\"Hyderbad\",\"AP\":\"Amaravathi\",\"Haryana\":\"Chandigarh\",\"Gujarat\":\"Gandhinagar\",\"Meghalaya\":\"Shillang\"}\n",
    "type(states_capitals)\n",
    "\n",
    "# Full Dictionary\n",
    "\n",
    "print (states_capitals)\n",
    "\n"
   ]
  },
  {
   "cell_type": "code",
   "execution_count": 73,
   "metadata": {},
   "outputs": [
    {
     "name": "stdout",
     "output_type": "stream",
     "text": [
      "dict_keys(['Telengana', 'AP', 'Haryana', 'Gujarat', 'Meghalaya'])\n"
     ]
    }
   ],
   "source": [
    "# Keys of Dictionaries\n",
    "\n",
    "print(states_capitals.keys())\n"
   ]
  },
  {
   "cell_type": "code",
   "execution_count": 74,
   "metadata": {},
   "outputs": [
    {
     "name": "stdout",
     "output_type": "stream",
     "text": [
      "dict_values(['Hyderbad', 'Amaravathi', 'Chandigarh', 'Gandhinagar', 'Shillang'])\n"
     ]
    }
   ],
   "source": [
    "# Values of Dictionaries\n",
    "\n",
    "print(states_capitals.values())"
   ]
  },
  {
   "cell_type": "code",
   "execution_count": 75,
   "metadata": {},
   "outputs": [
    {
     "name": "stdout",
     "output_type": "stream",
     "text": [
      "{'1': ['2', '3', '4'], '2': ['3', '4', '5'], '3': ['4', '5', '6']}\n"
     ]
    }
   ],
   "source": [
    "arrays_in_dict = {\"1\":[\"2\",\"3\",\"4\"],\"2\":[\"3\",\"4\",\"5\"],\"3\":[\"4\",\"5\",\"6\"]}\n",
    "print(arrays_in_dict)"
   ]
  },
  {
   "cell_type": "code",
   "execution_count": 76,
   "metadata": {},
   "outputs": [
    {
     "data": {
      "text/plain": [
       "dict_items([('Telengana', 'Hyderbad'), ('AP', 'Amaravathi'), ('Haryana', 'Chandigarh'), ('Gujarat', 'Gandhinagar'), ('Meghalaya', 'Shillang')])"
      ]
     },
     "execution_count": 76,
     "metadata": {},
     "output_type": "execute_result"
    }
   ],
   "source": [
    "states_capitals.items()"
   ]
  },
  {
   "cell_type": "code",
   "execution_count": 77,
   "metadata": {},
   "outputs": [
    {
     "ename": "KeyError",
     "evalue": "1",
     "output_type": "error",
     "traceback": [
      "\u001b[1;31m---------------------------------------------------------------------------\u001b[0m",
      "\u001b[1;31mKeyError\u001b[0m                                  Traceback (most recent call last)",
      "\u001b[1;32m<ipython-input-77-a654a371e34f>\u001b[0m in \u001b[0;36m<module>\u001b[1;34m\u001b[0m\n\u001b[1;32m----> 1\u001b[1;33m \u001b[0mstates_capitals\u001b[0m\u001b[1;33m[\u001b[0m\u001b[1;36m1\u001b[0m\u001b[1;33m]\u001b[0m\u001b[1;33m\u001b[0m\u001b[1;33m\u001b[0m\u001b[0m\n\u001b[0m",
      "\u001b[1;31mKeyError\u001b[0m: 1"
     ]
    }
   ],
   "source": [
    "states_capitals[1]   # we can not call dictionaries by index as it is unordered "
   ]
  },
  {
   "cell_type": "code",
   "execution_count": 81,
   "metadata": {},
   "outputs": [
    {
     "name": "stdout",
     "output_type": "stream",
     "text": [
      "{'Telengana': 'Hyderbad', 'AP': 'Amaravathi', 'Haryana': 'Chandigarh', 'Gujarat': 'Gandhinagar', 'Meghalaya': 'Shillang', 'cA': 'Ccd'}\n"
     ]
    }
   ],
   "source": [
    "states_capitals.update({\"cA\":\"Ccd\"})\n",
    "print (states_capitals)"
   ]
  },
  {
   "cell_type": "markdown",
   "metadata": {},
   "source": [
    "# sets \n",
    "\n",
    "set is unordered and mutable but elements in sets are immutable \n",
    "\n",
    "- Collection of elements with different data types \n",
    "- Collection unique elements\n",
    "- Indexing can not  be performed in set\n",
    "- Sets follow order# Sets\n",
    "\n",
    "\n",
    "- sets can be built using set() and {}\n",
    "\n",
    "\n"
   ]
  },
  {
   "cell_type": "code",
   "execution_count": 2,
   "metadata": {},
   "outputs": [
    {
     "data": {
      "text/plain": [
       "{'AI', 'Data Science', 'Machine Learning', 'Statistics'}"
      ]
     },
     "execution_count": 2,
     "metadata": {},
     "output_type": "execute_result"
    }
   ],
   "source": [
    "# note the double round-brackets while passing more than one value\n",
    "myset1 = set(['Data Science','AI','Machine Learning','Statistics'])\n",
    "myset1\n"
   ]
  },
  {
   "cell_type": "code",
   "execution_count": 4,
   "metadata": {},
   "outputs": [
    {
     "data": {
      "text/plain": [
       "{'AI', 'Data Science', 'Machine Learning', 'Statistics', 'pvtltd'}"
      ]
     },
     "execution_count": 4,
     "metadata": {},
     "output_type": "execute_result"
    }
   ],
   "source": [
    "myset1.add('pvtltd')\n",
    "myset1"
   ]
  },
  {
   "cell_type": "code",
   "execution_count": 10,
   "metadata": {},
   "outputs": [
    {
     "ename": "TypeError",
     "evalue": "'set' object does not support item assignment",
     "output_type": "error",
     "traceback": [
      "\u001b[1;31m---------------------------------------------------------------------------\u001b[0m",
      "\u001b[1;31mTypeError\u001b[0m                                 Traceback (most recent call last)",
      "\u001b[1;32m<ipython-input-10-5d02b90ad516>\u001b[0m in \u001b[0;36m<module>\u001b[1;34m\u001b[0m\n\u001b[0;32m      1\u001b[0m \u001b[0mmyset1\u001b[0m\u001b[1;33m.\u001b[0m\u001b[0mdiscard\u001b[0m\u001b[1;33m(\u001b[0m\u001b[1;34m'AI'\u001b[0m\u001b[1;33m)\u001b[0m\u001b[1;33m\u001b[0m\u001b[1;33m\u001b[0m\u001b[0m\n\u001b[0;32m      2\u001b[0m \u001b[0mmyset1\u001b[0m\u001b[1;33m\u001b[0m\u001b[1;33m\u001b[0m\u001b[0m\n\u001b[1;32m----> 3\u001b[1;33m \u001b[0mmyset1\u001b[0m\u001b[1;33m[\u001b[0m\u001b[1;36m1\u001b[0m\u001b[1;33m]\u001b[0m\u001b[1;33m=\u001b[0m\u001b[1;34m'hello'\u001b[0m\u001b[1;33m\u001b[0m\u001b[1;33m\u001b[0m\u001b[0m\n\u001b[0m",
      "\u001b[1;31mTypeError\u001b[0m: 'set' object does not support item assignment"
     ]
    }
   ],
   "source": [
    "myset1.discard('AI')\n",
    "myset1"
   ]
  },
  {
   "cell_type": "code",
   "execution_count": null,
   "metadata": {},
   "outputs": [],
   "source": []
  },
  {
   "cell_type": "code",
   "execution_count": null,
   "metadata": {},
   "outputs": [],
   "source": []
  },
  {
   "cell_type": "code",
   "execution_count": null,
   "metadata": {},
   "outputs": [],
   "source": []
  },
  {
   "cell_type": "code",
   "execution_count": null,
   "metadata": {},
   "outputs": [],
   "source": []
  },
  {
   "cell_type": "code",
   "execution_count": null,
   "metadata": {},
   "outputs": [],
   "source": []
  },
  {
   "cell_type": "code",
   "execution_count": null,
   "metadata": {},
   "outputs": [],
   "source": []
  },
  {
   "cell_type": "code",
   "execution_count": null,
   "metadata": {},
   "outputs": [],
   "source": []
  }
 ],
 "metadata": {
  "kernelspec": {
   "display_name": "Python 3",
   "language": "python",
   "name": "python3"
  },
  "language_info": {
   "codemirror_mode": {
    "name": "ipython",
    "version": 3
   },
   "file_extension": ".py",
   "mimetype": "text/x-python",
   "name": "python",
   "nbconvert_exporter": "python",
   "pygments_lexer": "ipython3",
   "version": "3.7.4"
  }
 },
 "nbformat": 4,
 "nbformat_minor": 2
}
