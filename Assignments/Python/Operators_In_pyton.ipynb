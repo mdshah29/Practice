{
 "cells": [
  {
   "cell_type": "code",
   "execution_count": 1,
   "metadata": {},
   "outputs": [
    {
     "name": "stdout",
     "output_type": "stream",
     "text": [
      "0.6666666666666666\n"
     ]
    }
   ],
   "source": [
    "a = 2\n",
    "b = 3\n",
    "print (a / b)"
   ]
  },
  {
   "cell_type": "code",
   "execution_count": 2,
   "metadata": {},
   "outputs": [
    {
     "name": "stdout",
     "output_type": "stream",
     "text": [
      "0\n"
     ]
    }
   ],
   "source": [
    "print (a // b)"
   ]
  },
  {
   "cell_type": "code",
   "execution_count": 3,
   "metadata": {},
   "outputs": [
    {
     "name": "stdout",
     "output_type": "stream",
     "text": [
      "1\n"
     ]
    }
   ],
   "source": [
    "print (b // a)"
   ]
  },
  {
   "cell_type": "code",
   "execution_count": 4,
   "metadata": {},
   "outputs": [
    {
     "name": "stdout",
     "output_type": "stream",
     "text": [
      "1\n"
     ]
    }
   ],
   "source": [
    "print (b % a)"
   ]
  },
  {
   "cell_type": "markdown",
   "metadata": {},
   "source": [
    "### The standard assignment operators are available. That is,  $\\alpha$  $\\odot=\\beta$ is a shorthand for $\\alpha = \\alpha \\odot \\beta$\n",
    "where $\\odot$ is any binary arithmetic operator we saw above"
   ]
  },
  {
   "cell_type": "code",
   "execution_count": 5,
   "metadata": {},
   "outputs": [
    {
     "name": "stdout",
     "output_type": "stream",
     "text": [
      "17\n"
     ]
    }
   ],
   "source": [
    "a = 5\n",
    "b =12\n",
    "a += b\n",
    "print (a)"
   ]
  },
  {
   "cell_type": "code",
   "execution_count": 6,
   "metadata": {},
   "outputs": [
    {
     "data": {
      "text/plain": [
       "'0b1100'"
      ]
     },
     "execution_count": 6,
     "metadata": {},
     "output_type": "execute_result"
    }
   ],
   "source": [
    "bin(12)"
   ]
  },
  {
   "cell_type": "code",
   "execution_count": 7,
   "metadata": {},
   "outputs": [
    {
     "name": "stdout",
     "output_type": "stream",
     "text": [
      "Value of c is  12\n",
      "Value of c is  61\n",
      "Value of c is  49\n",
      "Value of c is  -61\n",
      "Value of c is  240\n",
      "Value of c is  15\n"
     ]
    }
   ],
   "source": [
    "a = 60            # 60 = 0011 1100  \n",
    "b = 13            # 13 = 0000 1101 \n",
    "\n",
    "c = a & b       # 12 = 0000 1100\n",
    "print (\"Value of c is \",c)\n",
    "\n",
    "c = a | b        # 61 = 0011 1101 \n",
    "print (\"Value of c is \",c)\n",
    "\n",
    "c = a ^ b        # 49 = 0011 0001\n",
    "print (\"Value of c is \",c)\n",
    "\n",
    "\n",
    "c = ~a           # -61 = 1100 0011\n",
    "print (\"Value of c is \",c)\n",
    "\n",
    "#The left operands value is moved left by the number of bits specified by the right operand.\n",
    "c = a << 2       # 240 = 1111 0000\n",
    "print (\"Value of c is \",c) \n",
    "\n",
    "#The left operands value is moved right by the number of bits specified by the right operand.\n",
    "c = a >> 2;       # 15 = 0000 1111\n",
    "print (\"Value of c is \",c)\n"
   ]
  },
  {
   "cell_type": "code",
   "execution_count": null,
   "metadata": {},
   "outputs": [],
   "source": [
    "marks=90\n",
    "if marks>=35:\n",
    "    print(\"Pass\")\n",
    "else:\n",
    "    print(\"Fail\")\n"
   ]
  }
 ],
 "metadata": {
  "kernelspec": {
   "display_name": "Python 3",
   "language": "python",
   "name": "python3"
  },
  "language_info": {
   "codemirror_mode": {
    "name": "ipython",
    "version": 3
   },
   "file_extension": ".py",
   "mimetype": "text/x-python",
   "name": "python",
   "nbconvert_exporter": "python",
   "pygments_lexer": "ipython3",
   "version": "3.7.4"
  }
 },
 "nbformat": 4,
 "nbformat_minor": 2
}
