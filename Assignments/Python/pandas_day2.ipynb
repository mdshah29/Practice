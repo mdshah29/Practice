{
 "cells": [
  {
   "cell_type": "code",
   "execution_count": 3,
   "metadata": {},
   "outputs": [
    {
     "name": "stdout",
     "output_type": "stream",
     "text": [
      "Series are : \n",
      " 0    6\n",
      "1    7\n",
      "2    8\n",
      "3    9\n",
      "4    5\n",
      "dtype: int64 \n",
      " 0    0\n",
      "1    1\n",
      "2    2\n",
      "3    3\n",
      "4    4\n",
      "5    5\n",
      "6    7\n",
      "dtype: int64\n"
     ]
    }
   ],
   "source": [
    "# 3.Aritmetic Functions\n",
    "\n",
    "import pandas as pd\n",
    "\n",
    "#Create two series\n",
    "s1=pd.Series([6,7,8,9,5])\n",
    "s2=pd.Series([0,1,2,3,4,5,7])\n",
    "print('Series are : \\n',s1, '\\n', s2)"
   ]
  },
  {
   "cell_type": "code",
   "execution_count": 4,
   "metadata": {},
   "outputs": [
    {
     "name": "stdout",
     "output_type": "stream",
     "text": [
      "A Series wih String values: \n",
      "  0    a\n",
      "1    b\n",
      "2    c\n",
      "3    S\n",
      "4    e\n",
      "5    J\n",
      "6    g\n",
      "7    B\n",
      "8    P\n",
      "9    o\n",
      "dtype: object\n",
      "string.str.upper(): \n",
      " 0    A\n",
      "1    B\n",
      "2    C\n",
      "3    S\n",
      "4    E\n",
      "5    J\n",
      "6    G\n",
      "7    B\n",
      "8    P\n",
      "9    O\n",
      "dtype: object\n",
      "string.str.lower(): \n",
      " 0    a\n",
      "1    b\n",
      "2    c\n",
      "3    s\n",
      "4    e\n",
      "5    j\n",
      "6    g\n",
      "7    b\n",
      "8    p\n",
      "9    o\n",
      "dtype: object\n"
     ]
    }
   ],
   "source": [
    "#Series with char/ string elements\n",
    "string=pd.Series(['a','b','c','S','e','J','g','B','P','o'])\n",
    "print('A Series wih String values: \\n ', string)\n",
    "print('string.str.upper(): \\n',string.str.upper())\n",
    "print('string.str.lower(): \\n',string.str.lower())\n"
   ]
  },
  {
   "cell_type": "code",
   "execution_count": 6,
   "metadata": {},
   "outputs": [
    {
     "name": "stdout",
     "output_type": "stream",
     "text": [
      "California    3833\n",
      "Texas         8193\n",
      "New York      6511\n",
      "Florida       5560\n",
      "Ohio          1135\n",
      "dtype: int64\n"
     ]
    }
   ],
   "source": [
    "#6.Pandas DataFrames\n",
    "#Creation of DataFrames\n",
    "#Dataframe as a stack of Series. we create two columns using series and then make a DataFrame\n",
    "\n",
    "population_d= {'California': 3833, 'Texas': 8193, 'New York': 6511, 'Florida': 5560, 'Ohio': 1135} #Statewise population\n",
    "\n",
    "#print(population_d, type(population_d))\n",
    "population = pd.Series(population_d)\n",
    "print(population)\n"
   ]
  },
  {
   "cell_type": "code",
   "execution_count": 8,
   "metadata": {},
   "outputs": [
    {
     "name": "stdout",
     "output_type": "stream",
     "text": [
      "California    423967\n",
      "Texas         695662\n",
      "New York      141297\n",
      "Florida       170312\n",
      "Ohio          149995\n",
      "dtype: int64\n"
     ]
    }
   ],
   "source": [
    "area_d = {'California': 423967, 'Texas': 695662, 'New York': 141297,  'Florida': 170312, 'Ohio': 149995}\n",
    "area = pd.Series(area_d)\n",
    "print(area)\n"
   ]
  },
  {
   "cell_type": "code",
   "execution_count": 9,
   "metadata": {},
   "outputs": [
    {
     "name": "stdout",
     "output_type": "stream",
     "text": [
      "Data Frame of States: \n",
      "             Population    Area\n",
      "California        3833  423967\n",
      "Texas             8193  695662\n",
      "New York          6511  141297\n",
      "Florida           5560  170312\n",
      "Ohio              1135  149995\n"
     ]
    }
   ],
   "source": [
    "states = pd.DataFrame({'Population': population, 'Area': area}) #two series with same index\n",
    "print(\"Data Frame of States: \\n\", states)"
   ]
  },
  {
   "cell_type": "code",
   "execution_count": 12,
   "metadata": {},
   "outputs": [
    {
     "name": "stdout",
     "output_type": "stream",
     "text": [
      "Array is : \n",
      " [[-0.24878389  0.0082247   1.81506879  0.82785869]\n",
      " [-0.24320366 -0.31404347 -0.18200454 -0.25730413]\n",
      " [ 0.07553616  0.842246    0.00909922  1.02356254]\n",
      " [-1.11050775  0.89796613 -0.03985498 -0.10499166]\n",
      " [-1.20616971  0.47509261  0.4587711   1.87065952]\n",
      " [-0.31586353 -1.42527405 -0.1119677  -1.65189778]]\n",
      "\n",
      " Data Frame from numpy array is : \n",
      "\n",
      "            A         B         C         D\n",
      "i   -0.248784  0.008225  1.815069  0.827859\n",
      "ii  -0.243204 -0.314043 -0.182005 -0.257304\n",
      "iii  0.075536  0.842246  0.009099  1.023563\n",
      "iv  -1.110508  0.897966 -0.039855 -0.104992\n",
      "v   -1.206170  0.475093  0.458771  1.870660\n",
      "vi  -0.315864 -1.425274 -0.111968 -1.651898\n"
     ]
    },
    {
     "data": {
      "text/html": [
       "<div>\n",
       "<style scoped>\n",
       "    .dataframe tbody tr th:only-of-type {\n",
       "        vertical-align: middle;\n",
       "    }\n",
       "\n",
       "    .dataframe tbody tr th {\n",
       "        vertical-align: top;\n",
       "    }\n",
       "\n",
       "    .dataframe thead th {\n",
       "        text-align: right;\n",
       "    }\n",
       "</style>\n",
       "<table border=\"1\" class=\"dataframe\">\n",
       "  <thead>\n",
       "    <tr style=\"text-align: right;\">\n",
       "      <th></th>\n",
       "      <th>A</th>\n",
       "      <th>B</th>\n",
       "      <th>C</th>\n",
       "      <th>D</th>\n",
       "    </tr>\n",
       "  </thead>\n",
       "  <tbody>\n",
       "    <tr>\n",
       "      <td>i</td>\n",
       "      <td>-0.248784</td>\n",
       "      <td>0.008225</td>\n",
       "      <td>1.815069</td>\n",
       "      <td>0.827859</td>\n",
       "    </tr>\n",
       "    <tr>\n",
       "      <td>ii</td>\n",
       "      <td>-0.243204</td>\n",
       "      <td>-0.314043</td>\n",
       "      <td>-0.182005</td>\n",
       "      <td>-0.257304</td>\n",
       "    </tr>\n",
       "    <tr>\n",
       "      <td>iii</td>\n",
       "      <td>0.075536</td>\n",
       "      <td>0.842246</td>\n",
       "      <td>0.009099</td>\n",
       "      <td>1.023563</td>\n",
       "    </tr>\n",
       "    <tr>\n",
       "      <td>iv</td>\n",
       "      <td>-1.110508</td>\n",
       "      <td>0.897966</td>\n",
       "      <td>-0.039855</td>\n",
       "      <td>-0.104992</td>\n",
       "    </tr>\n",
       "    <tr>\n",
       "      <td>v</td>\n",
       "      <td>-1.206170</td>\n",
       "      <td>0.475093</td>\n",
       "      <td>0.458771</td>\n",
       "      <td>1.870660</td>\n",
       "    </tr>\n",
       "    <tr>\n",
       "      <td>vi</td>\n",
       "      <td>-0.315864</td>\n",
       "      <td>-1.425274</td>\n",
       "      <td>-0.111968</td>\n",
       "      <td>-1.651898</td>\n",
       "    </tr>\n",
       "  </tbody>\n",
       "</table>\n",
       "</div>"
      ],
      "text/plain": [
       "            A         B         C         D\n",
       "i   -0.248784  0.008225  1.815069  0.827859\n",
       "ii  -0.243204 -0.314043 -0.182005 -0.257304\n",
       "iii  0.075536  0.842246  0.009099  1.023563\n",
       "iv  -1.110508  0.897966 -0.039855 -0.104992\n",
       "v   -1.206170  0.475093  0.458771  1.870660\n",
       "vi  -0.315864 -1.425274 -0.111968 -1.651898"
      ]
     },
     "execution_count": 12,
     "metadata": {},
     "output_type": "execute_result"
    }
   ],
   "source": [
    "# create dict with Numpy array \n",
    "\n",
    "import numpy as np\n",
    "num_arr=np.random.randn(6,4) #random delection of numbers following a standard normal distribution\n",
    "\n",
    "print(\"Array is : \\n\", num_arr)\n",
    "cols=['A','B','C','D'] #arrays will not have index and columns\n",
    "df1=pd.DataFrame(num_arr, columns=cols, index = ['i', 'ii', 'iii', 'iv', 'v', 'vi'])\n",
    "\n",
    "#array of values, index, column\n",
    "print('\\n Data Frame from numpy array is : \\n')\n",
    "print(df1)\n",
    "\n",
    "df1"
   ]
  },
  {
   "cell_type": "code",
   "execution_count": 13,
   "metadata": {},
   "outputs": [
    {
     "name": "stdout",
     "output_type": "stream",
     "text": [
      "      city  year  pop\n",
      "0   Bombay  2001   25\n",
      "1  Chennai  2005   35\n",
      "2  Chennai  2003   20\n",
      "3    Delhi  2001   40\n",
      "4   Mysore  2000   15\n"
     ]
    }
   ],
   "source": [
    "# create a dataframe using a dictionary of Lists, values are lists and column names are keys\n",
    "\n",
    "data= {'city' : ['Bombay', 'Chennai', 'Chennai', 'Delhi', 'Mysore' ], 'year' : [2001, 2005, 2003, 2001, 2000],  'pop' : [25, 35, 20, 40, 15]}\n",
    "df2= pd.DataFrame(data)\n",
    "print(df2)\n",
    "#observe index is assigned automatically"
   ]
  },
  {
   "cell_type": "code",
   "execution_count": 14,
   "metadata": {},
   "outputs": [
    {
     "name": "stdout",
     "output_type": "stream",
     "text": [
      "      city  year  pop\n",
      "a   Bombay  2001   25\n",
      "b  Chennai  2005   35\n",
      "c  Chennai  2003   20\n",
      "d    Delhi  2001   40\n",
      "e   Mysore  2000   15\n"
     ]
    }
   ],
   "source": [
    "# create a dataframe using a dictionary of Lists, values are lists and column names are keys\n",
    "data= {'city' : ['Bombay', 'Chennai', 'Chennai', 'Delhi', 'Mysore' ], 'year' :\n",
    "[2001, 2005, 2003, 2001, 2000],\n",
    " 'pop' : [25, 35, 20, 40, 15]} #this will have only columns no index\n",
    "labels=['a', 'b', 'c', 'd', 'e']\n",
    "df2= pd.DataFrame(data, index=labels)\n",
    "print(df2)\n",
    "#observe index is assigned automatically"
   ]
  },
  {
   "cell_type": "code",
   "execution_count": 17,
   "metadata": {},
   "outputs": [
    {
     "name": "stdout",
     "output_type": "stream",
     "text": [
      "  Animals  Age  Visits Priority\n",
      "a     cat  2.5       1        y\n",
      "b     cat  3.0       3        y\n",
      "c  turtle  0.5       2        n\n",
      "d     dog  NaN       3        y\n",
      "e     dog  5.0       2        n\n",
      "f     cat  2.0       3        n\n",
      "g  turtle  4.5       1        n\n",
      "h     cat  NaN       1        y\n",
      "i     dog  7.0       2        n\n",
      "j     dog  3.0       1        n\n",
      "<class 'pandas.core.frame.DataFrame'>\n"
     ]
    }
   ],
   "source": [
    "#14. DataFrame Attributes - index, cols, values, datatype of values\n",
    "\n",
    "#First Create a DataFrame\n",
    "\n",
    "data={'Animals':\n",
    "['cat','cat','turtle','dog','dog','cat','turtle','cat','dog','dog'],\n",
    " 'Age': [2.5,3,0.5,np.nan,5,2,4.5,np.nan,7,3],\n",
    " 'Visits' : [1,3,2,3,2,3,1,1,2,1],\n",
    " 'Priority' : ['y','y','n','y','n','n','n','y','n','n']}\n",
    "labels=['a','b','c','d','e','f','g','h','i','j']\n",
    "\n",
    "animals_data=pd.DataFrame(data,index=labels)\n",
    "print(animals_data)\n",
    "print(type(animals_data))\n"
   ]
  },
  {
   "cell_type": "code",
   "execution_count": 19,
   "metadata": {},
   "outputs": [
    {
     "name": "stdout",
     "output_type": "stream",
     "text": [
      "\n",
      " animals_data.index:\n",
      "  Index(['a', 'b', 'c', 'd', 'e', 'f', 'g', 'h', 'i', 'j'], dtype='object')\n",
      "\n",
      " animals_data.columns:\n",
      " Index(['Animals', 'Age', 'Visits', 'Priority'], dtype='object')\n",
      "\n",
      " animals_data.values:\n",
      " [['cat' 2.5 1 'y']\n",
      " ['cat' 3.0 3 'y']\n",
      " ['turtle' 0.5 2 'n']\n",
      " ['dog' nan 3 'y']\n",
      " ['dog' 5.0 2 'n']\n",
      " ['cat' 2.0 3 'n']\n",
      " ['turtle' 4.5 1 'n']\n",
      " ['cat' nan 1 'y']\n",
      " ['dog' 7.0 2 'n']\n",
      " ['dog' 3.0 1 'n']]\n",
      "\n",
      " animals_data.dtypes:\n",
      " Animals      object\n",
      "Age         float64\n",
      "Visits        int64\n",
      "Priority     object\n",
      "dtype: object\n"
     ]
    }
   ],
   "source": [
    "\n",
    "print(\"\\n animals_data.index:\\n \", animals_data.index)\n",
    "print(\"\\n animals_data.columns:\\n\", animals_data.columns)\n",
    "print(\"\\n animals_data.values:\\n\", animals_data.values) #will show only values without index and column names\n",
    "\n",
    "print(\"\\n animals_data.dtypes:\\n\", animals_data.dtypes) #will show the datatype of each column\n",
    "\n",
    "#print(animals_data.head()) # will display top 5 lines of the dataFrame\n",
    "#print(animals_data.tail()) # will display bottom 5 lines of the dataframe\n"
   ]
  },
  {
   "cell_type": "code",
   "execution_count": 25,
   "metadata": {},
   "outputs": [
    {
     "name": "stdout",
     "output_type": "stream",
     "text": [
      "\n",
      " animals_data.loc['a', :] :\n",
      " Animals     cat\n",
      "Age         2.5\n",
      "Visits        1\n",
      "Priority      y\n",
      "Name: a, dtype: object\n"
     ]
    }
   ],
   "source": [
    "#Accessing rows of a DataFrame by implict and explicit index\n",
    "\n",
    "print(\"\\n animals_data.loc['a', :] :\\n\", animals_data.loc['a', :]) #values of a row are given as columns\n"
   ]
  },
  {
   "cell_type": "code",
   "execution_count": 24,
   "metadata": {},
   "outputs": [
    {
     "name": "stdout",
     "output_type": "stream",
     "text": [
      "\n",
      " Rows 1 to 3 using slicing: \n",
      "    Visits\n",
      "b       3\n",
      "c       2\n"
     ]
    }
   ],
   "source": [
    "print(\"\\n Rows 1 to 3 using slicing: \\n\",animals_data.iloc[1:3, 2:3] ) #iloc for implicit indexing"
   ]
  },
  {
   "cell_type": "code",
   "execution_count": 26,
   "metadata": {},
   "outputs": [
    {
     "name": "stdout",
     "output_type": "stream",
     "text": [
      "\n",
      " animals_data['Animals']:\n",
      " a       cat\n",
      "b       cat\n",
      "c    turtle\n",
      "d       dog\n",
      "e       dog\n",
      "f       cat\n",
      "g    turtle\n",
      "h       cat\n",
      "i       dog\n",
      "j       dog\n",
      "Name: Animals, dtype: object\n",
      "\n",
      " animals_data['Age'] :\n",
      " a    2.5\n",
      "b    3.0\n",
      "c    0.5\n",
      "d    NaN\n",
      "e    5.0\n",
      "f    2.0\n",
      "g    4.5\n",
      "h    NaN\n",
      "i    7.0\n",
      "j    3.0\n",
      "Name: Age, dtype: float64\n",
      "\n",
      " animals_data.Animal:\n",
      " a       cat\n",
      "b       cat\n",
      "c    turtle\n",
      "d       dog\n",
      "e       dog\n",
      "f       cat\n",
      "g    turtle\n",
      "h       cat\n",
      "i       dog\n",
      "j       dog\n",
      "Name: Animals, dtype: object\n",
      "\n",
      " animals_data.loc['b', 'Age']:\n",
      " 3.0\n",
      "\n",
      " animals_data.loc['b', 'Age']:\n",
      " 50.0\n"
     ]
    }
   ],
   "source": [
    "#Accessing columns of a DataFrame 2 ways\n",
    "print(\"\\n animals_data['Animals']:\\n\",animals_data['Animals'] )\n",
    "print(\"\\n animals_data['Age'] :\\n\", animals_data['Age'])\n",
    "print(\"\\n animals_data.Animal:\\n\",animals_data.Animals)\n",
    "\n",
    "animals_data[['Age','Visits']] #Displaying particular Columns\n",
    "print(\"\\n animals_data.loc['b', 'Age']:\\n\",animals_data.loc['b', 'Age'])  #accessing by row and column\n",
    "\n",
    "animals_data.loc['b', 'Age'] =50   #updatinng a value in a Dataframe\n",
    "print(\"\\n animals_data.loc['b', 'Age']:\\n\",animals_data.loc['b', 'Age']) "
   ]
  },
  {
   "cell_type": "code",
   "execution_count": 27,
   "metadata": {},
   "outputs": [
    {
     "name": "stdout",
     "output_type": "stream",
     "text": [
      "<class 'pandas.core.frame.DataFrame'>\n",
      "Index: 10 entries, a to j\n",
      "Data columns (total 4 columns):\n",
      "Animals     10 non-null object\n",
      "Age         8 non-null float64\n",
      "Visits      10 non-null int64\n",
      "Priority    10 non-null object\n",
      "dtypes: float64(1), int64(1), object(2)\n",
      "memory usage: 720.0+ bytes\n",
      "None\n",
      "\n",
      " Statistical Description : \n",
      "              Age     Visits\n",
      "count   8.000000  10.000000\n",
      "mean    9.312500   1.900000\n",
      "std    16.561439   0.875595\n",
      "min     0.500000   1.000000\n",
      "25%     2.375000   1.000000\n",
      "50%     3.750000   2.000000\n",
      "75%     5.500000   2.750000\n",
      "max    50.000000   3.000000\n",
      "\n",
      " Description for object values: \n",
      "        Animals Priority\n",
      "count       10       10\n",
      "unique       3        2\n",
      "top        dog        n\n",
      "freq         4        6\n"
     ]
    }
   ],
   "source": [
    "# Information about the whole dataframe\n",
    "print( animals_data.info())\n",
    "\n",
    "#nrows, ncols, index, datatype of each column, number of nonnull values\n",
    "#statistical data of dataframe\n",
    "\n",
    "print('\\n Statistical Description : \\n',animals_data.describe())\n",
    "#mean std max min quartiles for columns with numeric type\n",
    "\n",
    "print('\\n Description for object values: \\n',animals_data.describe(include =['object']))\n",
    "#count, unique values, mode , freq\n"
   ]
  },
  {
   "cell_type": "code",
   "execution_count": 28,
   "metadata": {},
   "outputs": [
    {
     "name": "stdout",
     "output_type": "stream",
     "text": [
      "\n",
      " Description for object values: \n",
      "        Animals Priority\n",
      "count       10       10\n",
      "unique       3        2\n",
      "top        dog        n\n",
      "freq         4        6\n"
     ]
    }
   ],
   "source": [
    "print('\\n Description for object values: \\n',animals_data.describe(include = ['object']))\n"
   ]
  },
  {
   "cell_type": "code",
   "execution_count": 29,
   "metadata": {},
   "outputs": [
    {
     "name": "stdout",
     "output_type": "stream",
     "text": [
      "Transpose of the Data Frame :\n"
     ]
    },
    {
     "data": {
      "text/html": [
       "<div>\n",
       "<style scoped>\n",
       "    .dataframe tbody tr th:only-of-type {\n",
       "        vertical-align: middle;\n",
       "    }\n",
       "\n",
       "    .dataframe tbody tr th {\n",
       "        vertical-align: top;\n",
       "    }\n",
       "\n",
       "    .dataframe thead th {\n",
       "        text-align: right;\n",
       "    }\n",
       "</style>\n",
       "<table border=\"1\" class=\"dataframe\">\n",
       "  <thead>\n",
       "    <tr style=\"text-align: right;\">\n",
       "      <th></th>\n",
       "      <th>a</th>\n",
       "      <th>b</th>\n",
       "      <th>c</th>\n",
       "      <th>d</th>\n",
       "      <th>e</th>\n",
       "      <th>f</th>\n",
       "      <th>g</th>\n",
       "      <th>h</th>\n",
       "      <th>i</th>\n",
       "      <th>j</th>\n",
       "    </tr>\n",
       "  </thead>\n",
       "  <tbody>\n",
       "    <tr>\n",
       "      <td>Animals</td>\n",
       "      <td>cat</td>\n",
       "      <td>cat</td>\n",
       "      <td>turtle</td>\n",
       "      <td>dog</td>\n",
       "      <td>dog</td>\n",
       "      <td>cat</td>\n",
       "      <td>turtle</td>\n",
       "      <td>cat</td>\n",
       "      <td>dog</td>\n",
       "      <td>dog</td>\n",
       "    </tr>\n",
       "    <tr>\n",
       "      <td>Age</td>\n",
       "      <td>2.5</td>\n",
       "      <td>50</td>\n",
       "      <td>0.5</td>\n",
       "      <td>NaN</td>\n",
       "      <td>5</td>\n",
       "      <td>2</td>\n",
       "      <td>4.5</td>\n",
       "      <td>NaN</td>\n",
       "      <td>7</td>\n",
       "      <td>3</td>\n",
       "    </tr>\n",
       "    <tr>\n",
       "      <td>Visits</td>\n",
       "      <td>1</td>\n",
       "      <td>3</td>\n",
       "      <td>2</td>\n",
       "      <td>3</td>\n",
       "      <td>2</td>\n",
       "      <td>3</td>\n",
       "      <td>1</td>\n",
       "      <td>1</td>\n",
       "      <td>2</td>\n",
       "      <td>1</td>\n",
       "    </tr>\n",
       "    <tr>\n",
       "      <td>Priority</td>\n",
       "      <td>y</td>\n",
       "      <td>y</td>\n",
       "      <td>n</td>\n",
       "      <td>y</td>\n",
       "      <td>n</td>\n",
       "      <td>n</td>\n",
       "      <td>n</td>\n",
       "      <td>y</td>\n",
       "      <td>n</td>\n",
       "      <td>n</td>\n",
       "    </tr>\n",
       "  </tbody>\n",
       "</table>\n",
       "</div>"
      ],
      "text/plain": [
       "            a    b       c    d    e    f       g    h    i    j\n",
       "Animals   cat  cat  turtle  dog  dog  cat  turtle  cat  dog  dog\n",
       "Age       2.5   50     0.5  NaN    5    2     4.5  NaN    7    3\n",
       "Visits      1    3       2    3    2    3       1    1    2    1\n",
       "Priority    y    y       n    y    n    n       n    y    n    n"
      ]
     },
     "execution_count": 29,
     "metadata": {},
     "output_type": "execute_result"
    }
   ],
   "source": [
    "print(\"Transpose of the Data Frame :\")\n",
    "animals_data.T"
   ]
  },
  {
   "cell_type": "code",
   "execution_count": 30,
   "metadata": {},
   "outputs": [
    {
     "name": "stdout",
     "output_type": "stream",
     "text": [
      "  Animals   Age  Visits Priority\n",
      "a     cat   2.5       1        y\n",
      "b     cat  50.0       3        y\n",
      "c  turtle   0.5       2        n\n",
      "d     dog   NaN       3        y\n",
      "e     dog   5.0       2        n\n",
      "f     cat   2.0       3        n\n",
      "g  turtle   4.5       1        n\n",
      "h     cat   NaN       1        y\n",
      "i     dog   7.0       2        n\n",
      "j     dog   3.0       1        n\n",
      "\n",
      " Sorting the Data Agewise:\n",
      "   Animals   Age  Visits Priority\n",
      "b     cat  50.0       3        y\n",
      "i     dog   7.0       2        n\n",
      "e     dog   5.0       2        n\n",
      "g  turtle   4.5       1        n\n",
      "j     dog   3.0       1        n\n",
      "a     cat   2.5       1        y\n",
      "f     cat   2.0       3        n\n",
      "c  turtle   0.5       2        n\n",
      "d     dog   NaN       3        y\n",
      "h     cat   NaN       1        y\n"
     ]
    },
    {
     "data": {
      "text/html": [
       "<div>\n",
       "<style scoped>\n",
       "    .dataframe tbody tr th:only-of-type {\n",
       "        vertical-align: middle;\n",
       "    }\n",
       "\n",
       "    .dataframe tbody tr th {\n",
       "        vertical-align: top;\n",
       "    }\n",
       "\n",
       "    .dataframe thead th {\n",
       "        text-align: right;\n",
       "    }\n",
       "</style>\n",
       "<table border=\"1\" class=\"dataframe\">\n",
       "  <thead>\n",
       "    <tr style=\"text-align: right;\">\n",
       "      <th></th>\n",
       "      <th>Animals</th>\n",
       "      <th>Age</th>\n",
       "      <th>Visits</th>\n",
       "      <th>Priority</th>\n",
       "    </tr>\n",
       "  </thead>\n",
       "  <tbody>\n",
       "    <tr>\n",
       "      <td>f</td>\n",
       "      <td>cat</td>\n",
       "      <td>2.0</td>\n",
       "      <td>3</td>\n",
       "      <td>n</td>\n",
       "    </tr>\n",
       "    <tr>\n",
       "      <td>a</td>\n",
       "      <td>cat</td>\n",
       "      <td>2.5</td>\n",
       "      <td>1</td>\n",
       "      <td>y</td>\n",
       "    </tr>\n",
       "    <tr>\n",
       "      <td>j</td>\n",
       "      <td>dog</td>\n",
       "      <td>3.0</td>\n",
       "      <td>1</td>\n",
       "      <td>n</td>\n",
       "    </tr>\n",
       "  </tbody>\n",
       "</table>\n",
       "</div>"
      ],
      "text/plain": [
       "  Animals  Age  Visits Priority\n",
       "f     cat  2.0       3        n\n",
       "a     cat  2.5       1        y\n",
       "j     dog  3.0       1        n"
      ]
     },
     "execution_count": 30,
     "metadata": {},
     "output_type": "execute_result"
    }
   ],
   "source": [
    "# Operation on DataFrame\n",
    "# Sorting DataFrames\n",
    "# Methods in DataFrame object Sort By Values\n",
    "print(animals_data)\n",
    "print(\"\\n Sorting the Data Agewise:\\n\", animals_data.sort_values(by = 'Age', ascending = False)) #sort by which column\n",
    "#Any missing value is sorted at end by default\n",
    "animals_data.sort_values(by='Age')[1:4]\n",
    "\n"
   ]
  },
  {
   "cell_type": "code",
   "execution_count": 31,
   "metadata": {},
   "outputs": [
    {
     "name": "stdout",
     "output_type": "stream",
     "text": [
      "\n",
      " Sorting the Data by Index:\n",
      "     Age Animals Priority  Visits\n",
      "a   2.5     cat        y       1\n",
      "b  50.0     cat        y       3\n",
      "c   0.5  turtle        n       2\n",
      "d   NaN     dog        y       3\n",
      "e   5.0     dog        n       2\n",
      "f   2.0     cat        n       3\n",
      "g   4.5  turtle        n       1\n",
      "h   NaN     cat        y       1\n",
      "i   7.0     dog        n       2\n",
      "j   3.0     dog        n       1\n"
     ]
    }
   ],
   "source": [
    "#Sort by index\n",
    "print(\"\\n Sorting the Data by Index:\\n\", animals_data.sort_index(axis=1))\n",
    "#Since it is already sorted you dont see the change"
   ]
  },
  {
   "cell_type": "code",
   "execution_count": 32,
   "metadata": {},
   "outputs": [
    {
     "name": "stdout",
     "output_type": "stream",
     "text": [
      "  Animals   Age  Visits Priority\n",
      "a     cat   2.5       1        y\n",
      "b     cat  50.0       3        y\n",
      "c  turtle   0.5       2        n\n",
      "d     dog   NaN       3        y\n",
      "e     dog   5.0       2        n\n",
      "f     cat   2.0       3        n\n",
      "g  turtle   4.5       1        n\n",
      "h     cat   NaN       1        y\n",
      "i     dog   7.0       2        n\n",
      "j     dog   3.0       1        n\n",
      "\n",
      " ReIndexed Data: \n",
      " <bound method DataFrame.reindex of   Animals   Age  Visits Priority\n",
      "a     cat   2.5       1        y\n",
      "b     cat  50.0       3        y\n",
      "c  turtle   0.5       2        n\n",
      "d     dog   NaN       3        y\n",
      "e     dog   5.0       2        n\n",
      "f     cat   2.0       3        n\n",
      "g  turtle   4.5       1        n\n",
      "h     cat   NaN       1        y\n",
      "i     dog   7.0       2        n\n",
      "j     dog   3.0       1        n>\n",
      "\n",
      " Sorted by row index:\n",
      "   Animals   Age  Visits Priority\n",
      "a     cat   2.5       1        y\n",
      "b     cat  50.0       3        y\n",
      "c  turtle   0.5       2        n\n",
      "d     dog   NaN       3        y\n",
      "e     dog   5.0       2        n\n",
      "f     cat   2.0       3        n\n",
      "g  turtle   4.5       1        n\n",
      "i     dog   7.0       2        n\n",
      "j     dog   3.0       1        n\n",
      "\n",
      " Sorted by Column Index:\n",
      "     Age Animals Priority  Visits\n",
      "d   NaN     dog        y       3\n",
      "e   5.0     dog        n       2\n",
      "g   4.5  turtle        n       1\n",
      "f   2.0     cat        n       3\n",
      "a   2.5     cat        y       1\n",
      "b  50.0     cat        y       3\n",
      "c   0.5  turtle        n       2\n",
      "i   7.0     dog        n       2\n",
      "j   3.0     dog        n       1\n"
     ]
    }
   ],
   "source": [
    "#. Create a new index Reindexing\n",
    "print(animals_data)\n",
    "animals_data_reindex = animals_data.reindex(['d', 'e', 'g', 'f', 'a', 'b', 'c', 'i', 'j'])\n",
    "\n",
    "print(\"\\n ReIndexed Data: \\n\",animals_data.reindex)\n",
    "print(\"\\n Sorted by row index:\\n\", animals_data_reindex.sort_index(axis=0))\n",
    "print(\"\\n Sorted by Column Index:\\n\", animals_data_reindex.sort_index(axis=1))"
   ]
  },
  {
   "cell_type": "code",
   "execution_count": 35,
   "metadata": {},
   "outputs": [
    {
     "name": "stdout",
     "output_type": "stream",
     "text": [
      "\n",
      " Copy of animals_data:\n",
      "   Animals   Age  Visits Priority\n",
      "a     cat   2.5       1        y\n",
      "b     cat  50.0       3        y\n",
      "c  turtle   0.5       2        n\n",
      "d     dog   NaN       3        y\n",
      "e     dog   5.0       2        n\n",
      "f     cat   2.0       3        n\n",
      "g  turtle   4.5       1        n\n",
      "h     cat   NaN       1        y\n",
      "i     dog   7.0       2        n\n",
      "j     dog   3.0       1        n\n"
     ]
    }
   ],
   "source": [
    "#23. Creating a copy\n",
    "animals_data_c=animals_data.copy()\n",
    "print(\"\\n Copy of animals_data:\\n\", animals_data_c)"
   ]
  },
  {
   "cell_type": "code",
   "execution_count": null,
   "metadata": {},
   "outputs": [],
   "source": []
  },
  {
   "cell_type": "code",
   "execution_count": 36,
   "metadata": {},
   "outputs": [
    {
     "name": "stdout",
     "output_type": "stream",
     "text": [
      "  Animals   Age  Visits Priority\n",
      "a     cat   2.5       1        y\n",
      "b     cat  50.0       3        y\n",
      "c  turtle   0.5       2        n\n",
      "d     dog   NaN       3        y\n",
      "e     dog   5.0       2        n\n",
      "f     cat   2.0       3        n\n",
      "g  turtle   4.5       1        n\n",
      "h     cat   NaN       1        y\n",
      "i     dog   7.0       2        n\n",
      "j     dog   3.0       1        n\n",
      "Drop rows with names 'a; and 'b':\n",
      "   Animals  Age  Visits Priority\n",
      "c  turtle  0.5       2        n\n",
      "d     dog  NaN       3        y\n",
      "e     dog  5.0       2        n\n",
      "f     cat  2.0       3        n\n",
      "g  turtle  4.5       1        n\n",
      "h     cat  NaN       1        y\n",
      "i     dog  7.0       2        n\n",
      "j     dog  3.0       1        n\n",
      "Drop rows with names 'a; and 'b':\n",
      " None\n"
     ]
    }
   ],
   "source": [
    "#24. Deleting a row or Column of a DataFrame\n",
    "print(animals_data)\n",
    "print(\"Drop rows with names 'a; and 'b':\\n\", animals_data.drop(['a', 'b']))\n",
    "\n",
    "#dropping rows\n",
    "#to drop the columns permanently use inplace - True\n",
    "\n",
    "print(\"Drop rows with names 'a; and 'b':\\n\", animals_data_c.drop(['a', 'b'], inplace=True))\n",
    "\n",
    "#print(animals_data.drop('Visits', axis=1))\n",
    "\n",
    "#dropping column columns are axis=1 for drop() default is row\n",
    "#So if we dont mention axis = 1 it will search for a row with name 'Visits'\n",
    "\n",
    "#print(animals_data.drop('Visits', axis='columns'))\n"
   ]
  },
  {
   "cell_type": "code",
   "execution_count": 37,
   "metadata": {},
   "outputs": [
    {
     "name": "stdout",
     "output_type": "stream",
     "text": [
      "Mean of the Dataframe is: \n",
      " Age       9.3125\n",
      "Visits    1.9000\n",
      "dtype: float64\n",
      "\n",
      "Mean of 'Age' is:  Age    9.3125\n",
      "dtype: float64\n",
      "\n",
      "Total visits : Visits    19\n",
      "dtype: int64\n",
      "\n",
      "Max visits:  Visits    3\n",
      "dtype: int64\n",
      "\n",
      "Min visits:  Visits    1\n",
      "dtype: int64\n",
      "\n",
      " Index of Max visits:  Visits    b\n",
      "dtype: object\n",
      "\n",
      " Index of Min visits:  Visits    a\n",
      "dtype: object\n",
      "\n",
      "Sum: \n",
      " Animals     catcatturtledogdogcatturtlecatdogdog\n",
      "Age                                         74.5\n",
      "Visits                                        19\n",
      "Priority                              yynynnnynn\n",
      "dtype: object\n"
     ]
    }
   ],
   "source": [
    "#Why doing an Aggregation on a Row doesnt make sense\n",
    "print(\"Mean of the Dataframe is: \\n\",animals_data.mean()) #mean of values in columns containing numeric data\n",
    "print(\"\\nMean of 'Age' is: \",animals_data[['Age']].mean())\n",
    "print(\"\\nTotal visits :\",animals_data[['Visits']].sum())\n",
    "print(\"\\nMax visits: \",animals_data[['Visits']].max())\n",
    "print(\"\\nMin visits: \",animals_data[['Visits']].min())\n",
    "print(\"\\n Index of Max visits: \",animals_data[['Visits']].idxmax())\n",
    "print(\"\\n Index of Min visits: \",animals_data[['Visits']].idxmin())\n",
    "print(\"\\nSum: \\n\",animals_data.sum()) #for strings sum is string concatenation"
   ]
  },
  {
   "cell_type": "code",
   "execution_count": null,
   "metadata": {},
   "outputs": [],
   "source": []
  }
 ],
 "metadata": {
  "kernelspec": {
   "display_name": "Python 3",
   "language": "python",
   "name": "python3"
  },
  "language_info": {
   "codemirror_mode": {
    "name": "ipython",
    "version": 3
   },
   "file_extension": ".py",
   "mimetype": "text/x-python",
   "name": "python",
   "nbconvert_exporter": "python",
   "pygments_lexer": "ipython3",
   "version": "3.7.4"
  }
 },
 "nbformat": 4,
 "nbformat_minor": 2
}
