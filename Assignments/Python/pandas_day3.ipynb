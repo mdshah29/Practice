{
 "cells": [
  {
   "cell_type": "code",
   "execution_count": 3,
   "metadata": {},
   "outputs": [],
   "source": [
    "import pandas as pd\n",
    "\n",
    "#Series Concatenation"
   ]
  },
  {
   "cell_type": "code",
   "execution_count": 3,
   "metadata": {},
   "outputs": [
    {
     "data": {
      "text/plain": [
       "1    A\n",
       "2    B\n",
       "3    C\n",
       "dtype: object"
      ]
     },
     "execution_count": 3,
     "metadata": {},
     "output_type": "execute_result"
    }
   ],
   "source": [
    "ser1 = pd.Series(['A','B','C'],index=[1,2,3])\n",
    "ser1"
   ]
  },
  {
   "cell_type": "code",
   "execution_count": 5,
   "metadata": {},
   "outputs": [
    {
     "data": {
      "text/plain": [
       "4    D\n",
       "5    E\n",
       "6    F\n",
       "dtype: object"
      ]
     },
     "execution_count": 5,
     "metadata": {},
     "output_type": "execute_result"
    }
   ],
   "source": [
    "ser2 = pd.Series( ['D', 'E', 'F'], index=[4, 5, 6])\n",
    "ser2"
   ]
  },
  {
   "cell_type": "code",
   "execution_count": 10,
   "metadata": {},
   "outputs": [
    {
     "name": "stdout",
     "output_type": "stream",
     "text": [
      "pd concat  1    A\n",
      "2    B\n",
      "3    C\n",
      "4    D\n",
      "5    E\n",
      "6    F\n",
      "dtype: object\n"
     ]
    }
   ],
   "source": [
    "print (\"pd concat \",pd.concat([ser1,ser2]))\n"
   ]
  },
  {
   "cell_type": "code",
   "execution_count": 11,
   "metadata": {},
   "outputs": [
    {
     "data": {
      "text/plain": [
       "9     F\n",
       "10    G\n",
       "11    H\n",
       "dtype: object"
      ]
     },
     "execution_count": 11,
     "metadata": {},
     "output_type": "execute_result"
    }
   ],
   "source": [
    "ser3 = pd.Series(['F', 'G', 'H'], index=[9,10,11])\n",
    "ser3"
   ]
  },
  {
   "cell_type": "code",
   "execution_count": 12,
   "metadata": {},
   "outputs": [
    {
     "name": "stdout",
     "output_type": "stream",
     "text": [
      "Pd3 concat 1     A\n",
      "2     B\n",
      "3     C\n",
      "4     D\n",
      "5     E\n",
      "6     F\n",
      "9     F\n",
      "10    G\n",
      "11    H\n",
      "dtype: object\n"
     ]
    }
   ],
   "source": [
    "print (\"Pd3 concat\",pd.concat([ser1,ser2,ser3]))"
   ]
  },
  {
   "cell_type": "code",
   "execution_count": 13,
   "metadata": {},
   "outputs": [],
   "source": [
    "# DataFrame concatenation "
   ]
  },
  {
   "cell_type": "code",
   "execution_count": 14,
   "metadata": {},
   "outputs": [],
   "source": [
    "df1 = pd.DataFrame({'A' : ['axe', 'art', 'ant'], 'B' : ['bat', 'bar', 'bin'], 'C' : ['cap', 'cat', 'car']},\n",
    "                   index = [1,2,3])\n",
    "df2 = pd.DataFrame({'D' : ['dam', 'den', 'dot'], 'E': [ 'ear', 'eat', 'egg'], 'F': ['fan', 'fog', 'fat']}, \n",
    "                   index =[ 2, 3, 6])"
   ]
  },
  {
   "cell_type": "code",
   "execution_count": 15,
   "metadata": {},
   "outputs": [
    {
     "data": {
      "text/html": [
       "<div>\n",
       "<style scoped>\n",
       "    .dataframe tbody tr th:only-of-type {\n",
       "        vertical-align: middle;\n",
       "    }\n",
       "\n",
       "    .dataframe tbody tr th {\n",
       "        vertical-align: top;\n",
       "    }\n",
       "\n",
       "    .dataframe thead th {\n",
       "        text-align: right;\n",
       "    }\n",
       "</style>\n",
       "<table border=\"1\" class=\"dataframe\">\n",
       "  <thead>\n",
       "    <tr style=\"text-align: right;\">\n",
       "      <th></th>\n",
       "      <th>A</th>\n",
       "      <th>B</th>\n",
       "      <th>C</th>\n",
       "    </tr>\n",
       "  </thead>\n",
       "  <tbody>\n",
       "    <tr>\n",
       "      <td>1</td>\n",
       "      <td>axe</td>\n",
       "      <td>bat</td>\n",
       "      <td>cap</td>\n",
       "    </tr>\n",
       "    <tr>\n",
       "      <td>2</td>\n",
       "      <td>art</td>\n",
       "      <td>bar</td>\n",
       "      <td>cat</td>\n",
       "    </tr>\n",
       "    <tr>\n",
       "      <td>3</td>\n",
       "      <td>ant</td>\n",
       "      <td>bin</td>\n",
       "      <td>car</td>\n",
       "    </tr>\n",
       "  </tbody>\n",
       "</table>\n",
       "</div>"
      ],
      "text/plain": [
       "     A    B    C\n",
       "1  axe  bat  cap\n",
       "2  art  bar  cat\n",
       "3  ant  bin  car"
      ]
     },
     "execution_count": 15,
     "metadata": {},
     "output_type": "execute_result"
    }
   ],
   "source": [
    "df1\n"
   ]
  },
  {
   "cell_type": "code",
   "execution_count": 16,
   "metadata": {},
   "outputs": [
    {
     "data": {
      "text/html": [
       "<div>\n",
       "<style scoped>\n",
       "    .dataframe tbody tr th:only-of-type {\n",
       "        vertical-align: middle;\n",
       "    }\n",
       "\n",
       "    .dataframe tbody tr th {\n",
       "        vertical-align: top;\n",
       "    }\n",
       "\n",
       "    .dataframe thead th {\n",
       "        text-align: right;\n",
       "    }\n",
       "</style>\n",
       "<table border=\"1\" class=\"dataframe\">\n",
       "  <thead>\n",
       "    <tr style=\"text-align: right;\">\n",
       "      <th></th>\n",
       "      <th>D</th>\n",
       "      <th>E</th>\n",
       "      <th>F</th>\n",
       "    </tr>\n",
       "  </thead>\n",
       "  <tbody>\n",
       "    <tr>\n",
       "      <td>2</td>\n",
       "      <td>dam</td>\n",
       "      <td>ear</td>\n",
       "      <td>fan</td>\n",
       "    </tr>\n",
       "    <tr>\n",
       "      <td>3</td>\n",
       "      <td>den</td>\n",
       "      <td>eat</td>\n",
       "      <td>fog</td>\n",
       "    </tr>\n",
       "    <tr>\n",
       "      <td>6</td>\n",
       "      <td>dot</td>\n",
       "      <td>egg</td>\n",
       "      <td>fat</td>\n",
       "    </tr>\n",
       "  </tbody>\n",
       "</table>\n",
       "</div>"
      ],
      "text/plain": [
       "     D    E    F\n",
       "2  dam  ear  fan\n",
       "3  den  eat  fog\n",
       "6  dot  egg  fat"
      ]
     },
     "execution_count": 16,
     "metadata": {},
     "output_type": "execute_result"
    }
   ],
   "source": [
    "df2"
   ]
  },
  {
   "cell_type": "code",
   "execution_count": 17,
   "metadata": {},
   "outputs": [
    {
     "name": "stdout",
     "output_type": "stream",
     "text": [
      "Data frame 1 : \n",
      "      A    B    C\n",
      "1  axe  bat  cap\n",
      "2  art  bar  cat\n",
      "3  ant  bin  car \n",
      " Data Frame 2: \n",
      "      D    E    F\n",
      "2  dam  ear  fan\n",
      "3  den  eat  fog\n",
      "6  dot  egg  fat\n",
      "Concatenating Data Frames: \n",
      "      A    B    C    D    E    F\n",
      "1  axe  bat  cap  NaN  NaN  NaN\n",
      "2  art  bar  cat  NaN  NaN  NaN\n",
      "3  ant  bin  car  NaN  NaN  NaN\n",
      "2  NaN  NaN  NaN  dam  ear  fan\n",
      "3  NaN  NaN  NaN  den  eat  fog\n",
      "6  NaN  NaN  NaN  dot  egg  fat\n"
     ]
    },
    {
     "name": "stderr",
     "output_type": "stream",
     "text": [
      "C:\\Users\\Jigar\\Anaconda3\\lib\\site-packages\\ipykernel_launcher.py:2: FutureWarning: Sorting because non-concatenation axis is not aligned. A future version\n",
      "of pandas will change to not sort by default.\n",
      "\n",
      "To accept the future behavior, pass 'sort=False'.\n",
      "\n",
      "To retain the current behavior and silence the warning, pass 'sort=True'.\n",
      "\n",
      "  \n"
     ]
    },
    {
     "name": "stdout",
     "output_type": "stream",
     "text": [
      "Concatenating Data Frames along axis 1: \n",
      "      A    B    C    D    E    F\n",
      "1  axe  bat  cap  NaN  NaN  NaN\n",
      "2  art  bar  cat  dam  ear  fan\n",
      "3  ant  bin  car  den  eat  fog\n",
      "6  NaN  NaN  NaN  dot  egg  fat\n"
     ]
    }
   ],
   "source": [
    "print(\"Data frame 1 : \\n\", df1,'\\n Data Frame 2: \\n', df2)\n",
    "print(\"Concatenating Data Frames: \\n\",pd.concat([df1,df2], axis=0))  # axis =0 is stacking one below the other\n",
    "print(\"Concatenating Data Frames along axis 1: \\n\",pd.concat([df1,df2], axis = 1))\n",
    "#will consider common indices"
   ]
  },
  {
   "cell_type": "code",
   "execution_count": 20,
   "metadata": {},
   "outputs": [
    {
     "name": "stdout",
     "output_type": "stream",
     "text": [
      "Concatenating Data Frames: \n",
      "      A    B    C    D\n",
      "1  axe  bat  cap  NaN\n",
      "2  art  bar  cat  NaN\n",
      "3  ant  bin  car  NaN\n",
      "2  NaN  ear  fan  dam\n",
      "3  NaN  eat  fog  den\n",
      "6  NaN  egg  fat  dot\n"
     ]
    },
    {
     "name": "stderr",
     "output_type": "stream",
     "text": [
      "C:\\Users\\Jigar\\Anaconda3\\lib\\site-packages\\ipykernel_launcher.py:8: FutureWarning: Sorting because non-concatenation axis is not aligned. A future version\n",
      "of pandas will change to not sort by default.\n",
      "\n",
      "To accept the future behavior, pass 'sort=False'.\n",
      "\n",
      "To retain the current behavior and silence the warning, pass 'sort=True'.\n",
      "\n",
      "  \n"
     ]
    }
   ],
   "source": [
    "# OverLapping columns \n",
    "# for overlapping columns  the value of stackd one below \n",
    "# concatenation with axis=0 considers the overlap of columns \n",
    "\n",
    "df2 = pd.DataFrame({'D' : ['dam', 'den', 'dot'], 'B': [ 'ear', 'eat', 'egg'], 'C': ['fan', 'fog', 'fat']}, \n",
    "                   index =[ 2, 3, 6])\n",
    "\n",
    "print(\"Concatenating Data Frames: \\n\",pd.concat([df1,df2], axis=0))  # axis =0 is stacking one below the other"
   ]
  },
  {
   "cell_type": "code",
   "execution_count": 22,
   "metadata": {},
   "outputs": [
    {
     "name": "stdout",
     "output_type": "stream",
     "text": [
      "Concatenating Data Frames: \n",
      "      A    B    C    D\n",
      "0  axe  bat  cap  NaN\n",
      "1  art  bar  cat  NaN\n",
      "2  ant  bin  car  NaN\n",
      "3  NaN  ear  fan  dam\n",
      "4  NaN  eat  fog  den\n",
      "5  NaN  egg  fat  dot\n"
     ]
    }
   ],
   "source": [
    "print(\"Concatenating Data Frames: \\n\",pd.concat([df1,df2], ignore_index=True,sort=True))"
   ]
  },
  {
   "cell_type": "code",
   "execution_count": 24,
   "metadata": {},
   "outputs": [
    {
     "name": "stdout",
     "output_type": "stream",
     "text": [
      "Concatenating Data Frames: \n",
      "      0    1    2    3    4    5\n",
      "1  axe  bat  cap  NaN  NaN  NaN\n",
      "2  art  bar  cat  dam  ear  fan\n",
      "3  ant  bin  car  den  eat  fog\n",
      "6  NaN  NaN  NaN  dot  egg  fat\n"
     ]
    }
   ],
   "source": [
    "print(\"Concatenating Data Frames: \\n\",pd.concat([df1,df2], axis=1,ignore_index=True,sort=True))"
   ]
  },
  {
   "cell_type": "code",
   "execution_count": 38,
   "metadata": {},
   "outputs": [
    {
     "name": "stdout",
     "output_type": "stream",
     "text": [
      "Concatenating Data Frames: \n",
      "      A    B    C    D    E    F\n",
      "0  axe  bat  cap  dog  ear  fan\n",
      "1  art  bar  cat  den  eat  fat\n",
      "2  ant  bin  car  dot  egg  fog\n"
     ]
    }
   ],
   "source": [
    "print(\"Concatenating Data Frames: \\n\",pd.concat([df1,df2],axis=1,sort=True))"
   ]
  },
  {
   "cell_type": "markdown",
   "metadata": {},
   "source": [
    "### Axis=0\n",
    " - Concatenation just appends on dataframe below another\n",
    " - considers the intersection of columns stcaks values for them one below another\n",
    " - rowise indices if there is repition it reains the repitions\n",
    "\n",
    "\n",
    "\n",
    "### Axis=1\n",
    " - Concatenation just appends one dataframe alonside the other columns are put together\n",
    " - considers the intersection of rows stcaks values for them one on the side of other\n",
    " - column indices(column names) if there is repition it retains the repetitions\n"
   ]
  },
  {
   "cell_type": "code",
   "execution_count": 39,
   "metadata": {},
   "outputs": [
    {
     "name": "stdout",
     "output_type": "stream",
     "text": [
      "Concatenating Data Frames: \n",
      "      0    1    2    3    4    5\n",
      "0  axe  bat  cap  dog  ear  fan\n",
      "1  art  bar  cat  den  eat  fat\n",
      "2  ant  bin  car  dot  egg  fog\n",
      "Concatenating Data Frames: \n",
      "      A    B    C    D    E    F\n",
      "0  axe  bat  cap  dog  ear  fan\n",
      "1  art  bar  cat  den  eat  fat\n",
      "2  ant  bin  car  dot  egg  fog\n"
     ]
    }
   ],
   "source": [
    "df1 = pd.DataFrame({'A' : ['axe', 'art', 'ant'], 'B' : ['bat', 'bar', 'bin'], 'C' : ['cap', 'cat', 'car']})\n",
    "df2=pd.DataFrame({'D':['dog', 'den', 'dot'], 'E':['ear', 'eat', 'egg'],  'F': ['fan', 'fat', 'fog']})\n",
    "\n",
    "print(\"Concatenating Data Frames: \\n\",pd.concat([df1,df2], axis=1, ignore_index=True))\n",
    "print(\"Concatenating Data Frames: \\n\",pd.concat([df1,df2], axis=1))"
   ]
  },
  {
   "cell_type": "code",
   "execution_count": 41,
   "metadata": {},
   "outputs": [
    {
     "data": {
      "text/html": [
       "<div>\n",
       "<style scoped>\n",
       "    .dataframe tbody tr th:only-of-type {\n",
       "        vertical-align: middle;\n",
       "    }\n",
       "\n",
       "    .dataframe tbody tr th {\n",
       "        vertical-align: top;\n",
       "    }\n",
       "\n",
       "    .dataframe thead th {\n",
       "        text-align: right;\n",
       "    }\n",
       "</style>\n",
       "<table border=\"1\" class=\"dataframe\">\n",
       "  <thead>\n",
       "    <tr style=\"text-align: right;\">\n",
       "      <th></th>\n",
       "      <th>St_id</th>\n",
       "      <th>Branch</th>\n",
       "    </tr>\n",
       "  </thead>\n",
       "  <tbody>\n",
       "    <tr>\n",
       "      <td>0</td>\n",
       "      <td>101</td>\n",
       "      <td>IT</td>\n",
       "    </tr>\n",
       "    <tr>\n",
       "      <td>1</td>\n",
       "      <td>102</td>\n",
       "      <td>CS</td>\n",
       "    </tr>\n",
       "    <tr>\n",
       "      <td>2</td>\n",
       "      <td>103</td>\n",
       "      <td>ECE</td>\n",
       "    </tr>\n",
       "    <tr>\n",
       "      <td>3</td>\n",
       "      <td>104</td>\n",
       "      <td>CS</td>\n",
       "    </tr>\n",
       "    <tr>\n",
       "      <td>4</td>\n",
       "      <td>105</td>\n",
       "      <td>Mech</td>\n",
       "    </tr>\n",
       "  </tbody>\n",
       "</table>\n",
       "</div>"
      ],
      "text/plain": [
       "   St_id Branch\n",
       "0    101     IT\n",
       "1    102     CS\n",
       "2    103    ECE\n",
       "3    104     CS\n",
       "4    105   Mech"
      ]
     },
     "execution_count": 41,
     "metadata": {},
     "output_type": "execute_result"
    }
   ],
   "source": [
    "# Merge is Based on Column Column \n",
    "\n",
    "df_stud = pd.DataFrame({'St_id': [101,102,103,104,105],'Branch': ['IT','CS','ECE','CS','Mech']})\n",
    "df_fac = pd.DataFrame({'F_id' : [110,120,130,140,150 ],'F_name' : ['A', 'B', 'C', 'D', 'E'],'Branch': ['ECE','Mech', 'EEE', \"IT\", 'CS'] })\n",
    "\n",
    "\n",
    "df_stud"
   ]
  },
  {
   "cell_type": "code",
   "execution_count": 42,
   "metadata": {},
   "outputs": [
    {
     "data": {
      "text/html": [
       "<div>\n",
       "<style scoped>\n",
       "    .dataframe tbody tr th:only-of-type {\n",
       "        vertical-align: middle;\n",
       "    }\n",
       "\n",
       "    .dataframe tbody tr th {\n",
       "        vertical-align: top;\n",
       "    }\n",
       "\n",
       "    .dataframe thead th {\n",
       "        text-align: right;\n",
       "    }\n",
       "</style>\n",
       "<table border=\"1\" class=\"dataframe\">\n",
       "  <thead>\n",
       "    <tr style=\"text-align: right;\">\n",
       "      <th></th>\n",
       "      <th>F_id</th>\n",
       "      <th>F_name</th>\n",
       "      <th>Branch</th>\n",
       "    </tr>\n",
       "  </thead>\n",
       "  <tbody>\n",
       "    <tr>\n",
       "      <td>0</td>\n",
       "      <td>110</td>\n",
       "      <td>A</td>\n",
       "      <td>ECE</td>\n",
       "    </tr>\n",
       "    <tr>\n",
       "      <td>1</td>\n",
       "      <td>120</td>\n",
       "      <td>B</td>\n",
       "      <td>Mech</td>\n",
       "    </tr>\n",
       "    <tr>\n",
       "      <td>2</td>\n",
       "      <td>130</td>\n",
       "      <td>C</td>\n",
       "      <td>EEE</td>\n",
       "    </tr>\n",
       "    <tr>\n",
       "      <td>3</td>\n",
       "      <td>140</td>\n",
       "      <td>D</td>\n",
       "      <td>IT</td>\n",
       "    </tr>\n",
       "    <tr>\n",
       "      <td>4</td>\n",
       "      <td>150</td>\n",
       "      <td>E</td>\n",
       "      <td>CS</td>\n",
       "    </tr>\n",
       "  </tbody>\n",
       "</table>\n",
       "</div>"
      ],
      "text/plain": [
       "   F_id F_name Branch\n",
       "0   110      A    ECE\n",
       "1   120      B   Mech\n",
       "2   130      C    EEE\n",
       "3   140      D     IT\n",
       "4   150      E     CS"
      ]
     },
     "execution_count": 42,
     "metadata": {},
     "output_type": "execute_result"
    }
   ],
   "source": [
    "df_fac"
   ]
  },
  {
   "cell_type": "code",
   "execution_count": 43,
   "metadata": {},
   "outputs": [
    {
     "name": "stdout",
     "output_type": "stream",
     "text": [
      "Merged dataframe : \n",
      "     St_id Branch  F_id F_name\n",
      "0    101     IT   140      D\n",
      "1    102     CS   150      E\n",
      "2    104     CS   150      E\n",
      "3    103    ECE   110      A\n",
      "4    105   Mech   120      B\n"
     ]
    }
   ],
   "source": [
    "#print(\"Student dataframe: \\n\", df_stud,'\\nFaculty Dataframe :\\n', df_fac)\n",
    "df_merge = pd.merge(df_stud, df_fac)\n",
    "print(\"Merged dataframe : \\n \", df_merge)   #Merge on a common column\n",
    "#works only if both dataframes have the specified column Default is inner\n",
    "#print(\"Merged dataframe : \\n \", pd.merge(df_stud, df_fac, on = 'Branch') )"
   ]
  },
  {
   "cell_type": "code",
   "execution_count": 65,
   "metadata": {},
   "outputs": [
    {
     "name": "stdout",
     "output_type": "stream",
     "text": [
      "Outer Join\n",
      "   key  Dat1  Dat2\n",
      "0   b   4.0   2.0\n",
      "1   a   5.0   1.0\n",
      "2   d   6.0   3.0\n",
      "3   e   7.0   NaN\n",
      "4   f   NaN  11.0\n"
     ]
    }
   ],
   "source": [
    "\n",
    "df1 = pd.DataFrame({'key': ['b','a','d','e'],'Dat1': [4,5,6,7]})\n",
    "df2 = pd.DataFrame({'key': ['a','b','d','f'],'Dat2' : [1,2,3,11] })\n",
    "df3 = pd.DataFrame({'key': ['a','b','a','c','a','a'],'Dat3' : [8,9,10,12,13,14] })\n",
    "\n",
    "df_merge = pd.merge(df1, df2,on='key',how='outer')\n",
    "print (\"Outer Join\\n\",df_merge)"
   ]
  },
  {
   "cell_type": "code",
   "execution_count": 62,
   "metadata": {},
   "outputs": [
    {
     "name": "stdout",
     "output_type": "stream",
     "text": [
      "Inner Join \n",
      "   key  Dat1  Dat2\n",
      "0   b     4     2\n",
      "1   a     5     1\n",
      "2   d     6     3\n"
     ]
    }
   ],
   "source": [
    "df_merge = pd.merge(df1, df2,on='key',how='inner')\n",
    "print (\"Inner Join \\n\",df_merge)"
   ]
  },
  {
   "cell_type": "code",
   "execution_count": 60,
   "metadata": {},
   "outputs": [
    {
     "name": "stdout",
     "output_type": "stream",
     "text": [
      "Left Join \n",
      "   key  Dat1  Dat2\n",
      "0   b     4   2.0\n",
      "1   a     5   1.0\n",
      "2   d     6   3.0\n",
      "3   e     7   NaN\n"
     ]
    }
   ],
   "source": [
    "df_merge = pd.merge(df1, df2,on='key',how='left')\n",
    "print (\"Left Join \\n\",df_merge)"
   ]
  },
  {
   "cell_type": "code",
   "execution_count": 63,
   "metadata": {},
   "outputs": [
    {
     "name": "stdout",
     "output_type": "stream",
     "text": [
      "Right Join\n",
      "   key  Dat1  Dat2\n",
      "0   b   4.0     2\n",
      "1   a   5.0     1\n",
      "2   d   6.0     3\n",
      "3   f   NaN    11\n"
     ]
    }
   ],
   "source": [
    "df_merge = pd.merge(df1, df2,on='key',how='right')\n",
    "print (\"Right Join\\n\",df_merge)"
   ]
  },
  {
   "cell_type": "code",
   "execution_count": 69,
   "metadata": {},
   "outputs": [
    {
     "name": "stdout",
     "output_type": "stream",
     "text": [
      "Outer Join\n",
      "   key  Dat2  Dat3\n",
      "0   a   1.0   8.0\n",
      "1   a   1.0  10.0\n",
      "2   a   1.0  13.0\n",
      "3   a   1.0  14.0\n",
      "4   b   2.0   9.0\n",
      "5   c   NaN  12.0\n",
      "6   d   3.0   NaN\n",
      "7   f  11.0   NaN\n"
     ]
    }
   ],
   "source": [
    "# Many One Merge \n",
    "df_merge = pd.merge(df2, df3,on='key',how='outer',sort=True)\n",
    "print (\"Outer Join\\n\",df_merge)"
   ]
  },
  {
   "cell_type": "code",
   "execution_count": 71,
   "metadata": {},
   "outputs": [
    {
     "name": "stdout",
     "output_type": "stream",
     "text": [
      "Inner Join\n",
      "   key  Dat2  Dat3\n",
      "0   a     1     8\n",
      "1   a     1    10\n",
      "2   a     1    13\n",
      "3   a     1    14\n",
      "4   b     2     9\n"
     ]
    }
   ],
   "source": [
    "# Many One Merge \n",
    "df_merge = pd.merge(df2, df3,on='key',how='inner',sort=True)\n",
    "print (\"Inner Join\\n\",df_merge)"
   ]
  },
  {
   "cell_type": "code",
   "execution_count": 74,
   "metadata": {},
   "outputs": [
    {
     "name": "stdout",
     "output_type": "stream",
     "text": [
      "Left Join\n",
      "   key  Dat2  Dat3\n",
      "0   a     1   8.0\n",
      "1   a     1  10.0\n",
      "2   a     1  13.0\n",
      "3   a     1  14.0\n",
      "4   b     2   9.0\n",
      "5   d     3   NaN\n",
      "6   f    11   NaN\n"
     ]
    }
   ],
   "source": [
    "# Many One Merge \n",
    "df_merge = pd.merge(df2, df3,on='key',how='left',sort=True)\n",
    "print (\"Left Join\\n\",df_merge)"
   ]
  },
  {
   "cell_type": "code",
   "execution_count": 76,
   "metadata": {},
   "outputs": [
    {
     "name": "stdout",
     "output_type": "stream",
     "text": [
      "Outer Join\n",
      "   key  Dat2  Dat3\n",
      "0   a   1.0     8\n",
      "1   a   1.0    10\n",
      "2   a   1.0    13\n",
      "3   a   1.0    14\n",
      "4   b   2.0     9\n",
      "5   c   NaN    12\n"
     ]
    }
   ],
   "source": [
    "# Many One Merge \n",
    "df_merge = pd.merge(df2, df3,on='key',how='right',sort=True)\n",
    "print (\"Outer Join\\n\",df_merge)"
   ]
  },
  {
   "cell_type": "code",
   "execution_count": 77,
   "metadata": {},
   "outputs": [
    {
     "name": "stdout",
     "output_type": "stream",
     "text": [
      "  key  data1  data2\n",
      "0   a   30.0  100.0\n",
      "1   a   30.0  400.0\n",
      "2   a   50.0  100.0\n",
      "3   a   50.0  400.0\n",
      "4   a   60.0  100.0\n",
      "5   a   60.0  400.0\n",
      "6   b   10.0  200.0\n",
      "7   b   20.0  200.0\n",
      "8   c   40.0    NaN\n",
      "9   d    NaN  300.0\n"
     ]
    }
   ],
   "source": [
    "df1=pd.DataFrame({'key':['b', 'b', 'a', 'c', 'a','a'], 'data1':[10,20,30,40,50,60]})\n",
    "df2=pd.DataFrame({'key':['a', 'b', 'd', 'a'], 'data2':[100, 200, 300, 400]})\n",
    "print(pd.merge(df1, df2, on='key', how='outer', sort=True))\n"
   ]
  },
  {
   "cell_type": "code",
   "execution_count": 1,
   "metadata": {},
   "outputs": [],
   "source": [
    "# Merge is based on Common Column \n",
    "# Join is based on Common Rows \n"
   ]
  },
  {
   "cell_type": "code",
   "execution_count": 4,
   "metadata": {},
   "outputs": [],
   "source": [
    "df_stud = pd.DataFrame({'St_id': [101,102,103,104,105],'Branch': ['IT','CS','ECE','CS','Mech']})\n",
    "df_fac = pd.DataFrame({'F_id' : [110,120,130,140,150 ],'F_name' : ['A', 'B', 'C', 'D', 'E'],'Branch': ['ECE','Mech', 'EEE', \"IT\", 'CS'] })\n"
   ]
  },
  {
   "cell_type": "code",
   "execution_count": 6,
   "metadata": {},
   "outputs": [
    {
     "name": "stdout",
     "output_type": "stream",
     "text": [
      "Student DataFrame    St_id Branch\n",
      "0    101     IT\n",
      "1    102     CS\n",
      "2    103    ECE\n",
      "3    104     CS\n",
      "4    105   Mech Faculty DataFrame    F_id F_name Branch\n",
      "0   110      A    ECE\n",
      "1   120      B   Mech\n",
      "2   130      C    EEE\n",
      "3   140      D     IT\n",
      "4   150      E     CS\n"
     ]
    }
   ],
   "source": [
    "print (\"Student DataFrame\",df_stud,\"Faculty DataFrame\",df_fac)"
   ]
  },
  {
   "cell_type": "code",
   "execution_count": 8,
   "metadata": {},
   "outputs": [
    {
     "name": "stdout",
     "output_type": "stream",
     "text": [
      "Inner Join\n",
      "    St_id Branch  F_id F_name\n",
      "0    102     CS   150      E\n",
      "1    104     CS   150      E\n",
      "2    103    ECE   110      A\n",
      "3    101     IT   140      D\n",
      "4    105   Mech   120      B\n"
     ]
    }
   ],
   "source": [
    "df_merge = pd.merge(df_stud, df_fac,on='Branch',how='inner',sort=True)\n",
    "print (\"Inner Join\\n\",df_merge)"
   ]
  },
  {
   "cell_type": "code",
   "execution_count": 11,
   "metadata": {},
   "outputs": [
    {
     "name": "stdout",
     "output_type": "stream",
     "text": [
      "Student DataFrame    St_id Branch\n",
      "0    101     IT\n",
      "1    102     CS\n",
      "2    103    ECE\n",
      "3    104     CS\n",
      "4    105   Mech Faculty DataFrame   F_name Stream\n",
      "0      A    ECE\n",
      "1      B   Mech\n",
      "2      C    EEE\n",
      "3      D     IT\n",
      "4      E     CS\n"
     ]
    }
   ],
   "source": [
    "df_stud = pd.DataFrame({'St_id': [101,102,103,104,105],'Branch': ['IT','CS','ECE','CS','Mech']})\n",
    "df_fac = pd.DataFrame({'F_name' : ['A', 'B', 'C', 'D', 'E'],'Stream': ['ECE','Mech', 'EEE', \"IT\", 'CS'] })\n",
    "print (\"Student DataFrame\",df_stud,\"Faculty DataFrame\",df_fac)"
   ]
  },
  {
   "cell_type": "code",
   "execution_count": 12,
   "metadata": {},
   "outputs": [
    {
     "name": "stdout",
     "output_type": "stream",
     "text": [
      "Merge when column name is different\n",
      "    St_id Branch F_name Stream\n",
      "0    101     IT      D     IT\n",
      "1    102     CS      E     CS\n",
      "2    104     CS      E     CS\n",
      "3    103    ECE      A    ECE\n",
      "4    105   Mech      B   Mech\n"
     ]
    }
   ],
   "source": [
    "print (\"Merge when column name is different\\n\", pd.merge(df_stud,df_fac,left_on = 'Branch', right_on = 'Stream'))"
   ]
  },
  {
   "cell_type": "code",
   "execution_count": 14,
   "metadata": {},
   "outputs": [
    {
     "data": {
      "text/html": [
       "<div>\n",
       "<style scoped>\n",
       "    .dataframe tbody tr th:only-of-type {\n",
       "        vertical-align: middle;\n",
       "    }\n",
       "\n",
       "    .dataframe tbody tr th {\n",
       "        vertical-align: top;\n",
       "    }\n",
       "\n",
       "    .dataframe thead th {\n",
       "        text-align: right;\n",
       "    }\n",
       "</style>\n",
       "<table border=\"1\" class=\"dataframe\">\n",
       "  <thead>\n",
       "    <tr style=\"text-align: right;\">\n",
       "      <th></th>\n",
       "      <th>St_id</th>\n",
       "      <th>Branch</th>\n",
       "      <th>F_name</th>\n",
       "    </tr>\n",
       "  </thead>\n",
       "  <tbody>\n",
       "    <tr>\n",
       "      <td>0</td>\n",
       "      <td>101</td>\n",
       "      <td>IT</td>\n",
       "      <td>D</td>\n",
       "    </tr>\n",
       "    <tr>\n",
       "      <td>1</td>\n",
       "      <td>102</td>\n",
       "      <td>CS</td>\n",
       "      <td>E</td>\n",
       "    </tr>\n",
       "    <tr>\n",
       "      <td>2</td>\n",
       "      <td>104</td>\n",
       "      <td>CS</td>\n",
       "      <td>E</td>\n",
       "    </tr>\n",
       "    <tr>\n",
       "      <td>3</td>\n",
       "      <td>103</td>\n",
       "      <td>ECE</td>\n",
       "      <td>A</td>\n",
       "    </tr>\n",
       "    <tr>\n",
       "      <td>4</td>\n",
       "      <td>105</td>\n",
       "      <td>Mech</td>\n",
       "      <td>B</td>\n",
       "    </tr>\n",
       "  </tbody>\n",
       "</table>\n",
       "</div>"
      ],
      "text/plain": [
       "   St_id Branch F_name\n",
       "0    101     IT      D\n",
       "1    102     CS      E\n",
       "2    104     CS      E\n",
       "3    103    ECE      A\n",
       "4    105   Mech      B"
      ]
     },
     "execution_count": 14,
     "metadata": {},
     "output_type": "execute_result"
    }
   ],
   "source": [
    "pd.merge(df_stud,df_fac,left_on = 'Branch', right_on = 'Stream').drop('Stream',axis=1)"
   ]
  },
  {
   "cell_type": "code",
   "execution_count": null,
   "metadata": {},
   "outputs": [],
   "source": [
    "# Merge based on Index \n"
   ]
  },
  {
   "cell_type": "code",
   "execution_count": 19,
   "metadata": {},
   "outputs": [
    {
     "name": "stdout",
     "output_type": "stream",
     "text": [
      "DataFrame1\n",
      "   key  data1\n",
      "0   b      0\n",
      "1   a      4\n",
      "2   d      6\n",
      "3   e      8 DataFrame2\n",
      "   key  data2\n",
      "0   a      3\n",
      "1   b      6\n",
      "2   d      9\n",
      "3   f     11\n"
     ]
    },
    {
     "data": {
      "text/html": [
       "<div>\n",
       "<style scoped>\n",
       "    .dataframe tbody tr th:only-of-type {\n",
       "        vertical-align: middle;\n",
       "    }\n",
       "\n",
       "    .dataframe tbody tr th {\n",
       "        vertical-align: top;\n",
       "    }\n",
       "\n",
       "    .dataframe thead th {\n",
       "        text-align: right;\n",
       "    }\n",
       "</style>\n",
       "<table border=\"1\" class=\"dataframe\">\n",
       "  <thead>\n",
       "    <tr style=\"text-align: right;\">\n",
       "      <th></th>\n",
       "      <th>key_x</th>\n",
       "      <th>data1</th>\n",
       "      <th>key_y</th>\n",
       "      <th>data2</th>\n",
       "    </tr>\n",
       "  </thead>\n",
       "  <tbody>\n",
       "    <tr>\n",
       "      <td>0</td>\n",
       "      <td>b</td>\n",
       "      <td>0</td>\n",
       "      <td>a</td>\n",
       "      <td>3</td>\n",
       "    </tr>\n",
       "    <tr>\n",
       "      <td>1</td>\n",
       "      <td>a</td>\n",
       "      <td>4</td>\n",
       "      <td>b</td>\n",
       "      <td>6</td>\n",
       "    </tr>\n",
       "    <tr>\n",
       "      <td>2</td>\n",
       "      <td>d</td>\n",
       "      <td>6</td>\n",
       "      <td>d</td>\n",
       "      <td>9</td>\n",
       "    </tr>\n",
       "    <tr>\n",
       "      <td>3</td>\n",
       "      <td>e</td>\n",
       "      <td>8</td>\n",
       "      <td>f</td>\n",
       "      <td>11</td>\n",
       "    </tr>\n",
       "  </tbody>\n",
       "</table>\n",
       "</div>"
      ],
      "text/plain": [
       "  key_x  data1 key_y  data2\n",
       "0     b      0     a      3\n",
       "1     a      4     b      6\n",
       "2     d      6     d      9\n",
       "3     e      8     f     11"
      ]
     },
     "execution_count": 19,
     "metadata": {},
     "output_type": "execute_result"
    }
   ],
   "source": [
    "df1 = pd. DataFrame({'key' :['b', 'a', 'd','e'], 'data1': [0,4,6,8]}) #has unique\n",
    "df2 =pd. DataFrame({'key' :['a', 'b', 'd', 'f'], 'data2': [3,6,9,11]})   # has unique row labels\n",
    "print (\"DataFrame1\\n\",df1,\"DataFrame2\\n\",df2)\n",
    "pd.merge(df1,df2,left_index = True, right_index = True)\n"
   ]
  },
  {
   "cell_type": "code",
   "execution_count": null,
   "metadata": {},
   "outputs": [],
   "source": [
    "# merge is method of Pandas while Join is Dataframe methon "
   ]
  },
  {
   "cell_type": "code",
   "execution_count": 24,
   "metadata": {},
   "outputs": [
    {
     "name": "stdout",
     "output_type": "stream",
     "text": [
      "\n",
      "Using Join\n",
      "   key_x  data1 key_y  data2\n",
      "0     b      0     a      3\n",
      "1     a      4     b      6\n",
      "2     d      6     d      9\n",
      "3     e      8     f     11\n"
     ]
    }
   ],
   "source": [
    "print ('\\nUsing Join\\n',df1.join(df2,lsuffix='_x', rsuffix='_y'))\n",
    "# Join do merge with indices "
   ]
  },
  {
   "cell_type": "code",
   "execution_count": null,
   "metadata": {},
   "outputs": [],
   "source": []
  },
  {
   "cell_type": "code",
   "execution_count": 26,
   "metadata": {},
   "outputs": [
    {
     "name": "stdout",
     "output_type": "stream",
     "text": [
      "\n",
      "Merge On Indices\n",
      "    key_x  data1 key_y  data2\n",
      "40     e      8     a      3\n"
     ]
    }
   ],
   "source": [
    "df1 = pd. DataFrame({'key' :['b', 'a', 'd','e'], 'data1': [0,4,6,8]}, index= [10,20,30,40])\n",
    "df2 =pd. DataFrame({'key' :['a', 'b', 'd', 'f'], 'data2': [3,6,9,11]}, index  = [40,50,60,70])\n",
    "print ('\\nMerge On Indices\\n',pd.merge(df1,df2,how='inner',left_index = True, right_index = True))\n"
   ]
  },
  {
   "cell_type": "code",
   "execution_count": 27,
   "metadata": {},
   "outputs": [
    {
     "name": "stdout",
     "output_type": "stream",
     "text": [
      "\n",
      "Merge On Indices\n",
      "    key_x  data1 key_y  data2\n",
      "10     b    0.0   NaN    NaN\n",
      "20     a    4.0   NaN    NaN\n",
      "30     d    6.0   NaN    NaN\n",
      "40     e    8.0     a    3.0\n",
      "50   NaN    NaN     b    6.0\n",
      "60   NaN    NaN     d    9.0\n",
      "70   NaN    NaN     f   11.0\n"
     ]
    }
   ],
   "source": [
    "print ('\\nMerge On Indices\\n',pd.merge(df1,df2,how='outer',left_index = True, right_index = True))"
   ]
  },
  {
   "cell_type": "code",
   "execution_count": 28,
   "metadata": {},
   "outputs": [
    {
     "name": "stdout",
     "output_type": "stream",
     "text": [
      "\n",
      "Merge On Indices\n",
      "   key  data1  data2\n",
      "0   b   10.0  200.0\n",
      "1   b   20.0  200.0\n",
      "2   a   30.0  100.0\n",
      "3   a   30.0  300.0\n",
      "4   a   50.0  100.0\n",
      "5   a   50.0  300.0\n",
      "6   c   40.0    NaN\n",
      "7   d    NaN  400.0\n"
     ]
    }
   ],
   "source": [
    "df1 =pd. DataFrame({'key' : ['b', 'b', 'a','c', 'a'], 'data1': [10,20,30,40,50]})\n",
    "df2 = pd.DataFrame({'key' : ['a', 'b', 'a', 'd'], 'data2': [100,200,300,400]})\n",
    "#print ('\\nMerge On Indices\\n',pd.merge(df1,df2,how='outer'))"
   ]
  },
  {
   "cell_type": "code",
   "execution_count": 31,
   "metadata": {},
   "outputs": [
    {
     "name": "stdout",
     "output_type": "stream",
     "text": [
      "     data1\n",
      "key       \n",
      "b       10\n",
      "b       20\n",
      "a       30\n",
      "c       40\n",
      "a       50\n",
      "  key  data1\n",
      "0   b     10\n",
      "1   b     20\n",
      "2   a     30\n",
      "3   c     40\n",
      "4   a     50\n"
     ]
    }
   ],
   "source": [
    "dfn1 = df1.set_index('key')\n",
    "dfn2 = df2.set_index('key')\n",
    "print (dfn1)\n",
    "print (df1)"
   ]
  },
  {
   "cell_type": "code",
   "execution_count": 32,
   "metadata": {},
   "outputs": [
    {
     "name": "stdout",
     "output_type": "stream",
     "text": [
      "     data2\n",
      "key       \n",
      "a      100\n",
      "b      200\n",
      "a      300\n",
      "d      400\n"
     ]
    }
   ],
   "source": [
    "print (dfn2)"
   ]
  },
  {
   "cell_type": "code",
   "execution_count": 33,
   "metadata": {},
   "outputs": [
    {
     "name": "stdout",
     "output_type": "stream",
     "text": [
      "\n",
      "Merge On Indices\n",
      "      data1  data2\n",
      "key              \n",
      "a     30.0  100.0\n",
      "a     30.0  300.0\n",
      "a     50.0  100.0\n",
      "a     50.0  300.0\n",
      "b     10.0  200.0\n",
      "b     20.0  200.0\n",
      "c     40.0    NaN\n",
      "d      NaN  400.0\n"
     ]
    }
   ],
   "source": [
    "print ('\\nMerge On Indices\\n',pd.merge(dfn1,dfn2,how='outer',left_index = True, right_index = True))"
   ]
  },
  {
   "cell_type": "code",
   "execution_count": 34,
   "metadata": {},
   "outputs": [
    {
     "name": "stdout",
     "output_type": "stream",
     "text": [
      "\n",
      "Using Join\n",
      "      data1  data2\n",
      "key              \n",
      "a       30  100.0\n",
      "a       30  300.0\n",
      "a       50  100.0\n",
      "a       50  300.0\n",
      "b       10  200.0\n",
      "b       20  200.0\n",
      "c       40    NaN\n"
     ]
    }
   ],
   "source": [
    "# join with index column \n",
    "print ('\\nUsing Join\\n',dfn1.join(dfn2,lsuffix='_x', rsuffix='_y'))"
   ]
  },
  {
   "cell_type": "code",
   "execution_count": null,
   "metadata": {},
   "outputs": [],
   "source": []
  }
 ],
 "metadata": {
  "kernelspec": {
   "display_name": "Python 3",
   "language": "python",
   "name": "python3"
  },
  "language_info": {
   "codemirror_mode": {
    "name": "ipython",
    "version": 3
   },
   "file_extension": ".py",
   "mimetype": "text/x-python",
   "name": "python",
   "nbconvert_exporter": "python",
   "pygments_lexer": "ipython3",
   "version": "3.7.4"
  }
 },
 "nbformat": 4,
 "nbformat_minor": 2
}
