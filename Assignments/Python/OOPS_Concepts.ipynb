{
 "cells": [
  {
   "cell_type": "markdown",
   "metadata": {},
   "source": [
    "#1. create a class\n",
    "#keyword -> class\n",
    "#class Dogs: ---> first letter capital\n",
    "\n",
    "#2. Define attributes \n",
    "   a) class attributes \n",
    "   b) instance attributes \n",
    "\n",
    "#3. define methods \n",
    "\n",
    "#4. create an instance \n"
   ]
  },
  {
   "cell_type": "markdown",
   "metadata": {},
   "source": [
    "# create a class whos name is Cars \n",
    "# Define the attributes such as color, cc\n",
    "# create 2-3 instnces of the cars\n"
   ]
  },
  {
   "cell_type": "code",
   "execution_count": 6,
   "metadata": {},
   "outputs": [
    {
     "name": "stdout",
     "output_type": "stream",
     "text": [
      "1000\n"
     ]
    }
   ],
   "source": [
    "class Cars:\n",
    "    # define attributes \n",
    "    def __init__(self,color,cc):\n",
    "        self.color = color\n",
    "        self.cc = cc\n",
    "        #print (self.color,cc)\n",
    "        \n",
    "\n",
    "# create instance of cars\n",
    "car1 = Cars('red',1000)\n",
    "print(car1.cc)\n",
    "    "
   ]
  },
  {
   "cell_type": "code",
   "execution_count": 8,
   "metadata": {},
   "outputs": [
    {
     "name": "stdout",
     "output_type": "stream",
     "text": [
      "Instance 1 male 6\n",
      "Instance 2 Female 5.5\n"
     ]
    }
   ],
   "source": [
    "class Humans:\n",
    "    # attributes\n",
    "    def __init__(self,sex,height):\n",
    "        self.sex = sex\n",
    "        self.height = height\n",
    "\n",
    "# Instance\n",
    "h1 = Humans('male',6)\n",
    "h2 = Humans('Female',5.5)\n",
    "\n",
    "print (\"Instance 1\",h1.sex,h1.height)\n",
    "print (\"Instance 2\",h2.sex,h2.height)\n"
   ]
  },
  {
   "cell_type": "code",
   "execution_count": 2,
   "metadata": {},
   "outputs": [],
   "source": [
    "# create class datafolkz\n",
    "# and define 2 attributes of it \n",
    "# and then create 2 instance of it \n",
    "\n",
    "class DataFolkz:\n",
    "    def __init__(self,batch_no,batch_month):\n",
    "        self.batch_no = batch_no\n",
    "        self.batch_month = batch_month\n",
    "        \n",
    "# Instance \n",
    "d1 = DataFolkz(1,\"Aug\")\n",
    "d2 = DataFolkz(2,\"Sep\")"
   ]
  },
  {
   "cell_type": "markdown",
   "metadata": {},
   "source": [
    "# Class attributes and Instance/Object Attributes "
   ]
  },
  {
   "cell_type": "code",
   "execution_count": 3,
   "metadata": {},
   "outputs": [
    {
     "data": {
      "text/plain": [
       "'mammals'"
      ]
     },
     "execution_count": 3,
     "metadata": {},
     "output_type": "execute_result"
    }
   ],
   "source": [
    "class Dogs:\n",
    "    #class variables\n",
    "    species = \"mammals\"\n",
    "    \n",
    "    #instance variables\n",
    "    def __init__(self,breed):\n",
    "        self.breed = breed\n",
    "        \n",
    "        \n",
    "# create an instance of Dogs:\n",
    "\n",
    "snoopy = Dogs('pomerian')\n",
    "snoopy.breed\n",
    "snoopy.species\n"
   ]
  },
  {
   "cell_type": "markdown",
   "metadata": {},
   "source": [
    "### If you want to call the instance attributes, those can be called only with the help of the instances But the class attributes can be called either using the class or using the instances."
   ]
  },
  {
   "cell_type": "markdown",
   "metadata": {},
   "source": [
    "Create a class Cars\n",
    "\n",
    "When it comes to any car there are some basic facilities such as engine, color, steering ...\n",
    "\n",
    "so any car will have the above features which can be considered as the class features.\n",
    "\n",
    "\n",
    "But in addition to this we can also have some customizations.\n",
    "such as sound system , power windows, power steering...\n",
    "these attributes are customised ones and these are applicable to only the instances of that class. \n",
    "so these can be considered as instance attributes.\n",
    "    "
   ]
  },
  {
   "cell_type": "code",
   "execution_count": 4,
   "metadata": {},
   "outputs": [
    {
     "name": "stdout",
     "output_type": "stream",
     "text": [
      "midlayer cars white 4 Automatic\n",
      "basic cars Red 4 Manual\n"
     ]
    }
   ],
   "source": [
    "class Cars:\n",
    "    # class variable\n",
    "    no_of_wheels = 4\n",
    "    \n",
    "    # Instance Variable\n",
    "    def __init__(self,color,steering):\n",
    "        self.color = color\n",
    "        self.steering = steering\n",
    "        \n",
    "midlayer = Cars(\"white\",\"Automatic\")\n",
    "basic = Cars(\"Red\",\"Manual\")\n",
    "\n",
    "print (\"midlayer cars\",midlayer.color,midlayer.no_of_wheels,midlayer.steering)\n",
    "print (\"basic cars\",basic.color,basic.no_of_wheels,basic.steering)\n"
   ]
  },
  {
   "cell_type": "code",
   "execution_count": 8,
   "metadata": {},
   "outputs": [
    {
     "name": "stdout",
     "output_type": "stream",
     "text": [
      "snoopy properties pomerian red mammals\n",
      "snoopy and black is mammals.\n"
     ]
    }
   ],
   "source": [
    "class Dogs:\n",
    "    #class variables\n",
    "    species = \"mammals\"\n",
    "    \n",
    "    #instance variables\n",
    "    def __init__(self,breed,color):\n",
    "        self.breed = breed\n",
    "        self.color = color\n",
    "        \n",
    "# create an instance of Dogs:\n",
    "snoopy = Dogs('pomerian',\"red\")\n",
    "malli = Dogs('snoopy',\"black\")\n",
    "\n",
    "print (\"snoopy properties\",snoopy.breed,snoopy.color,snoopy.species)\n",
    "print(\"{} and {} is {}.\".format(malli.breed,malli.color,malli.species))\n"
   ]
  },
  {
   "cell_type": "markdown",
   "metadata": {},
   "source": [
    " \n",
    "### Create a class of cubes and create a instance attribute with length , width, height  then create instance method to find volume of a cube then create some instance /object of the class cubes and find the volume "
   ]
  },
  {
   "cell_type": "code",
   "execution_count": 13,
   "metadata": {},
   "outputs": [
    {
     "ename": "TypeError",
     "evalue": "volume() takes 1 positional argument but 4 were given",
     "output_type": "error",
     "traceback": [
      "\u001b[1;31m---------------------------------------------------------------------------\u001b[0m",
      "\u001b[1;31mTypeError\u001b[0m                                 Traceback (most recent call last)",
      "\u001b[1;32m<ipython-input-13-0416c0d605ac>\u001b[0m in \u001b[0;36m<module>\u001b[1;34m\u001b[0m\n\u001b[0;32m     10\u001b[0m \u001b[1;33m\u001b[0m\u001b[0m\n\u001b[0;32m     11\u001b[0m \u001b[0mc1\u001b[0m \u001b[1;33m=\u001b[0m \u001b[0mCubes\u001b[0m\u001b[1;33m(\u001b[0m\u001b[1;36m2\u001b[0m\u001b[1;33m,\u001b[0m\u001b[1;36m2\u001b[0m\u001b[1;33m,\u001b[0m\u001b[1;36m2\u001b[0m\u001b[1;33m)\u001b[0m\u001b[1;33m\u001b[0m\u001b[1;33m\u001b[0m\u001b[0m\n\u001b[1;32m---> 12\u001b[1;33m \u001b[0mprint\u001b[0m \u001b[1;33m(\u001b[0m\u001b[0mc1\u001b[0m\u001b[1;33m.\u001b[0m\u001b[0mvolume\u001b[0m\u001b[1;33m(\u001b[0m\u001b[1;36m4\u001b[0m\u001b[1;33m,\u001b[0m\u001b[1;36m4\u001b[0m\u001b[1;33m,\u001b[0m\u001b[1;36m4\u001b[0m\u001b[1;33m)\u001b[0m\u001b[1;33m)\u001b[0m\u001b[1;33m\u001b[0m\u001b[1;33m\u001b[0m\u001b[0m\n\u001b[0m\u001b[0;32m     13\u001b[0m \u001b[1;33m\u001b[0m\u001b[0m\n\u001b[0;32m     14\u001b[0m \u001b[1;33m\u001b[0m\u001b[0m\n",
      "\u001b[1;31mTypeError\u001b[0m: volume() takes 1 positional argument but 4 were given"
     ]
    }
   ],
   "source": [
    "class Cubes:\n",
    "    def __init__(self,length,width,height):\n",
    "        self.length = length\n",
    "        self.width = width\n",
    "        self.height = height\n",
    "        \n",
    "    def volume(self):\n",
    "        return (self.height*self.length*self.width)\n",
    "    \n",
    "\n",
    "c1 = Cubes(2,2,2)\n",
    "print (c1.volume(4,4,4))\n",
    "\n",
    "\n",
    "        "
   ]
  },
  {
   "cell_type": "markdown",
   "metadata": {},
   "source": [
    "###\n",
    "find a class of Rectangles\n",
    "then create two instance attributes length and width \n",
    "then create a instance method to find the area\n",
    "then create another instance method to find the perimeter\n",
    "then create two objects of the class rectangles and find the area and perimeter\n",
    "\n",
    "but please do it using the input method i.e. dynamic inputs\n"
   ]
  },
  {
   "cell_type": "code",
   "execution_count": 26,
   "metadata": {},
   "outputs": [
    {
     "name": "stdout",
     "output_type": "stream",
     "text": [
      "area 8\n",
      "perimeter 12\n"
     ]
    }
   ],
   "source": [
    "class Rectangles:\n",
    "    def __init__(self,length=12,width=10):\n",
    "        self.length = length\n",
    "        self.width = width\n",
    "        \n",
    "    def area(self):\n",
    "        return (self.length*self.width)\n",
    "    \n",
    "    def perimeter(self):\n",
    "        return 2*(self.length + self.width)\n",
    "    \n",
    "    \n",
    "R1 = Rectangles(2,4)\n",
    "print (\"area\",R1.area())\n",
    "print (\"perimeter\",R1.perimeter())\n",
    "\n",
    "\n"
   ]
  },
  {
   "cell_type": "code",
   "execution_count": 37,
   "metadata": {},
   "outputs": [
    {
     "name": "stdout",
     "output_type": "stream",
     "text": [
      "Avg Marks Scored : 80.0\n",
      "second way 80\n"
     ]
    }
   ],
   "source": [
    "from statistics import mean\n",
    "\n",
    "class Students:\n",
    "    def __init__(self,maths,science,social):\n",
    "        self.maths=maths\n",
    "        self.science =science\n",
    "        self.social= social\n",
    "    \n",
    "    def avg(self):\n",
    "        return (self.maths+self.science+self.social)/3\n",
    "        \n",
    "    def avgbymean(self):\n",
    "        return (mean([self.maths,self.science,self.social]))\n",
    "    \n",
    "student1 = Students(80,90,70)\n",
    "print(\"Avg Marks Scored :\",student1.avg())\n",
    "\n",
    "print (\"second way\",student1.avgbymean())"
   ]
  },
  {
   "cell_type": "code",
   "execution_count": 41,
   "metadata": {},
   "outputs": [
    {
     "name": "stdout",
     "output_type": "stream",
     "text": [
      "Ruby is 8 years old\n",
      "Ruby is 8 years old and speaks English\n"
     ]
    }
   ],
   "source": [
    "class Dog:\n",
    "    species = \"mammal\"\n",
    "    \n",
    "    def __init__(self,name,age):\n",
    "        self.name = name\n",
    "        self.age = age\n",
    "        \n",
    "    def description(self):\n",
    "        return \"{} is {} years old\".format(self.name,self.age)\n",
    "    \n",
    "    def speak(self,sound):\n",
    "        return \"{} is {} years old and speaks {}\".format(self.name,self.age,sound)\n",
    "    \n",
    "    \n",
    "Ruby = Dog(\"Ruby\",8)\n",
    "# call our instance method \n",
    "\n",
    "print (Ruby.description())\n",
    "print (Ruby.speak(\"English\"))\n",
    "        "
   ]
  },
  {
   "cell_type": "code",
   "execution_count": 3,
   "metadata": {},
   "outputs": [
    {
     "name": "stdout",
     "output_type": "stream",
     "text": [
      "Area of the circle is: 50.24\n",
      "Circumferences of the circle is: 25.12\n"
     ]
    }
   ],
   "source": [
    "# create a class called circle \n",
    "# the define a instance attribute radius \n",
    "# then create two instance methods, one for area and second for circumferences \n",
    "\n",
    "class Circle:\n",
    "       \n",
    "    def __init__(self,radius):\n",
    "        self.radius = radius\n",
    "        \n",
    "    def area (self):\n",
    "        return (3.14*self.radius*self.radius)\n",
    "    \n",
    "    def circumferences (self):\n",
    "        return 2*3.14*self.radius\n",
    "    \n",
    "    \n",
    "c1 = Circle(4)\n",
    "# call our instance method \n",
    "print (\"Area of the circle is:\",c1.area())\n",
    "print (\"Circumferences of the circle is:\",c1.circumferences())"
   ]
  },
  {
   "cell_type": "code",
   "execution_count": 9,
   "metadata": {},
   "outputs": [
    {
     "data": {
      "text/plain": [
       "'python'"
      ]
     },
     "execution_count": 9,
     "metadata": {},
     "output_type": "execute_result"
    }
   ],
   "source": [
    "\n",
    "\n",
    "# create a class of Trainee\n",
    "# create class variable school and assign it to datafolkz\n",
    "# then create 2 instance variable , course and duration \n",
    "# now lets try to create some class Mthods \n",
    "\n",
    "\n",
    "class Trainee:\n",
    "    school = 'datafolkz'\n",
    "    \n",
    "    def __init__(self,course,duration):\n",
    "        self.course = course\n",
    "        self.duration = duration\n",
    "    \n",
    "    def Coursename(self):\n",
    "        return self.course\n",
    "    \n",
    "    @classmethod    \n",
    "    def School(cls):\n",
    "        return cls.school\n",
    "    \n",
    "\n",
    "student1 = Trainee('python',3)\n",
    "student1.School()\n",
    "Trainee.School()\n",
    "student1.Coursename()\n",
    "#  Trainee.Coursename()    # it will give error as courcename is instance method we can not access through class \n",
    "\n",
    "\n",
    "#print (student1.School())\n",
    "# Instance                        # class\n",
    "# Instance varible                class varuabe \n",
    "# self                            cls\n",
    "# Instance method                 @classmethod\n",
    "# class variable used with class method \n",
    "\n",
    "\n",
    "\n"
   ]
  },
  {
   "cell_type": "code",
   "execution_count": 23,
   "metadata": {},
   "outputs": [
    {
     "name": "stdout",
     "output_type": "stream",
     "text": [
      "call static method using class Welcome to Nissan Family\n",
      "call static method using obj Welcome to Nissan Family\n",
      "multiply using static method 6\n"
     ]
    }
   ],
   "source": [
    "class Nissancars:\n",
    "    \n",
    "    brand = 'Nissan'\n",
    "    \n",
    "    def __init__(self,model,color):\n",
    "        self.model = model\n",
    "        self.color = color\n",
    "        \n",
    "    def Modelname(self):\n",
    "        return self.model\n",
    "    \n",
    "        \n",
    "    @classmethod\n",
    "    def brandname(cls):\n",
    "        return cls.brand\n",
    " \n",
    "    @staticmethod\n",
    "    def Thanksnote():\n",
    "        return \"Welcome to Nissan Family\"\n",
    "    \n",
    "    \n",
    "    @staticmethod\n",
    "    def multiply(a,b):\n",
    "        return a*b\n",
    "    \n",
    "    \n",
    "c1 = Nissancars('Terrano','White')\n",
    "c1.Modelname()\n",
    "c1.brandname()\n",
    "\n",
    "Nissancars.brandname()    #  we can call class method like this .\n",
    "# Nissancars.Modelname()    #  it will give error , we can not call this \n",
    "\n",
    "print (\"call static method using class\",Nissancars.Thanksnote())\n",
    "print (\"call static method using obj\",c1.Thanksnote())\n",
    "\n",
    "print (\"multiply using static method\",Nissancars.multiply(2,3))\n"
   ]
  },
  {
   "cell_type": "markdown",
   "metadata": {},
   "source": [
    "# Inheritance "
   ]
  },
  {
   "cell_type": "code",
   "execution_count": 22,
   "metadata": {},
   "outputs": [
    {
     "name": "stdout",
     "output_type": "stream",
     "text": [
      "This is verna car This is Hyndai car\n"
     ]
    }
   ],
   "source": [
    "# define a class of Hyundai \n",
    "\n",
    "\n",
    "class Hyundai:\n",
    "    def brandname(self):\n",
    "        return \"This is Hyndai car\"\n",
    "    \n",
    "    \n",
    "class Verna(Hyundai):\n",
    "    def carname(self):\n",
    "        return \"This is verna car\"\n",
    "    \n",
    "\n",
    "verna1 = Verna()\n",
    "print (verna1.carname(),verna1.brandname())\n",
    "    "
   ]
  },
  {
   "cell_type": "code",
   "execution_count": 27,
   "metadata": {},
   "outputs": [
    {
     "data": {
      "text/plain": [
       "'This is child class'"
      ]
     },
     "execution_count": 27,
     "metadata": {},
     "output_type": "execute_result"
    }
   ],
   "source": [
    "class Parent():\n",
    "    def func1(self):\n",
    "        return \"This is parent class\"\n",
    "        \n",
    "\n",
    "class Child(Parent):\n",
    "    def func2(self):\n",
    "        return \"This is child class\"\n",
    "        \n",
    "\n",
    "c1 = Child()\n",
    "c1.func1()\n",
    "c1.func2()\n"
   ]
  },
  {
   "cell_type": "markdown",
   "metadata": {},
   "source": [
    "- Create a class of Animals\n",
    "- create a function called legs to determine they have 4 legs \n",
    "- then create a child class of dogs \n",
    "- create a function to specify the way they ake sound i.e dogs bark\n",
    "- create an instance of dogs and see if it inherited the method from parent class i.e animals \n"
   ]
  },
  {
   "cell_type": "code",
   "execution_count": 1,
   "metadata": {},
   "outputs": [
    {
     "name": "stdout",
     "output_type": "stream",
     "text": [
      "Dogs are the   Animals , it has 4 legs and they  bark\n"
     ]
    }
   ],
   "source": [
    "class Animals:\n",
    "    def Legs(self):\n",
    "        return (\"Animals , it has 4 legs\")\n",
    "    \n",
    "\n",
    "class Dogs(Animals):\n",
    "    def sound(self):\n",
    "        return \"bark\"\n",
    "\n",
    "    \n",
    "a1 = Dogs()\n",
    "print (\"Dogs are the  \",a1.Legs(),\"and they \",a1.sound())\n",
    "\n",
    "\n"
   ]
  },
  {
   "cell_type": "code",
   "execution_count": 3,
   "metadata": {},
   "outputs": [
    {
     "name": "stdout",
     "output_type": "stream",
     "text": [
      "This is SO & So Oranization My name is Meerabo SHah\n"
     ]
    }
   ],
   "source": [
    "# Inheritance \n",
    "\n",
    "# Single\n",
    "# Multiple\n",
    "# Multilevel   ->   [Nehru  ->  Rajiv -> Rahul etc]\n",
    "\n",
    "# Single level Inheritance\n",
    "\n",
    "\n",
    "class Employer:\n",
    "    def name(self):\n",
    "        return \"This is SO & So Oranization\"\n",
    "    \n",
    "    \n",
    "class Employee(Employer):\n",
    "    def ename(self):\n",
    "        return \"My name is Meerabo SHah\"\n",
    "    \n",
    "\n",
    "E1 = Employee()\n",
    "print (E1.name(),E1.ename())\n",
    "\n",
    "\n"
   ]
  },
  {
   "cell_type": "code",
   "execution_count": 6,
   "metadata": {},
   "outputs": [
    {
     "name": "stdout",
     "output_type": "stream",
     "text": [
      "Child Class:- This is Maruti Suzuki\n",
      "Parent Class1:- This is Maruti\n",
      "Parent Class2:- This is Suzuki\n"
     ]
    }
   ],
   "source": [
    "# Multiple Inheritance \n",
    "# - come up with an exampe for muliple inheritance using maruti, suzuki and their collaboration marutisuzuki\n",
    "\n",
    "\n",
    "class Maruti:\n",
    "    def brandname(self):\n",
    "        return \"This is Maruti\"\n",
    "    \n",
    "    \n",
    "class Suzuki:\n",
    "    def sbrandname(self):\n",
    "        return \"This is Suzuki\"\n",
    "    \n",
    "\n",
    "class MarutiSuzuki(Maruti,Suzuki):\n",
    "    def name(self):\n",
    "        return \"This is Maruti Suzuki\"\n",
    "\n",
    "\n",
    "car1 = MarutiSuzuki()\n",
    "print (\"Child Class:-\",car1.name())\n",
    "print (\"Parent Class1:-\",car1.brandname())\n",
    "print (\"Parent Class2:-\",car1.sbrandname())\n"
   ]
  },
  {
   "cell_type": "code",
   "execution_count": 7,
   "metadata": {},
   "outputs": [
    {
     "name": "stdout",
     "output_type": "stream",
     "text": [
      "Latest Gen:- This is Third Generation\n",
      "Property of second Class:- This is Second Generation\n",
      "Property of First Class:- This is First Generation\n"
     ]
    }
   ],
   "source": [
    "class Nehru:\n",
    "    def Fgen(self):\n",
    "        return \"This is First Generation\"\n",
    "    \n",
    "    \n",
    "class RajivGandhi(Nehru):\n",
    "    def Sgen(self):\n",
    "        return \"This is Second Generation\"\n",
    "    \n",
    "\n",
    "class RahulGandhi(RajivGandhi):\n",
    "    def Tgen(self):\n",
    "        return \"This is Third Generation\"\n",
    "\n",
    "\n",
    "Congress = RahulGandhi()\n",
    "print (\"Latest Gen:-\",Congress.Tgen())\n",
    "print (\"Property of second Class:-\",Congress.Sgen())\n",
    "print (\"Property of First Class:-\",Congress.Fgen())"
   ]
  },
  {
   "cell_type": "code",
   "execution_count": 16,
   "metadata": {},
   "outputs": [
    {
     "name": "stdout",
     "output_type": "stream",
     "text": [
      "Function3 :  Happy Diwali\n",
      "Function2 :  World\n",
      "Function1 :  Hello\n"
     ]
    }
   ],
   "source": [
    "class Main: \n",
    "  \n",
    "    # constructor of Main class \n",
    "    def __init__(self): \n",
    "        # Initialization of the Strings \n",
    "        self.String1 =\"Hello\"\n",
    "        self.String2 =\"World\"\n",
    "        self.String3 =\"Happy Diwali\"\n",
    "  \n",
    "    def Function1(self): \n",
    "        # calling Function2 Method \n",
    "        self.Function2() \n",
    "        print(\"Function1 : \", self.String1) \n",
    "        return \n",
    "  \n",
    "    def Function2(self): \n",
    "        self.Function3()\n",
    "        print(\"Function2 : \", self.String2) \n",
    "        return\n",
    "  \n",
    "    def Function3(self): \n",
    "        print(\"Function3 : \", self.String3) \n",
    "        return\n",
    "  \n",
    "# Instance of Class Main \n",
    "Object = Main() \n",
    "  \n",
    "# Calling Function1 \n",
    "Object.Function1() \n"
   ]
  },
  {
   "cell_type": "code",
   "execution_count": 17,
   "metadata": {},
   "outputs": [
    {
     "name": "stdout",
     "output_type": "stream",
     "text": [
      "Ambani's First son:- This is Mukesh Ambani\n",
      "Ambani's Second son:- This is Anil Ambani\n"
     ]
    }
   ],
   "source": [
    "# Hirarchical   --> 1 parnt and 2 childs \n",
    "# Multiple   -->  2 parent and 1 child \n",
    "\n",
    "# Example of Hirarchical   Inheritance \n",
    "\n",
    "class Ambani:\n",
    "    def sname(self):\n",
    "        return \"Ambani\"\n",
    "    \n",
    "    \n",
    "class Mukesh(Ambani):\n",
    "    def Fname(self):\n",
    "        return \"This is Mukesh\"\n",
    "    \n",
    "\n",
    "class Anil(Ambani):\n",
    "    def Fname(self):\n",
    "        return \"This is Anil\"\n",
    "\n",
    "\n",
    "a1 = Mukesh()\n",
    "a2 = Anil()\n",
    "print (\"Ambani's First son:-\",a1.Fname(),a1.sname())\n",
    "print (\"Ambani's Second son:-\",a2.Fname(),a2.sname())\n"
   ]
  },
  {
   "cell_type": "code",
   "execution_count": 22,
   "metadata": {},
   "outputs": [
    {
     "name": "stdout",
     "output_type": "stream",
     "text": [
      "customer1:- This is Mukesh Ambani Thanks for using Maruti car\n",
      "customer1:- This is Anil Ambani Thanks for using Maruti car\n"
     ]
    }
   ],
   "source": [
    "# Hybrid Inheritance \n",
    "\n",
    "# Example of Hirarchical   Inheritance \n",
    "\n",
    "# e.g.  Hirarchical + Multiple == Hybrid \n",
    "\n",
    "class Ambani:\n",
    "    def sname(self):\n",
    "        return \"Ambani\"\n",
    "    \n",
    "    \n",
    "class Mukesh(Ambani):\n",
    "    def Mname(self):\n",
    "        return \"This is Mukesh\"\n",
    "    \n",
    "\n",
    "class Anil(Ambani):\n",
    "    def Aname(self):\n",
    "        return \"This is Anil\"\n",
    "\n",
    "\n",
    "class Maruti(Mukesh,Anil):\n",
    "    def brandname(self):\n",
    "        return \"Thanks for using Maruti car\"\n",
    "    \n",
    "    \n",
    "car1 = Maruti()\n",
    "print (\"customer1:-\",car1.Mname(),car1.sname(),car1.brandname())\n",
    "print (\"customer1:-\",car1.Aname(),car1.sname(),car1.brandname())\n",
    "\n"
   ]
  },
  {
   "cell_type": "code",
   "execution_count": 23,
   "metadata": {},
   "outputs": [
    {
     "name": "stdout",
     "output_type": "stream",
     "text": [
      "NATIONAL STOCK EXCHANGE OF INDIA\n",
      "The regulator will make the rules for the exchanges of INDIA\n",
      "BOMBAY STOCK EXCHANGE\n",
      "The regulator will make the rules for the exchanges of INDIA\n",
      "Trader is eligible to trade on all the exchanges once registered in it.\n"
     ]
    }
   ],
   "source": [
    "## hybrid inheritance ##\n",
    "\n",
    "class SEBI:\n",
    "    def Exchange_Regulator(self):\n",
    "        return(\"The regulator will make the rules for the exchanges of INDIA\")\n",
    "    \n",
    "class NSE(SEBI):\n",
    "    def Exchange_NSE(self):\n",
    "        return (\"NATIONAL STOCK EXCHANGE OF INDIA\")\n",
    "    \n",
    "class BSE(SEBI):\n",
    "    def Exchange_BSE(self):\n",
    "        return (\"BOMBAY STOCK EXCHANGE\")\n",
    "                \n",
    "class Trader(BSE,NSE):\n",
    "    def Trader_Rights(self):\n",
    "        return (\"Trader is eligible to trade on all the exchanges once registered in it.\")\n",
    "        \n",
    "\n",
    "NSE1=NSE()\n",
    "print(NSE1.Exchange_NSE())\n",
    "print(NSE1.Exchange_Regulator())\n",
    "\n",
    "\n",
    "\n",
    "BSE1=BSE()\n",
    "print(BSE1.Exchange_BSE())\n",
    "print(BSE1.Exchange_Regulator())\n",
    "\n",
    "Trader1=Trader()\n",
    "print(Trader1.Trader_Rights())\n"
   ]
  },
  {
   "cell_type": "code",
   "execution_count": null,
   "metadata": {},
   "outputs": [],
   "source": []
  },
  {
   "cell_type": "markdown",
   "metadata": {},
   "source": [
    "#  Ploymorphisam "
   ]
  },
  {
   "cell_type": "code",
   "execution_count": null,
   "metadata": {},
   "outputs": [],
   "source": [
    "# Poly ->  many\n",
    "# morphisam --> forms "
   ]
  },
  {
   "cell_type": "code",
   "execution_count": 25,
   "metadata": {},
   "outputs": [
    {
     "name": "stdout",
     "output_type": "stream",
     "text": [
      "Humans Legs 2\n",
      "Animals Legs 4\n"
     ]
    }
   ],
   "source": [
    "#- create a class of humans and create a method to find the number of legs for humans i.e. 2\n",
    "#- create another class of animals and create a method with the name as in the previous class to find the number of legs i.e 4\n",
    "#- now create an instance of humans and find the number of legs using the method that we defined\n",
    "#- now create an isstance of animals and find the number of legs using the method that we defined\n",
    "\n",
    "\n",
    "class Human():\n",
    "    def legs(self):\n",
    "        return 2\n",
    "    \n",
    "class Animals():\n",
    "    def legs(self):\n",
    "        return 4\n",
    "    \n",
    "\n",
    "H1 = Human()\n",
    "print (\"Humans Legs\",H1.legs())\n",
    "\n",
    "A1 = Animals()\n",
    "print (\"Animals Legs\",A1.legs())\n",
    "\n",
    "\n",
    "    "
   ]
  },
  {
   "cell_type": "markdown",
   "metadata": {},
   "source": [
    "create a class of squares \n",
    "and define a method whose name is Area to find out the area of the square\n",
    "\n",
    "create a class of rectangles \n",
    "and define a method with the same name Area to find out the area of the rectangle \n",
    "\n",
    "then create an instance of square and find the area\n",
    "create an instance of rectangle and find the area\n"
   ]
  },
  {
   "cell_type": "code",
   "execution_count": 27,
   "metadata": {},
   "outputs": [
    {
     "name": "stdout",
     "output_type": "stream",
     "text": [
      "Area of Square 16\n",
      "Area of Rectangles 24\n"
     ]
    }
   ],
   "source": [
    "class Squares:\n",
    "    def __init__(self,a):\n",
    "        self.a = a\n",
    "        \n",
    "    def area(self):\n",
    "        return (self.a*self.a)\n",
    "    \n",
    "class Rectangles:\n",
    "    def __init__(self,a,b):\n",
    "        self.a = a\n",
    "        self.b = b\n",
    "        \n",
    "    def area(self):\n",
    "        return (self.a*self.b)\n",
    "    \n",
    "    \n",
    "s1 = Squares(4)\n",
    "print (\"Area of Square\",s1.area())\n",
    "\n",
    "r1 = Rectangles(4,6)\n",
    "print (\"Area of Rectangles\",r1.area())\n",
    "\n",
    "    "
   ]
  },
  {
   "cell_type": "code",
   "execution_count": 28,
   "metadata": {},
   "outputs": [
    {
     "name": "stdout",
     "output_type": "stream",
     "text": [
      "Hello, and welcome to DataFolkz\n"
     ]
    }
   ],
   "source": [
    "class DataFolkz:\n",
    "    def __init__(self, txt):\n",
    "        self.message = txt\n",
    "\n",
    "    def printmessage(self):\n",
    "        print(self.message)\n",
    "\n",
    "class Learner(DataFolkz):\n",
    "    def __init__(self, txt):\n",
    "        super().__init__(txt)\n",
    "\n",
    "x = Learner(\"Hello, and welcome to DataFolkz\")\n",
    "\n",
    "x.printmessage()\n"
   ]
  },
  {
   "cell_type": "markdown",
   "metadata": {},
   "source": [
    "# Encapsulation "
   ]
  },
  {
   "cell_type": "markdown",
   "metadata": {},
   "source": [
    "Encapsulation is one of the fundamental concepts in object-oriented programming (OOP). It describes the idea of wrapping data and the methods that work on data within one unit. This puts restrictions on accessing variables and methods directly and can prevent the accidental modification of data. To prevent accidental change, an object’s variable can only be changed by an object’s method. Those type of variables are known as private variable.\n"
   ]
  },
  {
   "cell_type": "markdown",
   "metadata": {},
   "source": [
    "A class is an example of encapsulation as it encapsulates all the data that is member functions, variables, etc.\n"
   ]
  },
  {
   "cell_type": "code",
   "execution_count": 4,
   "metadata": {},
   "outputs": [
    {
     "name": "stdout",
     "output_type": "stream",
     "text": [
      "speed of ford cars fast\n"
     ]
    }
   ],
   "source": [
    "class cars:\n",
    "    def __init__(self,speed,color):\n",
    "        self.speed = speed\n",
    "        self.color = color\n",
    "        \n",
    "ford = cars(200,'red')\n",
    "chev = cars(180,'Blue')\n",
    "audi = cars(190,'black')\n",
    "\n",
    "ford.speed = 400           #   changing speed of ford cars \n",
    "ford.speed = \"fast\"        #   Try to put string in speed \n",
    "\n",
    "print (\"speed of ford cars\",ford.speed)\n",
    "\n",
    "#### Did that really make any sense?\n",
    "\n",
    "##### No, Right?\n",
    "\n",
    "#- That's where Encapsulation comes into picture.\n",
    "#- Now let's see how to encapsulate our code.\n",
    "#- To do that we have to create a function.\n",
    "\n",
    "\n"
   ]
  },
  {
   "cell_type": "code",
   "execution_count": 7,
   "metadata": {},
   "outputs": [
    {
     "name": "stdout",
     "output_type": "stream",
     "text": [
      "fast\n",
      "speed of ford cars fast\n"
     ]
    }
   ],
   "source": [
    "class cars:\n",
    "    def __init__(self,speed,color):\n",
    "        self.speed = speed\n",
    "        self.color = color\n",
    "        \n",
    "    def set_speed(self,value):    # setter is used to modify \n",
    "        self.speed = value\n",
    "        \n",
    "    def get_speed(self):   #  getter for the attribute speed \n",
    "        return self.speed\n",
    "    \n",
    "    \n",
    "ford = cars(200,'red')\n",
    "chev = cars(180,'Blue')\n",
    "audi = cars(190,'black')\n",
    "\n",
    "#ford.speed = 400           #   changing speed of ford cars \n",
    "#ford.speed = \"fast\"        #   Try to put string in speed \n",
    "\n",
    "ford.set_speed(\"fast\")\n",
    "\n",
    "print (ford.get_speed())\n",
    "\n",
    "print (\"speed of ford cars\",ford.speed)"
   ]
  },
  {
   "cell_type": "markdown",
   "metadata": {},
   "source": [
    "So some how we need to make our attribute private.\n",
    "In some other Object Oriented Programming Languages we use certain keywords like public,private and protected in order to mark their memmber variables as public,private or protected.\n",
    "But Python doesn't have any of these Keywords\n"
   ]
  },
  {
   "cell_type": "code",
   "execution_count": 11,
   "metadata": {},
   "outputs": [
    {
     "name": "stdout",
     "output_type": "stream",
     "text": [
      "15\n",
      "10\n"
     ]
    },
    {
     "ename": "AttributeError",
     "evalue": "'Hello' object has no attribute '__c'",
     "output_type": "error",
     "traceback": [
      "\u001b[1;31m---------------------------------------------------------------------------\u001b[0m",
      "\u001b[1;31mAttributeError\u001b[0m                            Traceback (most recent call last)",
      "\u001b[1;32m<ipython-input-11-26b6779d5ea2>\u001b[0m in \u001b[0;36m<module>\u001b[1;34m\u001b[0m\n\u001b[0;32m      9\u001b[0m \u001b[0mprint\u001b[0m \u001b[1;33m(\u001b[0m\u001b[0mhello\u001b[0m\u001b[1;33m.\u001b[0m\u001b[0ma\u001b[0m\u001b[1;33m)\u001b[0m\u001b[1;33m\u001b[0m\u001b[1;33m\u001b[0m\u001b[0m\n\u001b[0;32m     10\u001b[0m \u001b[0mprint\u001b[0m \u001b[1;33m(\u001b[0m\u001b[0mhello\u001b[0m\u001b[1;33m.\u001b[0m\u001b[0m_b\u001b[0m\u001b[1;33m)\u001b[0m\u001b[1;33m\u001b[0m\u001b[1;33m\u001b[0m\u001b[0m\n\u001b[1;32m---> 11\u001b[1;33m \u001b[0mprint\u001b[0m \u001b[1;33m(\u001b[0m\u001b[0mhello\u001b[0m\u001b[1;33m.\u001b[0m\u001b[0m__c\u001b[0m\u001b[1;33m)\u001b[0m\u001b[1;33m\u001b[0m\u001b[1;33m\u001b[0m\u001b[0m\n\u001b[0m\u001b[0;32m     12\u001b[0m \u001b[1;33m\u001b[0m\u001b[0m\n",
      "\u001b[1;31mAttributeError\u001b[0m: 'Hello' object has no attribute '__c'"
     ]
    }
   ],
   "source": [
    "class Hello:\n",
    "    def __init__(self,name):\n",
    "        self.a = 15\n",
    "        self._b = 10\n",
    "        self.__c = 40\n",
    "        \n",
    "hello = Hello('mdshah')\n",
    "\n",
    "print (hello.a)\n",
    "print (hello._b)\n",
    "print (hello.__c)\n",
    "\n"
   ]
  },
  {
   "cell_type": "markdown",
   "metadata": {},
   "source": [
    "There are 3 types of members here public, private and protected\n",
    "\n",
    "The way you declare them shows what type of members they are\n",
    "\n",
    "Even though we declared some members as protected,nothing can stop us from calling them\n"
   ]
  },
  {
   "cell_type": "markdown",
   "metadata": {},
   "source": [
    "- Here the attribute __c can be used to make your attribute private.\n",
    "- No keywords like private exists in Python.Whenever you use double underscores it makes your data private.\n",
    "- When you use single underscore also it makes it private but nothing can stop you from changing the value of _b or accessing _b\n",
    "- So if you truely want to make your data private please use double underscores in front of your variable.\n"
   ]
  },
  {
   "cell_type": "code",
   "execution_count": 18,
   "metadata": {},
   "outputs": [
    {
     "name": "stdout",
     "output_type": "stream",
     "text": [
      "400\n"
     ]
    },
    {
     "ename": "AttributeError",
     "evalue": "'cars' object has no attribute 'color'",
     "output_type": "error",
     "traceback": [
      "\u001b[1;31m---------------------------------------------------------------------------\u001b[0m",
      "\u001b[1;31mAttributeError\u001b[0m                            Traceback (most recent call last)",
      "\u001b[1;32m<ipython-input-18-b10f338b6ea2>\u001b[0m in \u001b[0;36m<module>\u001b[1;34m\u001b[0m\n\u001b[0;32m     22\u001b[0m \u001b[1;33m\u001b[0m\u001b[0m\n\u001b[0;32m     23\u001b[0m \u001b[0mprint\u001b[0m \u001b[1;33m(\u001b[0m\u001b[0mford\u001b[0m\u001b[1;33m.\u001b[0m\u001b[0mget_speed\u001b[0m\u001b[1;33m(\u001b[0m\u001b[1;33m)\u001b[0m\u001b[1;33m)\u001b[0m\u001b[1;33m\u001b[0m\u001b[1;33m\u001b[0m\u001b[0m\n\u001b[1;32m---> 24\u001b[1;33m \u001b[0mprint\u001b[0m \u001b[1;33m(\u001b[0m\u001b[0mford\u001b[0m\u001b[1;33m.\u001b[0m\u001b[0mcolor\u001b[0m\u001b[1;33m)\u001b[0m\u001b[1;33m\u001b[0m\u001b[1;33m\u001b[0m\u001b[0m\n\u001b[0m",
      "\u001b[1;31mAttributeError\u001b[0m: 'cars' object has no attribute 'color'"
     ]
    }
   ],
   "source": [
    "class cars:\n",
    "    def __init__(self,speed,color):\n",
    "        self.__speed = speed\n",
    "        self.__color = color\n",
    "        \n",
    "    def set_speed(self,value):    # setter is used to modify \n",
    "        self.__speed = value\n",
    "        \n",
    "    def get_speed(self):   #  getter for the attribute speed \n",
    "        return self.__speed\n",
    "    \n",
    "    \n",
    "ford = cars(200,'red')\n",
    "chev = cars(180,'Blue')\n",
    "audi = cars(190,'black')\n",
    "\n",
    "#ford.speed = 400           #   changing speed of ford cars \n",
    "#ford.speed = \"fast\"        #   Try to put string in speed \n",
    "\n",
    "ford.set_speed(400)\n",
    "ford.__speed =400\n",
    "\n",
    "print (ford.get_speed())\n",
    "print (ford.color)\n"
   ]
  },
  {
   "cell_type": "markdown",
   "metadata": {},
   "source": [
    "- From the above it is clear that you can not access color because now it is a private attribute.\n",
    "- Now you can create setter and getter method for color also.\n"
   ]
  },
  {
   "cell_type": "code",
   "execution_count": 24,
   "metadata": {},
   "outputs": [
    {
     "name": "stdout",
     "output_type": "stream",
     "text": [
      "red\n"
     ]
    }
   ],
   "source": [
    "class cars:\n",
    "    def __init__(self,speed,color):\n",
    "        self.__speed = speed\n",
    "        self.__color = color\n",
    "        \n",
    "    def set_speed(self,value):    # setter is used to modify \n",
    "        self.__speed = value\n",
    "        \n",
    "    def get_speed(self):   #  getter for the attribute speed \n",
    "        return self.__speed\n",
    "    \n",
    "    \n",
    "    def set_color(self,value):    # setter is used to modify \n",
    "        self.__color = value\n",
    "        \n",
    "    def get_color(self):   #  getter for the attribute speed \n",
    "        return self.__color\n",
    "    \n",
    "    \n",
    "ford = cars(200,'red')\n",
    "chev = cars(180,'Blue')\n",
    "audi = cars(190,'black')\n",
    "\n",
    "print (ford.get_color())"
   ]
  },
  {
   "cell_type": "markdown",
   "metadata": {},
   "source": [
    "- so above this type of protecting or access data using methods is called encapsulation \n",
    "\n",
    "### Protected members\n",
    "Protected members (in C++ and JAVA) are those members of the class which cannot be accessed outside the class but can be accessed from within the class and it’s subclasses. To accomplish this in Python, just follow the convention by prefixing the name of the member by a single underscore “_”.\n"
   ]
  },
  {
   "cell_type": "code",
   "execution_count": 25,
   "metadata": {},
   "outputs": [
    {
     "name": "stdout",
     "output_type": "stream",
     "text": [
      "calling protected member of a base class\n",
      "2\n"
     ]
    },
    {
     "ename": "AttributeError",
     "evalue": "'Base' object has no attribute 'a'",
     "output_type": "error",
     "traceback": [
      "\u001b[1;31m---------------------------------------------------------------------------\u001b[0m",
      "\u001b[1;31mAttributeError\u001b[0m                            Traceback (most recent call last)",
      "\u001b[1;32m<ipython-input-25-f2a05376fada>\u001b[0m in \u001b[0;36m<module>\u001b[1;34m\u001b[0m\n\u001b[0;32m     29\u001b[0m \u001b[1;33m\u001b[0m\u001b[0m\n\u001b[0;32m     30\u001b[0m \u001b[1;33m\u001b[0m\u001b[0m\n\u001b[1;32m---> 31\u001b[1;33m \u001b[0mprint\u001b[0m \u001b[1;33m(\u001b[0m\u001b[0mobj2\u001b[0m\u001b[1;33m.\u001b[0m\u001b[0ma\u001b[0m\u001b[1;33m)\u001b[0m\u001b[1;33m\u001b[0m\u001b[1;33m\u001b[0m\u001b[0m\n\u001b[0m",
      "\u001b[1;31mAttributeError\u001b[0m: 'Base' object has no attribute 'a'"
     ]
    }
   ],
   "source": [
    "# creating Base class\n",
    "\n",
    "class Base:\n",
    "    \n",
    "    def __init__(self):\n",
    "        \n",
    "        # protected member \n",
    "        self._a = 2\n",
    "        \n",
    "        \n",
    "# creating a derived class\n",
    "\n",
    "class Derived(Base):\n",
    "    def __init__(self):\n",
    "        \n",
    "        # calling constructor of base class\n",
    "        \n",
    "        Base.__init__(self)\n",
    "        print (\"calling protected member of a base class\")\n",
    "        print (self._a)\n",
    "        \n",
    "        \n",
    "        \n",
    "obj1 = Derived()\n",
    "obj2 = Base()\n",
    "\n",
    "\n",
    "# calling protected member , outside class will results in AttributesError \n",
    "\n",
    "\n",
    "print (obj2.a)"
   ]
  },
  {
   "cell_type": "code",
   "execution_count": null,
   "metadata": {},
   "outputs": [],
   "source": []
  },
  {
   "cell_type": "code",
   "execution_count": null,
   "metadata": {},
   "outputs": [],
   "source": []
  },
  {
   "cell_type": "code",
   "execution_count": null,
   "metadata": {},
   "outputs": [],
   "source": []
  }
 ],
 "metadata": {
  "kernelspec": {
   "display_name": "Python 3",
   "language": "python",
   "name": "python3"
  },
  "language_info": {
   "codemirror_mode": {
    "name": "ipython",
    "version": 3
   },
   "file_extension": ".py",
   "mimetype": "text/x-python",
   "name": "python",
   "nbconvert_exporter": "python",
   "pygments_lexer": "ipython3",
   "version": "3.7.4"
  }
 },
 "nbformat": 4,
 "nbformat_minor": 2
}
