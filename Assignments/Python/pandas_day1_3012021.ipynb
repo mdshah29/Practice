{
 "cells": [
  {
   "cell_type": "code",
   "execution_count": 1,
   "metadata": {},
   "outputs": [],
   "source": [
    "import numpy as np\n",
    "import pandas as pd"
   ]
  },
  {
   "cell_type": "code",
   "execution_count": 5,
   "metadata": {},
   "outputs": [
    {
     "name": "stdout",
     "output_type": "stream",
     "text": [
      "0.25.1\n"
     ]
    }
   ],
   "source": [
    "print (pd.__version__)\n",
    "pd?"
   ]
  },
  {
   "cell_type": "code",
   "execution_count": 19,
   "metadata": {},
   "outputs": [
    {
     "name": "stdout",
     "output_type": "stream",
     "text": [
      "0    10\n",
      "1    20\n",
      "2    30\n",
      "3    40\n",
      "4    50\n",
      "dtype: int64\n",
      "RangeIndex(start=0, stop=5, step=1)\n",
      "[10 20 30 40 50]\n",
      "<class 'pandas.core.series.Series'>\n",
      "<class 'numpy.ndarray'>\n",
      "int64\n"
     ]
    }
   ],
   "source": [
    "series = pd.Series([10,20,30,40,50])\n",
    "print (series)\n",
    "print (series.index)\n",
    "print (series.values)\n",
    "print (type(series))\n",
    "print (type(series.values))\n",
    "print (series.values.dtype)"
   ]
  },
  {
   "cell_type": "code",
   "execution_count": 25,
   "metadata": {},
   "outputs": [
    {
     "name": "stdout",
     "output_type": "stream",
     "text": [
      "a    10\n",
      "b    20\n",
      "c    30\n",
      "d    40\n",
      "e    50\n",
      "dtype: int64\n",
      "Index(['a', 'b', 'c', 'd', 'e'], dtype='object')\n",
      "[10 20 30 40 50]\n"
     ]
    }
   ],
   "source": [
    "index = ['a','b','c','d','e']\n",
    "series = pd.Series([10,20,30,40,50],index=index)\n",
    "print (series)\n",
    "print (series.index)\n",
    "print (series.values)"
   ]
  },
  {
   "cell_type": "code",
   "execution_count": 28,
   "metadata": {},
   "outputs": [
    {
     "name": "stdout",
     "output_type": "stream",
     "text": [
      "a    10\n",
      "b    20\n",
      "c    30\n",
      "d    40\n",
      "e    50\n",
      "dtype: int32\n",
      "Index(['a', 'b', 'c', 'd', 'e'], dtype='object')\n",
      "[10 20 30 40 50]\n"
     ]
    }
   ],
   "source": [
    "arr = np.array([10,20,30,40,50])\n",
    "series = pd.Series(arr,index=index)     #  np creates arr with less memory see int32 \n",
    "print (series)\n",
    "print (series.index)\n",
    "print (series.values)"
   ]
  },
  {
   "cell_type": "code",
   "execution_count": 32,
   "metadata": {},
   "outputs": [
    {
     "name": "stdout",
     "output_type": "stream",
     "text": [
      "a    10\n",
      "b    20\n",
      "c    30\n",
      "d    40\n",
      "dtype: int64\n",
      "Index(['a', 'b', 'c', 'd'], dtype='object')\n",
      "[10 20 30 40]\n",
      "True\n"
     ]
    }
   ],
   "source": [
    "# creating series with dictionry \n",
    "\n",
    "dict = {'a':10,'b':20,'c':30,'d':40}\n",
    "series = pd.Series(dict)\n",
    "print (series)\n",
    "print (series.index)\n",
    "print (series.values)\n",
    "\n",
    "print ('b' in dict)"
   ]
  },
  {
   "cell_type": "code",
   "execution_count": 39,
   "metadata": {},
   "outputs": [
    {
     "name": "stdout",
     "output_type": "stream",
     "text": [
      "5    89\n",
      "6    78\n",
      "7    67\n",
      "8    56\n",
      "9    45\n",
      "dtype: int32\n"
     ]
    }
   ],
   "source": [
    "# Indexing and slicing \n",
    "arr = np.array([89,78,67,56,45]);\n",
    "index1= [5,6,7,8,9]\n",
    "series= pd.Series(arr,index=index1)\n",
    "print(series)"
   ]
  },
  {
   "cell_type": "code",
   "execution_count": 37,
   "metadata": {},
   "outputs": [
    {
     "name": "stdout",
     "output_type": "stream",
     "text": [
      "56\n",
      "[78 67 56]\n",
      "[89 78 67 56]\n",
      "[78 56]\n"
     ]
    }
   ],
   "source": [
    "arr = np.array([89,78,67,56,45]);\n",
    "print (arr[3])\n",
    "print (arr[1:4])\n",
    "print (arr[:4])\n",
    "print (arr[1:4:2])"
   ]
  },
  {
   "cell_type": "code",
   "execution_count": 43,
   "metadata": {},
   "outputs": [
    {
     "name": "stdout",
     "output_type": "stream",
     "text": [
      "0    10.1\n",
      "1    20.1\n",
      "2    30.3\n",
      "3    40.4\n",
      "4    50.2\n",
      "dtype: float64\n",
      "3    40.4\n",
      "2    30.3\n",
      "dtype: float64\n"
     ]
    }
   ],
   "source": [
    "ser_list = pd.Series([10.1,20.1,30.3,40.4,50.2])\n",
    "print(ser_list)\n",
    "fancy_series = pd.Series(ser_list,[3,2])\n",
    "print(fancy_series)"
   ]
  },
  {
   "cell_type": "code",
   "execution_count": 49,
   "metadata": {},
   "outputs": [
    {
     "name": "stdout",
     "output_type": "stream",
     "text": [
      "a    10\n",
      "b    20\n",
      "c    30\n",
      "d    40\n",
      "dtype: int64\n",
      "\n",
      "\n",
      "10\n"
     ]
    }
   ],
   "source": [
    "ser_using_dict = pd.Series(dict)\n",
    "print (ser_using_dict)\n",
    "print ('\\n')\n",
    "print (ser_using_dict['a'])"
   ]
  },
  {
   "cell_type": "code",
   "execution_count": 58,
   "metadata": {},
   "outputs": [
    {
     "name": "stdout",
     "output_type": "stream",
     "text": [
      "a    10\n",
      "b    20\n",
      "dtype: int64\n"
     ]
    }
   ],
   "source": [
    "dict = {'a':10,'b':20,'c':30,'d':40}\n",
    "series = pd.Series(dict)\n",
    "print (series['a':'b'])"
   ]
  },
  {
   "cell_type": "code",
   "execution_count": 59,
   "metadata": {},
   "outputs": [
    {
     "name": "stdout",
     "output_type": "stream",
     "text": [
      "dictionary is  {'a': 10, 'b': 20, 'c': 30, 'd': 40, 'e': 50}\n",
      "b    20\n",
      "c    30\n",
      "dtype: int64\n"
     ]
    }
   ],
   "source": [
    "#Accessing series elements in a dictionary way. this is with explicit index or key\n",
    "dict = {'a':10, 'b':20, 'c':30, 'd':40, 'e':50}      #creating a Dictionary\n",
    "print(\"dictionary is \", dict)\n",
    "ser_dict = pd.Series(dict)         # creating a Series from a Dictionary\n",
    "#print(ser_dict.index)\n",
    "#print(ser_dict['a'])\n",
    "#print(ser_dict['a':'c'])       # [1:4]\n",
    "#print(\"ser_dict[: 'd']:\\n\", ser_dict[:'d'])\n",
    "#print(\"ser_dict[['b', 'e']]:\\n\",  ser_dict[['b', 'e']])    #Fancy Indexing \n",
    "print(ser_dict[1:3])    #with explicit index default index also exists\n"
   ]
  },
  {
   "cell_type": "code",
   "execution_count": 62,
   "metadata": {},
   "outputs": [
    {
     "name": "stdout",
     "output_type": "stream",
     "text": [
      "Series is : \n",
      " 100    5\n",
      "200    4\n",
      "300    3\n",
      "400    2\n",
      "dtype: int64 \n",
      " Indices are :  Int64Index([100, 200, 300, 400], dtype='int64')\n",
      "Series([], dtype: int64)\n"
     ]
    }
   ],
   "source": [
    "#Problem that may arise with implicit and explicit indexing\n",
    "#Consider an Example where the explicit index is also a number\n",
    "s = pd.Series([5,4,3,2],  index=[100, 200, 300,400])  # index has to be given as 2nd parameter\n",
    "print(\"Series is : \\n\", s, '\\n Indices are : ', s.index) \n",
    "print(s[100:300])     #100 and 300 not the default index\n",
    "#print(s[1:3])\n"
   ]
  },
  {
   "cell_type": "code",
   "execution_count": 66,
   "metadata": {},
   "outputs": [
    {
     "name": "stdout",
     "output_type": "stream",
     "text": [
      "Series is : \n",
      " 100    5\n",
      "200    4\n",
      "300    3\n",
      "400    2\n",
      "dtype: int64 \n",
      " Indices are :  Int64Index([100, 200, 300, 400], dtype='int64')\n",
      "Series with explicit index :s.loc[100:300]\n",
      " 100    5\n",
      "200    4\n",
      "300    3\n",
      "dtype: int64\n",
      "Implicit access  : s.iloc[2] \n",
      " 3\n",
      "Explicit access  : s.loc[200] \n",
      " 4\n"
     ]
    }
   ],
   "source": [
    "#the loc() - indexing and slicing with explicit index\n",
    "#the iloc() - indexing and slicing with implicit index\n",
    "s = pd.Series([5,4,3,2],  index=[100, 200, 300,400])  # index has to be given as 2nd parameter\n",
    "print(\"Series is : \\n\", s, '\\n Indices are : ', s.index)\n",
    "print(\"Series with explicit index :s.loc[100:300]\\n\", s.loc[100:300])  #it will take the end value too\n",
    "#print(\"Series with implicit index:  s.iloc[1:3] \\n\" , s.iloc[1:3])\n",
    "print('Implicit access  : s.iloc[2] \\n' , s.iloc[2])\n",
    "print('Explicit access  : s.loc[200] \\n' , s.loc[200])\n"
   ]
  },
  {
   "cell_type": "code",
   "execution_count": 67,
   "metadata": {},
   "outputs": [],
   "source": [
    "# loc - explicit index will take indexing from start to stop \n",
    "# iloc - implicit index will take indexing from start to stop-1"
   ]
  },
  {
   "cell_type": "markdown",
   "metadata": {},
   "source": [
    "#Difference between Implit and Explicit Indexing\n",
    "\n",
    "### Explicit index use loc[] series.loc[slice] slice will take start to stop\n",
    "### Implict index use iloc[] series.iloc[slice] slice will take start to stop-1\n"
   ]
  },
  {
   "cell_type": "code",
   "execution_count": null,
   "metadata": {},
   "outputs": [],
   "source": []
  }
 ],
 "metadata": {
  "kernelspec": {
   "display_name": "Python 3",
   "language": "python",
   "name": "python3"
  },
  "language_info": {
   "codemirror_mode": {
    "name": "ipython",
    "version": 3
   },
   "file_extension": ".py",
   "mimetype": "text/x-python",
   "name": "python",
   "nbconvert_exporter": "python",
   "pygments_lexer": "ipython3",
   "version": "3.7.4"
  }
 },
 "nbformat": 4,
 "nbformat_minor": 2
}
