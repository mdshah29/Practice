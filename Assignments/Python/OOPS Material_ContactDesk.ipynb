{
 "cells": [
  {
   "cell_type": "markdown",
   "metadata": {},
   "source": [
    "# Python Object Oriented Programming"
   ]
  },
  {
   "cell_type": "markdown",
   "metadata": {},
   "source": [
    "### Let's create our first class and it's object"
   ]
  },
  {
   "cell_type": "markdown",
   "metadata": {},
   "source": [
    "- Class - A user-defined prototype for an object that defines a set of attributes that characterize any object of the class. The attributes are data members (class variables and instance variables) and methods, accessed via dot notation. "
   ]
  },
  {
   "cell_type": "code",
   "execution_count": 1,
   "metadata": {},
   "outputs": [
    {
     "name": "stdout",
     "output_type": "stream",
     "text": [
      "Hello World\n"
     ]
    }
   ],
   "source": [
    "class Hello: # Creating a class named Hello\n",
    "    print('Hello World')"
   ]
  },
  {
   "cell_type": "markdown",
   "metadata": {},
   "source": [
    "- Object - An object (instance) is an instantiation of a class. When class is defined, only the description for the object is defined. Therefore, no memory or storage is allocated."
   ]
  },
  {
   "cell_type": "code",
   "execution_count": 2,
   "metadata": {},
   "outputs": [
    {
     "name": "stdout",
     "output_type": "stream",
     "text": [
      "<__main__.Hello object at 0x7fed0c376cc0>\n"
     ]
    }
   ],
   "source": [
    "obj = Hello() # Creating an object using the class Hello\n",
    "print(obj)"
   ]
  },
  {
   "cell_type": "markdown",
   "metadata": {},
   "source": [
    "### Creating a method(function) inside a class"
   ]
  },
  {
   "cell_type": "markdown",
   "metadata": {},
   "source": [
    "- The self parameter is a reference to the current instance of the class, and is used to access variables that belongs to the class.\n",
    "\n",
    "- It does not have to be named self, you can call it whatever you like, but it has to be the first parameter of any function in the class.\n",
    "\n",
    "\"<b>self</b>\" is used to represent the instance of a class. By using the \"self\" keyword we access the attributes and methods of the class in python."
   ]
  },
  {
   "cell_type": "code",
   "execution_count": 3,
   "metadata": {},
   "outputs": [
    {
     "name": "stdout",
     "output_type": "stream",
     "text": [
      "Jasmeet\n"
     ]
    }
   ],
   "source": [
    "class DataFolkz: # Creating a class DataFolkz\n",
    "    \n",
    "    def name(self): # self is used to represent the instance of the class.\n",
    "        print('Jasmeet')\n",
    "        \n",
    "obj = DataFolkz() # Creating an object using the class DataFolkz\n",
    "obj.name() # Calling the function inside the class DataFolkz"
   ]
  },
  {
   "cell_type": "code",
   "execution_count": 4,
   "metadata": {},
   "outputs": [
    {
     "name": "stdout",
     "output_type": "stream",
     "text": [
      "Jasmeet\n",
      "23\n"
     ]
    }
   ],
   "source": [
    "class DataFolkz:\n",
    "    def name(self):\n",
    "        print('Jasmeet')\n",
    "    def age(self):\n",
    "        print(23)\n",
    "obj = DataFolkz()\n",
    "obj.name()\n",
    "obj.age()"
   ]
  },
  {
   "cell_type": "code",
   "execution_count": 5,
   "metadata": {},
   "outputs": [
    {
     "name": "stdout",
     "output_type": "stream",
     "text": [
      "Enter fist number: 4\n",
      "Enter second number: 2\n"
     ]
    }
   ],
   "source": [
    "a = int(input('Enter fist number: '))\n",
    "b = int(input('Enter second number: '))\n",
    "\n",
    "class Calculator:\n",
    "    \n",
    "    def add(self):\n",
    "        print('Sum = ',a+b)\n",
    "        \n",
    "    def multiply(self):\n",
    "        print('Product = ',a*b)\n",
    "        \n",
    "    def subtract(self):\n",
    "        print('Difference = ',a-b)\n",
    "        \n",
    "    def divide(self):\n",
    "        print('Quotient = ',a/b)\n",
    "        \n",
    "obj = Calculator()"
   ]
  },
  {
   "cell_type": "code",
   "execution_count": 6,
   "metadata": {},
   "outputs": [
    {
     "name": "stdout",
     "output_type": "stream",
     "text": [
      "Sum =  6\n",
      "Difference =  2\n",
      "Product =  8\n",
      "Quotient =  2.0\n"
     ]
    }
   ],
   "source": [
    "obj.add()\n",
    "obj.subtract()\n",
    "obj.multiply()\n",
    "obj.divide()"
   ]
  },
  {
   "cell_type": "markdown",
   "metadata": {},
   "source": [
    "### Using the __int__() method\n",
    "\n",
    "\"__init__\" is a reseved method in python classes. It is called as a constructor in object oriented terminology. This method is called when an object is created from a class and it allows the class to initialize the attributes of the class."
   ]
  },
  {
   "cell_type": "code",
   "execution_count": 7,
   "metadata": {},
   "outputs": [
    {
     "data": {
      "text/plain": [
       "'Jasmeet'"
      ]
     },
     "execution_count": 7,
     "metadata": {},
     "output_type": "execute_result"
    }
   ],
   "source": [
    "class DataFolkz:\n",
    "    \n",
    "    def __init__(self,name):\n",
    "        self.name = name\n",
    "        \n",
    "    def student(self):\n",
    "        return self.name\n",
    "    \n",
    "obj = DataFolkz('Jasmeet')\n",
    "obj.student()"
   ]
  },
  {
   "cell_type": "markdown",
   "metadata": {},
   "source": [
    "### Using __init__() in our class Calculator"
   ]
  },
  {
   "cell_type": "code",
   "execution_count": 8,
   "metadata": {},
   "outputs": [
    {
     "name": "stdout",
     "output_type": "stream",
     "text": [
      "Enter fist number: 4\n",
      "Enter second number: 2\n"
     ]
    }
   ],
   "source": [
    "a = int(input('Enter fist number: '))\n",
    "b = int(input('Enter second number: '))\n",
    "\n",
    "class Calculator:\n",
    "    \n",
    "    def __init__(self,a,b):\n",
    "        self.a = a\n",
    "        self.b = b\n",
    "        \n",
    "    def add(self):\n",
    "        print('Sum =',self.a+self.b)\n",
    "        \n",
    "    def multiply(self):\n",
    "        print('Product =',self.a*self.b)\n",
    "        \n",
    "    def subtract(self):\n",
    "        print('Difference =',self.a-self.b)\n",
    "        \n",
    "    def divide(self):\n",
    "        print('Quotient =',self.a/self.b)\n",
    "        \n",
    "obj = Calculator(a,b)"
   ]
  },
  {
   "cell_type": "code",
   "execution_count": 9,
   "metadata": {},
   "outputs": [
    {
     "name": "stdout",
     "output_type": "stream",
     "text": [
      "Sum = 6\n",
      "Difference = 2\n",
      "Product = 8\n",
      "Quotient = 2.0\n"
     ]
    }
   ],
   "source": [
    "obj.add()\n",
    "obj.subtract()\n",
    "obj.multiply()\n",
    "obj.divide()"
   ]
  },
  {
   "cell_type": "markdown",
   "metadata": {},
   "source": [
    "### Let's see another example for __init__()"
   ]
  },
  {
   "cell_type": "code",
   "execution_count": 10,
   "metadata": {},
   "outputs": [],
   "source": [
    "class Employee:\n",
    "    \n",
    "    'Common base class for all employees'\n",
    "    \n",
    "    empCount = 0\n",
    "    \n",
    "    def __init__(self, name, salary):\n",
    "        self.name = name\n",
    "        self.salary = salary\n",
    "        Employee.empCount += 1\n",
    "    \n",
    "    def displayCount(self):\n",
    "        print('Total Employee',Employee.empCount)\n",
    "    \n",
    "    def displayEmployee(self):\n",
    "        print('Name: ', self.name, ', Salary: ', self.salary)\n",
    "\n",
    "emp1 = Employee('Jasmeet', 2000)\n",
    "emp2 = Employee('Rohan', 5000)\n",
    "emp3 = Employee('Deepanshi', 6000)"
   ]
  },
  {
   "cell_type": "code",
   "execution_count": 11,
   "metadata": {},
   "outputs": [
    {
     "name": "stdout",
     "output_type": "stream",
     "text": [
      "Name:  Jasmeet , Salary:  2000\n",
      "Name:  Rohan , Salary:  5000\n",
      "Name:  Deepanshi , Salary:  6000\n"
     ]
    }
   ],
   "source": [
    "emp1.displayEmployee()\n",
    "emp2.displayEmployee()\n",
    "emp3.displayEmployee()"
   ]
  },
  {
   "cell_type": "code",
   "execution_count": 12,
   "metadata": {},
   "outputs": [
    {
     "name": "stdout",
     "output_type": "stream",
     "text": [
      "Total Employee 3\n"
     ]
    }
   ],
   "source": [
    "emp1.displayCount()"
   ]
  },
  {
   "cell_type": "markdown",
   "metadata": {},
   "source": [
    "### Inheritance"
   ]
  },
  {
   "cell_type": "markdown",
   "metadata": {},
   "source": [
    "Super() - The function returns a temporary object that allows reference to a parent class by the keyword super."
   ]
  },
  {
   "cell_type": "code",
   "execution_count": 13,
   "metadata": {},
   "outputs": [
    {
     "name": "stdout",
     "output_type": "stream",
     "text": [
      "Student name 23\n",
      "Student age AI\n",
      "Student batch Jasmeet\n"
     ]
    }
   ],
   "source": [
    "class DataFolkz():\n",
    "    \n",
    "    def __init__(self, batch): \n",
    "        self.batch = batch\n",
    "\n",
    "class Details(DataFolkz):\n",
    "    \n",
    "    def __init__(self, batch, name, age):\n",
    "        super().__init__(batch) # super is used to inherit the attribute batch\n",
    "        self.name = name\n",
    "        self.age = age\n",
    "\n",
    "student = Details('Jasmeet','23','AI')\n",
    "print('Student name',student.name)\n",
    "print('Student age',student.age)\n",
    "print('Student batch',student.batch)"
   ]
  },
  {
   "cell_type": "markdown",
   "metadata": {},
   "source": [
    "### Multiple Inheritance"
   ]
  },
  {
   "cell_type": "code",
   "execution_count": 14,
   "metadata": {},
   "outputs": [],
   "source": [
    "class DataFolkz():\n",
    "    \n",
    "    def __init__(self, batch): \n",
    "        self.batch = batch\n",
    "\n",
    "class Details(DataFolkz):\n",
    "    \n",
    "    def __init__(self, batch, name, age):\n",
    "        super().__init__(batch)\n",
    "        self.name = name\n",
    "        self.age = age\n",
    "        \n",
    "class Assignments(Details):\n",
    "    \n",
    "    def __init__(self, batch, name, age, assignment):\n",
    "        super().__init__(batch, name, age)\n",
    "        self.assignment = assignment\n",
    "        \n",
    "class Dropped(Details):\n",
    "    \n",
    "    def __init__(self, batch, name, age, status):\n",
    "        super().__init__(batch, name, age)\n",
    "        self.status = status"
   ]
  },
  {
   "attachments": {
    "Screenshot%202020-08-25%20at%204.43.39%20PM.png": {
     "image/png": "[encoded data removed]"
    }
   },
   "cell_type": "markdown",
   "metadata": {},
   "source": [
    "![Multiple Inheritance.png](attachment:Screenshot%202020-08-25%20at%204.43.39%20PM.png)"
   ]
  },
  {
   "cell_type": "code",
   "execution_count": 15,
   "metadata": {},
   "outputs": [
    {
     "name": "stdout",
     "output_type": "stream",
     "text": [
      "Student name: 23\n",
      "Student age: AI\n",
      "Student batch: Jasmeet\n",
      "Student batch: EDA\n"
     ]
    }
   ],
   "source": [
    "student = Assignments('Jasmeet','23','AI','EDA')\n",
    "print('Student name:',student.name)\n",
    "print('Student age:',student.age)\n",
    "print('Student batch:',student.batch)\n",
    "print('Student batch:',student.assignment)"
   ]
  },
  {
   "cell_type": "code",
   "execution_count": 16,
   "metadata": {},
   "outputs": [
    {
     "name": "stdout",
     "output_type": "stream",
     "text": [
      "Student drop status: Yes\n"
     ]
    }
   ],
   "source": [
    "drop = Dropped('Rohan','26','DS','Yes')\n",
    "print('Student drop status:',drop.status)"
   ]
  },
  {
   "cell_type": "markdown",
   "metadata": {},
   "source": [
    "### Polymorphism"
   ]
  },
  {
   "cell_type": "markdown",
   "metadata": {},
   "source": [
    "Polymorphism is the ability to take many forms.\n",
    "\n",
    "We've defined 2 functions below with the same name but both the function perform differently, this ability is known as polymorphism"
   ]
  },
  {
   "cell_type": "code",
   "execution_count": 17,
   "metadata": {},
   "outputs": [],
   "source": [
    "a = 4\n",
    "b = 5\n",
    "\n",
    "class class_1:\n",
    "    \n",
    "    def func(self):\n",
    "        print('Sum = ',a+b)\n",
    "\n",
    "class class_2:\n",
    "    \n",
    "    def func(self): # Function defined with the same name as declared in class_1\n",
    "        print('Difference = ',a-b)\n",
    "        \n",
    "obj_1 = class_1() # Here the func() performs addition\n",
    "obj_2 = class_2() # Here the func() performs subtraction"
   ]
  },
  {
   "cell_type": "code",
   "execution_count": 18,
   "metadata": {},
   "outputs": [
    {
     "name": "stdout",
     "output_type": "stream",
     "text": [
      "Sum =  9\n",
      "Difference =  -1\n"
     ]
    }
   ],
   "source": [
    "obj_1.func()\n",
    "obj_2.func()"
   ]
  },
  {
   "cell_type": "markdown",
   "metadata": {},
   "source": [
    "### Data Abstraction\n",
    "\n",
    "Abstraction in Python is the process of hiding the real implementation of an application from the user and \n",
    "emphasizing only on usage of it.\n",
    "\n",
    "A class containing one or more abstract methods is called an abstract class. A method without body (no implementation) is known as abstract method. \n",
    "\n",
    "- An abstract class can have both a normal method and an abstract method\n",
    "- An abstract class cannot be instantiated, ie., we cannot create objects for the abstract class"
   ]
  },
  {
   "cell_type": "code",
   "execution_count": 19,
   "metadata": {},
   "outputs": [
    {
     "name": "stdout",
     "output_type": "stream",
     "text": [
      "Area of a rectangle: 120\n",
      "Area of a circle: 153.86\n"
     ]
    }
   ],
   "source": [
    "from abc import ABC # This module in Python library provides the infrastructure for defining custom abstract base classes\n",
    "\n",
    "class Shape(ABC): # abstract class\n",
    "    def calculate_area(self): # abstract method\n",
    "        pass\n",
    "\n",
    "class Rectangle(Shape):\n",
    "    length = 10\n",
    "    breadth = 12\n",
    "    def calculate_area(self):\n",
    "        return self.length * self.breadth\n",
    "\n",
    "class Circle(Shape):\n",
    "    radius = 7\n",
    "    def calculate_area(self):\n",
    "        return 3.14 * self.radius * self.radius\n",
    "\n",
    "rec = Rectangle() # object created for the class 'Rectangle'\n",
    "cir = Circle() # object created for the class 'Circle'\n",
    "print(\"Area of a rectangle:\", rec.calculate_area()) # call to 'calculate_area' method defined inside the class 'Rectangle'\n",
    "print(\"Area of a circle:\", cir.calculate_area()) # call to 'calculate_area' method defined inside the class 'Circle'."
   ]
  },
  {
   "cell_type": "markdown",
   "metadata": {},
   "source": [
    "### Encapsulation"
   ]
  },
  {
   "cell_type": "markdown",
   "metadata": {},
   "source": [
    "Encapsulation means that the internal representation of an object is generally hidden from view outside of the object’s definition.\n",
    "\n",
    "<b>Encapsulation:</b> — Information hiding.\n",
    "\n",
    "<b>Abstraction:</b> — Implementation hiding."
   ]
  },
  {
   "cell_type": "code",
   "execution_count": 20,
   "metadata": {},
   "outputs": [
    {
     "name": "stdout",
     "output_type": "stream",
     "text": [
      "Jasmeet\n",
      "Jasmeet Singh\n"
     ]
    },
    {
     "ename": "AttributeError",
     "evalue": "'Person' object has no attribute '__lastname'",
     "output_type": "error",
     "traceback": [
      "\u001b[0;31m---------------------------------------------------------------------------\u001b[0m",
      "\u001b[0;31mAttributeError\u001b[0m                            Traceback (most recent call last)",
      "\u001b[0;32m<ipython-input-20-1ad9b6244dd8>\u001b[0m in \u001b[0;36m<module>\u001b[0;34m()\u001b[0m\n\u001b[1;32m     11\u001b[0m \u001b[0mprint\u001b[0m\u001b[0;34m(\u001b[0m\u001b[0mP\u001b[0m\u001b[0;34m.\u001b[0m\u001b[0mname\u001b[0m\u001b[0;34m)\u001b[0m\u001b[0;34m\u001b[0m\u001b[0;34m\u001b[0m\u001b[0m\n\u001b[1;32m     12\u001b[0m \u001b[0mprint\u001b[0m\u001b[0;34m(\u001b[0m\u001b[0mP\u001b[0m\u001b[0;34m.\u001b[0m\u001b[0mPrintName\u001b[0m\u001b[0;34m(\u001b[0m\u001b[0;34m)\u001b[0m\u001b[0;34m)\u001b[0m\u001b[0;34m\u001b[0m\u001b[0;34m\u001b[0m\u001b[0m\n\u001b[0;32m---> 13\u001b[0;31m \u001b[0mprint\u001b[0m\u001b[0;34m(\u001b[0m\u001b[0mP\u001b[0m\u001b[0;34m.\u001b[0m\u001b[0m__lastname\u001b[0m\u001b[0;34m)\u001b[0m \u001b[0;31m# This will throw an error because lastname is a private member, it cannot be accessed by PrintName method\u001b[0m\u001b[0;34m\u001b[0m\u001b[0;34m\u001b[0m\u001b[0m\n\u001b[0m",
      "\u001b[0;31mAttributeError\u001b[0m: 'Person' object has no attribute '__lastname'"
     ]
    }
   ],
   "source": [
    "class Person:\n",
    "    \n",
    "    def __init__(self): \n",
    "        self.name = 'Jasmeet'\n",
    "        self.__lastname = 'Singh' # We define private member using __\n",
    "    \n",
    "    def PrintName(self):\n",
    "        return self.name +' ' + self.__lastname\n",
    "       \n",
    "P = Person()\n",
    "print(P.name)\n",
    "print(P.PrintName())\n",
    "print(P.__lastname) # This will throw an error because lastname is a private member, it cannot be accessed by PrintName method"
   ]
  },
  {
   "cell_type": "code",
   "execution_count": 21,
   "metadata": {},
   "outputs": [
    {
     "name": "stdout",
     "output_type": "stream",
     "text": [
      "Jasmeet\n",
      "Jasmeet Singh\n",
      "Singh\n"
     ]
    }
   ],
   "source": [
    "class Person:\n",
    "    \n",
    "    def __init__(self): \n",
    "        self.name = 'Jasmeet'\n",
    "        self.__lastname = 'Singh' # We define private member using __\n",
    "    \n",
    "    def PrintName(self):\n",
    "        return self.name +' ' + self.__lastname\n",
    "       \n",
    "P = Person()\n",
    "print(P.name)\n",
    "print(P.PrintName())\n",
    "print(P._Person__lastname) # Accessing the private member"
   ]
  },
  {
   "cell_type": "code",
   "execution_count": null,
   "metadata": {},
   "outputs": [],
   "source": []
  }
 ],
 "metadata": {
  "kernelspec": {
   "display_name": "Python 3",
   "language": "python",
   "name": "python3"
  },
  "language_info": {
   "codemirror_mode": {
    "name": "ipython",
    "version": 3
   },
   "file_extension": ".py",
   "mimetype": "text/x-python",
   "name": "python",
   "nbconvert_exporter": "python",
   "pygments_lexer": "ipython3",
   "version": "3.7.4"
  }
 },
 "nbformat": 4,
 "nbformat_minor": 2
}
